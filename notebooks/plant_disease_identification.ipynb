{
 "cells": [
  {
   "cell_type": "markdown",
   "metadata": {
    "id": "aO-Y7Haaqef6"
   },
   "source": [
    "# Plant Disease Identification"
   ]
  },
  {
   "cell_type": "markdown",
   "metadata": {
    "id": "yjkssk0lqlw6"
   },
   "source": [
    "This Jupyter Notebook aims to implement a Convolutional Neural Network (CNN) for the identification of plant diseases based on images. Accurate and timely identification of plant diseases is crucial for effective agricultural management, enabling early intervention and mitigation strategies."
   ]
  },
  {
   "cell_type": "markdown",
   "metadata": {
    "id": "c6stkK2sqqQJ"
   },
   "source": [
    "## About Dataset"
   ]
  },
  {
   "cell_type": "markdown",
   "metadata": {
    "id": "YjegcJ88qwQx"
   },
   "source": [
    "This dataset is recreated using offline augmentation from the original dataset. The original dataset can be found on this github repo. This dataset consists of about 87K rgb images of healthy and diseased crop leaves which is categorized into 38 different classes. The total dataset is divided into 80/20 ratio of training and validation set preserving the directory structure. A new directory containing 33 test images is created later for prediction purpose."
   ]
  },
  {
   "cell_type": "markdown",
   "metadata": {
    "id": "KM5U6wkXq0yQ"
   },
   "source": [
    "## **Using Dataset from Kaggle**"
   ]
  },
  {
   "cell_type": "code",
   "execution_count": 1,
   "metadata": {
    "id": "HbmAQdtNaccy"
   },
   "outputs": [
    {
     "name": "stdout",
     "output_type": "stream",
     "text": [
      "Note: you may need to restart the kernel to use updated packages.\n"
     ]
    },
    {
     "name": "stderr",
     "output_type": "stream",
     "text": [
      "\n",
      "[notice] A new release of pip is available: 25.1 -> 25.2\n",
      "[notice] To update, run: python.exe -m pip install --upgrade pip\n"
     ]
    }
   ],
   "source": [
    "#1.install kaggle\n",
    "%pip install -q kaggle\n"
   ]
  },
  {
   "cell_type": "code",
   "execution_count": 2,
   "metadata": {},
   "outputs": [
    {
     "name": "stdout",
     "output_type": "stream",
     "text": [
      "Collecting jupyter\n",
      "  Using cached jupyter-1.1.1-py2.py3-none-any.whl.metadata (2.0 kB)\n",
      "Requirement already satisfied: jupyterlab in c:\\users\\jayan\\appdata\\local\\programs\\python\\python312\\lib\\site-packages (4.4.6)\n",
      "Note: you may need to restart the kernel to use updated packages.\n"
     ]
    },
    {
     "name": "stderr",
     "output_type": "stream",
     "text": [
      "ERROR: Could not find a version that satisfies the requirement google-colab (from versions: none)\n",
      "\n",
      "[notice] A new release of pip is available: 25.1 -> 25.2\n",
      "[notice] To update, run: python.exe -m pip install --upgrade pip\n",
      "ERROR: No matching distribution found for google-colab\n"
     ]
    }
   ],
   "source": [
    "%pip install jupyter jupyterlab google-colab\n"
   ]
  },
  {
   "cell_type": "code",
   "execution_count": 3,
   "metadata": {},
   "outputs": [
    {
     "name": "stdout",
     "output_type": "stream",
     "text": [
      "Requirement already satisfied: ipywidgets in c:\\users\\jayan\\appdata\\local\\programs\\python\\python312\\lib\\site-packages (8.1.7)\n",
      "Requirement already satisfied: comm>=0.1.3 in c:\\users\\jayan\\appdata\\roaming\\python\\python312\\site-packages (from ipywidgets) (0.2.2)\n",
      "Requirement already satisfied: ipython>=6.1.0 in c:\\users\\jayan\\appdata\\roaming\\python\\python312\\site-packages (from ipywidgets) (9.4.0)\n",
      "Requirement already satisfied: traitlets>=4.3.1 in c:\\users\\jayan\\appdata\\roaming\\python\\python312\\site-packages (from ipywidgets) (5.14.3)\n",
      "Requirement already satisfied: widgetsnbextension~=4.0.14 in c:\\users\\jayan\\appdata\\local\\programs\\python\\python312\\lib\\site-packages (from ipywidgets) (4.0.14)\n",
      "Requirement already satisfied: jupyterlab_widgets~=3.0.15 in c:\\users\\jayan\\appdata\\local\\programs\\python\\python312\\lib\\site-packages (from ipywidgets) (3.0.15)\n",
      "Requirement already satisfied: colorama in c:\\users\\jayan\\appdata\\local\\programs\\python\\python312\\lib\\site-packages (from ipython>=6.1.0->ipywidgets) (0.4.6)\n",
      "Requirement already satisfied: decorator in c:\\users\\jayan\\appdata\\roaming\\python\\python312\\site-packages (from ipython>=6.1.0->ipywidgets) (5.2.1)\n",
      "Requirement already satisfied: ipython-pygments-lexers in c:\\users\\jayan\\appdata\\roaming\\python\\python312\\site-packages (from ipython>=6.1.0->ipywidgets) (1.1.1)\n",
      "Requirement already satisfied: jedi>=0.16 in c:\\users\\jayan\\appdata\\roaming\\python\\python312\\site-packages (from ipython>=6.1.0->ipywidgets) (0.19.2)\n",
      "Requirement already satisfied: matplotlib-inline in c:\\users\\jayan\\appdata\\roaming\\python\\python312\\site-packages (from ipython>=6.1.0->ipywidgets) (0.1.7)\n",
      "Requirement already satisfied: prompt_toolkit<3.1.0,>=3.0.41 in c:\\users\\jayan\\appdata\\local\\programs\\python\\python312\\lib\\site-packages (from ipython>=6.1.0->ipywidgets) (3.0.51)\n",
      "Requirement already satisfied: pygments>=2.4.0 in c:\\users\\jayan\\appdata\\local\\programs\\python\\python312\\lib\\site-packages (from ipython>=6.1.0->ipywidgets) (2.19.1)\n",
      "Requirement already satisfied: stack_data in c:\\users\\jayan\\appdata\\roaming\\python\\python312\\site-packages (from ipython>=6.1.0->ipywidgets) (0.6.3)\n",
      "Requirement already satisfied: wcwidth in c:\\users\\jayan\\appdata\\local\\programs\\python\\python312\\lib\\site-packages (from prompt_toolkit<3.1.0,>=3.0.41->ipython>=6.1.0->ipywidgets) (0.2.13)\n",
      "Requirement already satisfied: parso<0.9.0,>=0.8.4 in c:\\users\\jayan\\appdata\\roaming\\python\\python312\\site-packages (from jedi>=0.16->ipython>=6.1.0->ipywidgets) (0.8.4)\n",
      "Requirement already satisfied: executing>=1.2.0 in c:\\users\\jayan\\appdata\\roaming\\python\\python312\\site-packages (from stack_data->ipython>=6.1.0->ipywidgets) (2.2.0)\n",
      "Requirement already satisfied: asttokens>=2.1.0 in c:\\users\\jayan\\appdata\\roaming\\python\\python312\\site-packages (from stack_data->ipython>=6.1.0->ipywidgets) (3.0.0)\n",
      "Requirement already satisfied: pure-eval in c:\\users\\jayan\\appdata\\roaming\\python\\python312\\site-packages (from stack_data->ipython>=6.1.0->ipywidgets) (0.2.3)\n",
      "Note: you may need to restart the kernel to use updated packages.\n"
     ]
    },
    {
     "name": "stderr",
     "output_type": "stream",
     "text": [
      "\n",
      "[notice] A new release of pip is available: 25.1 -> 25.2\n",
      "[notice] To update, run: python.exe -m pip install --upgrade pip\n"
     ]
    },
    {
     "name": "stdout",
     "output_type": "stream",
     "text": [
      "Note: you may need to restart the kernel to use updated packages.\n"
     ]
    },
    {
     "name": "stderr",
     "output_type": "stream",
     "text": [
      "ERROR: Could not find a version that satisfies the requirement google.colab (from versions: none)\n",
      "\n",
      "[notice] A new release of pip is available: 25.1 -> 25.2\n",
      "[notice] To update, run: python.exe -m pip install --upgrade pip\n",
      "ERROR: No matching distribution found for google.colab\n"
     ]
    }
   ],
   "source": [
    "%pip install ipywidgets\n",
    "%pip install google.colab\n"
   ]
  },
  {
   "cell_type": "code",
   "execution_count": 5,
   "metadata": {
    "colab": {
     "base_uri": "https://localhost:8080/",
     "height": 90
    },
    "id": "rl9-5f3YbTeL",
    "outputId": "fffa287f-9515-44e1-81c5-647f3385af09"
   },
   "outputs": [
    {
     "ename": "ModuleNotFoundError",
     "evalue": "No module named 'google.colab'",
     "output_type": "error",
     "traceback": [
      "\u001b[31m---------------------------------------------------------------------------\u001b[39m",
      "\u001b[31mModuleNotFoundError\u001b[39m                       Traceback (most recent call last)",
      "\u001b[36mCell\u001b[39m\u001b[36m \u001b[39m\u001b[32mIn[5]\u001b[39m\u001b[32m, line 1\u001b[39m\n\u001b[32m----> \u001b[39m\u001b[32m1\u001b[39m \u001b[38;5;28;01mfrom\u001b[39;00m\u001b[38;5;250m \u001b[39m\u001b[34;01mgoogle\u001b[39;00m\u001b[34;01m.\u001b[39;00m\u001b[34;01mcolab\u001b[39;00m\u001b[38;5;250m \u001b[39m\u001b[38;5;28;01mimport\u001b[39;00m files\n\u001b[32m      2\u001b[39m files.upload()\n",
      "\u001b[31mModuleNotFoundError\u001b[39m: No module named 'google.colab'"
     ]
    }
   ],
   "source": [
    "from google.colab import files\n",
    "files.upload()"
   ]
  },
  {
   "cell_type": "code",
   "execution_count": 8,
   "metadata": {
    "colab": {
     "base_uri": "https://localhost:8080/"
    },
    "id": "KgLTuUeWbh3D",
    "outputId": "ecac425d-f5dd-4a60-cde6-654579624487"
   },
   "outputs": [
    {
     "name": "stderr",
     "output_type": "stream",
     "text": [
      "The syntax of the command is incorrect.\n"
     ]
    }
   ],
   "source": [
    "#create a kaggle folder\n",
    "mkdir ~/.kaggle"
   ]
  },
  {
   "cell_type": "code",
   "execution_count": 9,
   "metadata": {
    "id": "T9KCeawYcOX9"
   },
   "outputs": [
    {
     "ename": "SyntaxError",
     "evalue": "invalid syntax (1572296621.py, line 2)",
     "output_type": "error",
     "traceback": [
      "\u001b[1;36m  Cell \u001b[1;32mIn[9], line 2\u001b[1;36m\u001b[0m\n\u001b[1;33m    cp kaggle.json ~/.kaggle/\u001b[0m\n\u001b[1;37m       ^\u001b[0m\n\u001b[1;31mSyntaxError\u001b[0m\u001b[1;31m:\u001b[0m invalid syntax\n"
     ]
    }
   ],
   "source": [
    "#copy the kaggle.json to folder created\n",
    "cp kaggle.json ~/.kaggle/"
   ]
  },
  {
   "cell_type": "code",
   "execution_count": 15,
   "metadata": {
    "id": "NPX0jQwhcbZO"
   },
   "outputs": [
    {
     "name": "stderr",
     "output_type": "stream",
     "text": [
      "chmod: getting attributes of `~/.kaggle/kaggle.json': No such file or directory\n"
     ]
    }
   ],
   "source": [
    "#permission for the json to act\n",
    "!chmod 600 ~/.kaggle/kaggle.json"
   ]
  },
  {
   "cell_type": "code",
   "execution_count": 14,
   "metadata": {
    "colab": {
     "base_uri": "https://localhost:8080/"
    },
    "id": "o9tHfcfccpiU",
    "outputId": "a24fb71e-f128-4966-caf0-02ac908d0e7f"
   },
   "outputs": [
    {
     "name": "stderr",
     "output_type": "stream",
     "text": [
      "Traceback (most recent call last):\n",
      "  File \"c:\\users\\kowshika d\\appdata\\local\\programs\\python\\python39\\lib\\runpy.py\", line 197, in _run_module_as_main\n",
      "    return _run_code(code, main_globals, None,\n",
      "  File \"c:\\users\\kowshika d\\appdata\\local\\programs\\python\\python39\\lib\\runpy.py\", line 87, in _run_code\n",
      "    exec(code, run_globals)\n",
      "  File \"C:\\Users\\KOWSHIKA D\\AppData\\Local\\Programs\\Python\\Python39\\Scripts\\kaggle.exe\\__main__.py\", line 4, in <module>\n",
      "  File \"c:\\users\\kowshika d\\appdata\\local\\programs\\python\\python39\\lib\\site-packages\\kaggle\\__init__.py\", line 7, in <module>\n",
      "    api.authenticate()\n",
      "  File \"c:\\users\\kowshika d\\appdata\\local\\programs\\python\\python39\\lib\\site-packages\\kaggle\\api\\kaggle_api_extended.py\", line 398, in authenticate\n",
      "    raise IOError('Could not find {}. Make sure it\\'s located in'\n",
      "OSError: Could not find kaggle.json. Make sure it's located in C:\\Users\\KOWSHIKA D\\.kaggle. Or use the environment method.\n"
     ]
    }
   ],
   "source": [
    "! kaggle datasets list"
   ]
  },
  {
   "cell_type": "code",
   "execution_count": 13,
   "metadata": {
    "colab": {
     "base_uri": "https://localhost:8080/"
    },
    "id": "821LL0Bmc3yq",
    "outputId": "051336be-895b-41d9-eba7-bfdb00fd7934"
   },
   "outputs": [
    {
     "name": "stderr",
     "output_type": "stream",
     "text": [
      "2024-10-05 23:39:32,198 WARNING Retrying (Retry(total=2, connect=None, read=None, redirect=None, status=None)) after connection broken by 'NewConnectionError('<urllib3.connection.HTTPSConnection object at 0x000001E17981DEE0>: Failed to establish a new connection: [Errno 11001] getaddrinfo failed')': /api/v1/datasets/metadata/vipoooool/new-plant-diseases-dataset\n",
      "2024-10-05 23:39:32,204 WARNING Retrying (Retry(total=1, connect=None, read=None, redirect=None, status=None)) after connection broken by 'NewConnectionError('<urllib3.connection.HTTPSConnection object at 0x000001E1798380A0>: Failed to establish a new connection: [Errno 11001] getaddrinfo failed')': /api/v1/datasets/metadata/vipoooool/new-plant-diseases-dataset\n",
      "2024-10-05 23:39:32,225 WARNING Retrying (Retry(total=0, connect=None, read=None, redirect=None, status=None)) after connection broken by 'NewConnectionError('<urllib3.connection.HTTPSConnection object at 0x000001E179838220>: Failed to establish a new connection: [Errno 11001] getaddrinfo failed')': /api/v1/datasets/metadata/vipoooool/new-plant-diseases-dataset\n",
      "Traceback (most recent call last):\n",
      "  File \"c:\\users\\kowshika d\\appdata\\local\\programs\\python\\python39\\lib\\site-packages\\urllib3\\connection.py\", line 174, in _new_conn\n",
      "    conn = connection.create_connection(\n",
      "  File \"c:\\users\\kowshika d\\appdata\\local\\programs\\python\\python39\\lib\\site-packages\\urllib3\\util\\connection.py\", line 72, in create_connection\n",
      "    for res in socket.getaddrinfo(host, port, family, socket.SOCK_STREAM):\n",
      "  File \"c:\\users\\kowshika d\\appdata\\local\\programs\\python\\python39\\lib\\socket.py\", line 953, in getaddrinfo\n",
      "    for res in _socket.getaddrinfo(host, port, family, type, proto, flags):\n",
      "socket.gaierror: [Errno 11001] getaddrinfo failed\n",
      "\n",
      "During handling of the above exception, another exception occurred:\n",
      "\n",
      "Traceback (most recent call last):\n",
      "  File \"c:\\users\\kowshika d\\appdata\\local\\programs\\python\\python39\\lib\\site-packages\\urllib3\\connectionpool.py\", line 715, in urlopen\n",
      "    httplib_response = self._make_request(\n",
      "  File \"c:\\users\\kowshika d\\appdata\\local\\programs\\python\\python39\\lib\\site-packages\\urllib3\\connectionpool.py\", line 404, in _make_request\n",
      "    self._validate_conn(conn)\n",
      "  File \"c:\\users\\kowshika d\\appdata\\local\\programs\\python\\python39\\lib\\site-packages\\urllib3\\connectionpool.py\", line 1060, in _validate_conn\n",
      "    conn.connect()\n",
      "  File \"c:\\users\\kowshika d\\appdata\\local\\programs\\python\\python39\\lib\\site-packages\\urllib3\\connection.py\", line 363, in connect\n",
      "    self.sock = conn = self._new_conn()\n",
      "  File \"c:\\users\\kowshika d\\appdata\\local\\programs\\python\\python39\\lib\\site-packages\\urllib3\\connection.py\", line 186, in _new_conn\n",
      "    raise NewConnectionError(\n",
      "urllib3.exceptions.NewConnectionError: <urllib3.connection.HTTPSConnection object at 0x000001E17981D910>: Failed to establish a new connection: [Errno 11001] getaddrinfo failed\n",
      "\n",
      "During handling of the above exception, another exception occurred:\n",
      "\n",
      "Traceback (most recent call last):\n",
      "  File \"c:\\users\\kowshika d\\appdata\\local\\programs\\python\\python39\\lib\\runpy.py\", line 197, in _run_module_as_main\n",
      "    return _run_code(code, main_globals, None,\n",
      "  File \"c:\\users\\kowshika d\\appdata\\local\\programs\\python\\python39\\lib\\runpy.py\", line 87, in _run_code\n",
      "    exec(code, run_globals)\n",
      "  File \"C:\\Users\\KOWSHIKA D\\AppData\\Local\\Programs\\Python\\Python39\\Scripts\\kaggle.exe\\__main__.py\", line 7, in <module>\n",
      "  File \"c:\\users\\kowshika d\\appdata\\local\\programs\\python\\python39\\lib\\site-packages\\kaggle\\cli.py\", line 54, in main\n",
      "    out = args.func(**command_args)\n",
      "  File \"c:\\users\\kowshika d\\appdata\\local\\programs\\python\\python39\\lib\\site-packages\\kaggle\\api\\kaggle_api_extended.py\", line 1560, in dataset_download_cli\n",
      "    self.metadata_get_with_http_info(owner_slug, dataset_slug))\n",
      "  File \"c:\\users\\kowshika d\\appdata\\local\\programs\\python\\python39\\lib\\site-packages\\kaggle\\api\\kaggle_api.py\", line 3335, in metadata_get_with_http_info\n",
      "    return self.api_client.call_api(\n",
      "  File \"c:\\users\\kowshika d\\appdata\\local\\programs\\python\\python39\\lib\\site-packages\\kaggle\\api_client.py\", line 313, in call_api\n",
      "    return self.__call_api(resource_path, method,\n",
      "  File \"c:\\users\\kowshika d\\appdata\\local\\programs\\python\\python39\\lib\\site-packages\\kaggle\\api_client.py\", line 145, in __call_api\n",
      "    response_data = self.request(\n",
      "  File \"c:\\users\\kowshika d\\appdata\\local\\programs\\python\\python39\\lib\\site-packages\\kaggle\\api_client.py\", line 335, in request\n",
      "    return self.rest_client.GET(url,\n",
      "  File \"c:\\users\\kowshika d\\appdata\\local\\programs\\python\\python39\\lib\\site-packages\\kaggle\\rest.py\", line 231, in GET\n",
      "    return self.request(\"GET\", url,\n",
      "  File \"c:\\users\\kowshika d\\appdata\\local\\programs\\python\\python39\\lib\\site-packages\\kaggle\\rest.py\", line 204, in request\n",
      "    r = self.pool_manager.request(method, url,\n",
      "  File \"c:\\users\\kowshika d\\appdata\\local\\programs\\python\\python39\\lib\\site-packages\\urllib3\\request.py\", line 77, in request\n",
      "    return self.request_encode_url(\n",
      "  File \"c:\\users\\kowshika d\\appdata\\local\\programs\\python\\python39\\lib\\site-packages\\urllib3\\request.py\", line 99, in request_encode_url\n",
      "    return self.urlopen(method, url, **extra_kw)\n",
      "  File \"c:\\users\\kowshika d\\appdata\\local\\programs\\python\\python39\\lib\\site-packages\\urllib3\\poolmanager.py\", line 376, in urlopen\n",
      "    response = conn.urlopen(method, u.request_uri, **kw)\n",
      "  File \"c:\\users\\kowshika d\\appdata\\local\\programs\\python\\python39\\lib\\site-packages\\urllib3\\connectionpool.py\", line 829, in urlopen\n",
      "    return self.urlopen(\n",
      "  File \"c:\\users\\kowshika d\\appdata\\local\\programs\\python\\python39\\lib\\site-packages\\urllib3\\connectionpool.py\", line 829, in urlopen\n",
      "    return self.urlopen(\n",
      "  File \"c:\\users\\kowshika d\\appdata\\local\\programs\\python\\python39\\lib\\site-packages\\urllib3\\connectionpool.py\", line 829, in urlopen\n",
      "    return self.urlopen(\n",
      "  File \"c:\\users\\kowshika d\\appdata\\local\\programs\\python\\python39\\lib\\site-packages\\urllib3\\connectionpool.py\", line 801, in urlopen\n",
      "    retries = retries.increment(\n",
      "  File \"c:\\users\\kowshika d\\appdata\\local\\programs\\python\\python39\\lib\\site-packages\\urllib3\\util\\retry.py\", line 594, in increment\n",
      "    raise MaxRetryError(_pool, url, error or ResponseError(cause))\n",
      "urllib3.exceptions.MaxRetryError: HTTPSConnectionPool(host='www.kaggle.com', port=443): Max retries exceeded with url: /api/v1/datasets/metadata/vipoooool/new-plant-diseases-dataset (Caused by NewConnectionError('<urllib3.connection.HTTPSConnection object at 0x000001E17981D910>: Failed to establish a new connection: [Errno 11001] getaddrinfo failed'))\n"
     ]
    }
   ],
   "source": [
    "!kaggle datasets download vipoooool/new-plant-diseases-dataset"
   ]
  },
  {
   "cell_type": "code",
   "execution_count": 12,
   "metadata": {
    "colab": {
     "base_uri": "https://localhost:8080/"
    },
    "id": "hCeSiqh6ecuN",
    "outputId": "a85d95f5-de4f-41de-cbea-26951a952ba1"
   },
   "outputs": [
    {
     "name": "stderr",
     "output_type": "stream",
     "text": [
      "'unzip' is not recognized as an internal or external command,\n",
      "operable program or batch file.\n"
     ]
    }
   ],
   "source": [
    "!unzip new-plant-diseases-dataset.zip\n"
   ]
  },
  {
   "cell_type": "markdown",
   "metadata": {
    "id": "6CIT1rkFtBwM"
   },
   "source": [
    "**Let's Start Buiding Deep Learning Model**"
   ]
  },
  {
   "cell_type": "markdown",
   "metadata": {
    "id": "wtBA7ymdtIV7"
   },
   "source": [
    "## Importing Necessary Libraries"
   ]
  },
  {
   "cell_type": "code",
   "execution_count": 1,
   "metadata": {
    "id": "cv3RIVAAevbD"
   },
   "outputs": [
    {
     "ename": "ModuleNotFoundError",
     "evalue": "No module named 'seaborn'",
     "output_type": "error",
     "traceback": [
      "\u001b[31m---------------------------------------------------------------------------\u001b[39m",
      "\u001b[31mModuleNotFoundError\u001b[39m                       Traceback (most recent call last)",
      "\u001b[36mCell\u001b[39m\u001b[36m \u001b[39m\u001b[32mIn[1]\u001b[39m\u001b[32m, line 13\u001b[39m\n\u001b[32m     11\u001b[39m \u001b[38;5;28;01mimport\u001b[39;00m\u001b[38;5;250m \u001b[39m\u001b[34;01mos\u001b[39;00m\n\u001b[32m     12\u001b[39m \u001b[38;5;28;01mfrom\u001b[39;00m\u001b[38;5;250m \u001b[39m\u001b[34;01mPIL\u001b[39;00m\u001b[38;5;250m \u001b[39m\u001b[38;5;28;01mimport\u001b[39;00m Image\n\u001b[32m---> \u001b[39m\u001b[32m13\u001b[39m \u001b[38;5;28;01mimport\u001b[39;00m\u001b[38;5;250m \u001b[39m\u001b[34;01mseaborn\u001b[39;00m\u001b[38;5;250m \u001b[39m\u001b[38;5;28;01mas\u001b[39;00m\u001b[38;5;250m \u001b[39m\u001b[34;01msns\u001b[39;00m\n\u001b[32m     14\u001b[39m \u001b[38;5;28;01mimport\u001b[39;00m\u001b[38;5;250m \u001b[39m\u001b[34;01mcv2\u001b[39;00m\n\u001b[32m     15\u001b[39m \u001b[38;5;28;01mfrom\u001b[39;00m\u001b[38;5;250m \u001b[39m\u001b[34;01mtensorflow\u001b[39;00m\u001b[34;01m.\u001b[39;00m\u001b[34;01mkeras\u001b[39;00m\u001b[34;01m.\u001b[39;00m\u001b[34;01mpreprocessing\u001b[39;00m\u001b[34;01m.\u001b[39;00m\u001b[34;01mimage\u001b[39;00m\u001b[38;5;250m \u001b[39m\u001b[38;5;28;01mimport\u001b[39;00m ImageDataGenerator\n",
      "\u001b[31mModuleNotFoundError\u001b[39m: No module named 'seaborn'"
     ]
    }
   ],
   "source": [
    "import pandas as pd\n",
    "import numpy as np\n",
    "import matplotlib.pyplot as plt\n",
    "import matplotlib.image as mpimg\n",
    "import os\n",
    "import tensorflow as tf\n",
    "from tensorflow.keras import layers, models\n",
    "from tensorflow.keras.models import *\n",
    "from tensorflow.keras.layers import *\n",
    "from tensorflow.keras.preprocessing.image import ImageDataGenerator, img_to_array\n",
    "import os\n",
    "from PIL import Image\n",
    "import seaborn as sns\n",
    "import cv2\n",
    "from tensorflow.keras.preprocessing.image import ImageDataGenerator"
   ]
  },
  {
   "cell_type": "markdown",
   "metadata": {
    "id": "CfrP_5oMwUUC"
   },
   "source": [
    "## Exploring the data"
   ]
  },
  {
   "cell_type": "markdown",
   "metadata": {
    "id": "Fc8YKqVXwaHB"
   },
   "source": [
    "**Loading the data**"
   ]
  },
  {
   "cell_type": "code",
   "execution_count": 11,
   "metadata": {
    "id": "7s5ZFT-9gUgG"
   },
   "outputs": [
    {
     "ename": "FileNotFoundError",
     "evalue": "[WinError 3] The system cannot find the path specified: '/content/New Plant Diseases Dataset(Augmented)/New Plant Diseases Dataset(Augmented)\\\\train'",
     "output_type": "error",
     "traceback": [
      "\u001b[1;31m---------------------------------------------------------------------------\u001b[0m",
      "\u001b[1;31mFileNotFoundError\u001b[0m                         Traceback (most recent call last)",
      "Cell \u001b[1;32mIn[11], line 6\u001b[0m\n\u001b[0;32m      3\u001b[0m test_dir \u001b[38;5;241m=\u001b[39m os\u001b[38;5;241m.\u001b[39mpath\u001b[38;5;241m.\u001b[39mjoin(BASE_DIR, \u001b[38;5;124m'\u001b[39m\u001b[38;5;124mvalid\u001b[39m\u001b[38;5;124m'\u001b[39m)\n\u001b[0;32m      4\u001b[0m train_dir \u001b[38;5;241m=\u001b[39m os\u001b[38;5;241m.\u001b[39mpath\u001b[38;5;241m.\u001b[39mjoin(BASE_DIR, \u001b[38;5;124m'\u001b[39m\u001b[38;5;124mtrain\u001b[39m\u001b[38;5;124m'\u001b[39m)\n\u001b[1;32m----> 6\u001b[0m train_class_dir \u001b[38;5;241m=\u001b[39m [os\u001b[38;5;241m.\u001b[39mpath\u001b[38;5;241m.\u001b[39mjoin(train_dir, d) \u001b[38;5;28;01mfor\u001b[39;00m d \u001b[38;5;129;01min\u001b[39;00m \u001b[43mos\u001b[49m\u001b[38;5;241;43m.\u001b[39;49m\u001b[43mlistdir\u001b[49m\u001b[43m(\u001b[49m\u001b[43mtrain_dir\u001b[49m\u001b[43m)\u001b[49m \u001b[38;5;28;01mif\u001b[39;00m os\u001b[38;5;241m.\u001b[39mpath\u001b[38;5;241m.\u001b[39misdir(os\u001b[38;5;241m.\u001b[39mpath\u001b[38;5;241m.\u001b[39mjoin(train_dir, d))]\n\u001b[0;32m      7\u001b[0m test_class_dir \u001b[38;5;241m=\u001b[39m [os\u001b[38;5;241m.\u001b[39mpath\u001b[38;5;241m.\u001b[39mjoin(test_dir, d) \u001b[38;5;28;01mfor\u001b[39;00m d \u001b[38;5;129;01min\u001b[39;00m os\u001b[38;5;241m.\u001b[39mlistdir(test_dir) \u001b[38;5;28;01mif\u001b[39;00m os\u001b[38;5;241m.\u001b[39mpath\u001b[38;5;241m.\u001b[39misdir(os\u001b[38;5;241m.\u001b[39mpath\u001b[38;5;241m.\u001b[39mjoin(test_dir, d))]\n\u001b[0;32m      9\u001b[0m train_image_paths \u001b[38;5;241m=\u001b[39m []\n",
      "\u001b[1;31mFileNotFoundError\u001b[0m: [WinError 3] The system cannot find the path specified: '/content/New Plant Diseases Dataset(Augmented)/New Plant Diseases Dataset(Augmented)\\\\train'"
     ]
    }
   ],
   "source": [
    "BASE_DIR = '/content/New Plant Diseases Dataset(Augmented)/New Plant Diseases Dataset(Augmented)'\n",
    "\n",
    "test_dir = os.path.join(BASE_DIR, 'valid')\n",
    "train_dir = os.path.join(BASE_DIR, 'train')\n",
    "\n",
    "train_class_dir = [os.path.join(train_dir, d) for d in os.listdir(train_dir) if os.path.isdir(os.path.join(train_dir, d))]\n",
    "test_class_dir = [os.path.join(test_dir, d) for d in os.listdir(test_dir) if os.path.isdir(os.path.join(test_dir, d))]\n",
    "\n",
    "train_image_paths = []\n",
    "test_image_paths = []\n",
    "\n",
    "for class_dir in train_class_dir:\n",
    "    for file_name in os.listdir(class_dir):\n",
    "        if file_name.endswith(('.JPG','.jpg','jpeg')):\n",
    "            image_path = os.path.join(class_dir, file_name)\n",
    "            train_image_paths.append(image_path)\n",
    "\n",
    "for class_dir in test_class_dir:\n",
    "    for file_name in os.listdir(class_dir):\n",
    "        if file_name.endswith(('.JPG','.jpg','jpeg')):\n",
    "            image_path = os.path.join(class_dir, file_name)\n",
    "            train_image_paths.append(image_path)\n",
    "\n",
    "\n",
    "train_labels = [os.path.basename(class_dir) for class_dir in train_class_dir]\n",
    "test_labels = [os.path.basename(class_dir) for class_dir in test_class_dir]"
   ]
  },
  {
   "cell_type": "code",
   "execution_count": 13,
   "metadata": {
    "colab": {
     "base_uri": "https://localhost:8080/"
    },
    "id": "QPeBb45ZgfAP",
    "outputId": "ca836f49-edb3-4bdb-f80a-32fb43f1bbcc"
   },
   "outputs": [
    {
     "data": {
      "text/plain": [
       "['Corn_(maize)___healthy',\n",
       " 'Grape___Esca_(Black_Measles)',\n",
       " 'Orange___Haunglongbing_(Citrus_greening)',\n",
       " 'Tomato___healthy',\n",
       " 'Tomato___Bacterial_spot',\n",
       " 'Pepper,_bell___Bacterial_spot',\n",
       " 'Apple___Black_rot',\n",
       " 'Potato___Early_blight',\n",
       " 'Tomato___Late_blight',\n",
       " 'Cherry_(including_sour)___healthy',\n",
       " 'Tomato___Septoria_leaf_spot',\n",
       " 'Grape___Leaf_blight_(Isariopsis_Leaf_Spot)',\n",
       " 'Cherry_(including_sour)___Powdery_mildew',\n",
       " 'Potato___healthy',\n",
       " 'Strawberry___Leaf_scorch',\n",
       " 'Grape___healthy',\n",
       " 'Peach___healthy',\n",
       " 'Tomato___Spider_mites Two-spotted_spider_mite',\n",
       " 'Apple___Apple_scab',\n",
       " 'Raspberry___healthy',\n",
       " 'Tomato___Early_blight',\n",
       " 'Tomato___Target_Spot',\n",
       " 'Apple___Cedar_apple_rust',\n",
       " 'Corn_(maize)___Northern_Leaf_Blight',\n",
       " 'Soybean___healthy',\n",
       " 'Strawberry___healthy',\n",
       " 'Tomato___Tomato_Yellow_Leaf_Curl_Virus',\n",
       " 'Peach___Bacterial_spot',\n",
       " 'Grape___Black_rot',\n",
       " 'Apple___healthy',\n",
       " 'Tomato___Tomato_mosaic_virus',\n",
       " 'Blueberry___healthy',\n",
       " 'Tomato___Leaf_Mold',\n",
       " 'Corn_(maize)___Common_rust_',\n",
       " 'Squash___Powdery_mildew',\n",
       " 'Pepper,_bell___healthy',\n",
       " 'Potato___Late_blight',\n",
       " 'Corn_(maize)___Cercospora_leaf_spot Gray_leaf_spot']"
      ]
     },
     "execution_count": 13,
     "metadata": {},
     "output_type": "execute_result"
    }
   ],
   "source": [
    "classes_train = os.listdir(train_dir)\n",
    "\n",
    "classes_train"
   ]
  },
  {
   "cell_type": "code",
   "execution_count": 28,
   "metadata": {
    "colab": {
     "base_uri": "https://localhost:8080/"
    },
    "id": "HvHvTce2wrVi",
    "outputId": "b9f9f750-7c0b-4c26-9719-fd8bb356e0ad"
   },
   "outputs": [
    {
     "name": "stdout",
     "output_type": "stream",
     "text": [
      "Total disease classes are: 38\n"
     ]
    }
   ],
   "source": [
    "print(\"Total disease classes are: {}\".format(len(classes_train)))"
   ]
  },
  {
   "cell_type": "code",
   "execution_count": 29,
   "metadata": {
    "id": "JQgehp-KxA79"
   },
   "outputs": [],
   "source": [
    "plants = []\n",
    "NumberOfDiseases = 0\n",
    "for plant in classes_train:\n",
    "    if plant.split('___')[0] not in plants:\n",
    "        plants.append(plant.split('___')[0])\n",
    "    if plant.split('___')[1] != 'healthy':\n",
    "        NumberOfDiseases += 1"
   ]
  },
  {
   "cell_type": "markdown",
   "metadata": {
    "id": "f-Sg-vI6xKey"
   },
   "source": [
    "The above cell extract the number of unique plants and number of unique diseases"
   ]
  },
  {
   "cell_type": "code",
   "execution_count": 30,
   "metadata": {
    "colab": {
     "base_uri": "https://localhost:8080/"
    },
    "id": "wxbVMXZExMwl",
    "outputId": "9edf4045-135b-47c4-8844-19da14cd13fa"
   },
   "outputs": [
    {
     "name": "stdout",
     "output_type": "stream",
     "text": [
      "Unique Plants are: \n",
      "['Corn_(maize)', 'Grape', 'Orange', 'Tomato', 'Pepper,_bell', 'Apple', 'Potato', 'Cherry_(including_sour)', 'Strawberry', 'Peach', 'Raspberry', 'Soybean', 'Blueberry', 'Squash']\n"
     ]
    }
   ],
   "source": [
    "# unique plants in the dataset\n",
    "print(f\"Unique Plants are: \\n{plants}\")"
   ]
  },
  {
   "cell_type": "code",
   "execution_count": 31,
   "metadata": {
    "colab": {
     "base_uri": "https://localhost:8080/"
    },
    "id": "g_aDGg7mxUby",
    "outputId": "078dfc67-2c21-4067-d844-c4a67d185704"
   },
   "outputs": [
    {
     "name": "stdout",
     "output_type": "stream",
     "text": [
      "Number of plants: 14\n"
     ]
    }
   ],
   "source": [
    "# number of unique plants\n",
    "print(\"Number of plants: {}\".format(len(plants)))"
   ]
  },
  {
   "cell_type": "code",
   "execution_count": 32,
   "metadata": {
    "colab": {
     "base_uri": "https://localhost:8080/"
    },
    "id": "zF484Zunxa7i",
    "outputId": "868af5d1-b9a5-4ba4-8888-afa953b994c0"
   },
   "outputs": [
    {
     "name": "stdout",
     "output_type": "stream",
     "text": [
      "Number of diseases: 26\n"
     ]
    }
   ],
   "source": [
    "# number of unique diseases\n",
    "print(\"Number of diseases: {}\".format(NumberOfDiseases))"
   ]
  },
  {
   "cell_type": "markdown",
   "metadata": {
    "id": "zuHZbvX1xf3K"
   },
   "source": [
    "\n",
    "\n",
    "So we have images of leaves of 14 plants and while excluding healthy leaves, we have 26 types of images that show a particular disease in a particular plant.\n"
   ]
  },
  {
   "cell_type": "code",
   "execution_count": 33,
   "metadata": {
    "colab": {
     "base_uri": "https://localhost:8080/",
     "height": 1000
    },
    "id": "0kUR-C9QxjWS",
    "outputId": "fe65accc-1f80-4038-db00-a0d16e2f7926"
   },
   "outputs": [
    {
     "data": {
      "application/vnd.google.colaboratory.intrinsic+json": {
       "summary": "{\n  \"name\": \"img_per_class\",\n  \"rows\": 38,\n  \"fields\": [\n    {\n      \"column\": \"no. of images\",\n      \"properties\": {\n        \"dtype\": \"number\",\n        \"std\": 105,\n        \"min\": 1642,\n        \"max\": 2022,\n        \"num_unique_values\": 35,\n        \"samples\": [\n          1888,\n          1824,\n          1961\n        ],\n        \"semantic_type\": \"\",\n        \"description\": \"\"\n      }\n    }\n  ]\n}",
       "type": "dataframe",
       "variable_name": "img_per_class"
      },
      "text/html": [
       "\n",
       "  <div id=\"df-c2e4948f-98fb-4b99-a8ca-f8cfe0414095\" class=\"colab-df-container\">\n",
       "    <div>\n",
       "<style scoped>\n",
       "    .dataframe tbody tr th:only-of-type {\n",
       "        vertical-align: middle;\n",
       "    }\n",
       "\n",
       "    .dataframe tbody tr th {\n",
       "        vertical-align: top;\n",
       "    }\n",
       "\n",
       "    .dataframe thead th {\n",
       "        text-align: right;\n",
       "    }\n",
       "</style>\n",
       "<table border=\"1\" class=\"dataframe\">\n",
       "  <thead>\n",
       "    <tr style=\"text-align: right;\">\n",
       "      <th></th>\n",
       "      <th>no. of images</th>\n",
       "    </tr>\n",
       "  </thead>\n",
       "  <tbody>\n",
       "    <tr>\n",
       "      <th>Corn_(maize)___healthy</th>\n",
       "      <td>1859</td>\n",
       "    </tr>\n",
       "    <tr>\n",
       "      <th>Grape___Esca_(Black_Measles)</th>\n",
       "      <td>1920</td>\n",
       "    </tr>\n",
       "    <tr>\n",
       "      <th>Orange___Haunglongbing_(Citrus_greening)</th>\n",
       "      <td>2010</td>\n",
       "    </tr>\n",
       "    <tr>\n",
       "      <th>Tomato___healthy</th>\n",
       "      <td>1926</td>\n",
       "    </tr>\n",
       "    <tr>\n",
       "      <th>Tomato___Bacterial_spot</th>\n",
       "      <td>1702</td>\n",
       "    </tr>\n",
       "    <tr>\n",
       "      <th>Pepper,_bell___Bacterial_spot</th>\n",
       "      <td>1913</td>\n",
       "    </tr>\n",
       "    <tr>\n",
       "      <th>Apple___Black_rot</th>\n",
       "      <td>1987</td>\n",
       "    </tr>\n",
       "    <tr>\n",
       "      <th>Potato___Early_blight</th>\n",
       "      <td>1939</td>\n",
       "    </tr>\n",
       "    <tr>\n",
       "      <th>Tomato___Late_blight</th>\n",
       "      <td>1851</td>\n",
       "    </tr>\n",
       "    <tr>\n",
       "      <th>Cherry_(including_sour)___healthy</th>\n",
       "      <td>1826</td>\n",
       "    </tr>\n",
       "    <tr>\n",
       "      <th>Tomato___Septoria_leaf_spot</th>\n",
       "      <td>1745</td>\n",
       "    </tr>\n",
       "    <tr>\n",
       "      <th>Grape___Leaf_blight_(Isariopsis_Leaf_Spot)</th>\n",
       "      <td>1722</td>\n",
       "    </tr>\n",
       "    <tr>\n",
       "      <th>Cherry_(including_sour)___Powdery_mildew</th>\n",
       "      <td>1683</td>\n",
       "    </tr>\n",
       "    <tr>\n",
       "      <th>Potato___healthy</th>\n",
       "      <td>1824</td>\n",
       "    </tr>\n",
       "    <tr>\n",
       "      <th>Strawberry___Leaf_scorch</th>\n",
       "      <td>1774</td>\n",
       "    </tr>\n",
       "    <tr>\n",
       "      <th>Grape___healthy</th>\n",
       "      <td>1692</td>\n",
       "    </tr>\n",
       "    <tr>\n",
       "      <th>Peach___healthy</th>\n",
       "      <td>1728</td>\n",
       "    </tr>\n",
       "    <tr>\n",
       "      <th>Tomato___Spider_mites Two-spotted_spider_mite</th>\n",
       "      <td>1741</td>\n",
       "    </tr>\n",
       "    <tr>\n",
       "      <th>Apple___Apple_scab</th>\n",
       "      <td>2016</td>\n",
       "    </tr>\n",
       "    <tr>\n",
       "      <th>Raspberry___healthy</th>\n",
       "      <td>1781</td>\n",
       "    </tr>\n",
       "    <tr>\n",
       "      <th>Tomato___Early_blight</th>\n",
       "      <td>1920</td>\n",
       "    </tr>\n",
       "    <tr>\n",
       "      <th>Tomato___Target_Spot</th>\n",
       "      <td>1827</td>\n",
       "    </tr>\n",
       "    <tr>\n",
       "      <th>Apple___Cedar_apple_rust</th>\n",
       "      <td>1760</td>\n",
       "    </tr>\n",
       "    <tr>\n",
       "      <th>Corn_(maize)___Northern_Leaf_Blight</th>\n",
       "      <td>1908</td>\n",
       "    </tr>\n",
       "    <tr>\n",
       "      <th>Soybean___healthy</th>\n",
       "      <td>2022</td>\n",
       "    </tr>\n",
       "    <tr>\n",
       "      <th>Strawberry___healthy</th>\n",
       "      <td>1824</td>\n",
       "    </tr>\n",
       "    <tr>\n",
       "      <th>Tomato___Tomato_Yellow_Leaf_Curl_Virus</th>\n",
       "      <td>1961</td>\n",
       "    </tr>\n",
       "    <tr>\n",
       "      <th>Peach___Bacterial_spot</th>\n",
       "      <td>1838</td>\n",
       "    </tr>\n",
       "    <tr>\n",
       "      <th>Grape___Black_rot</th>\n",
       "      <td>1888</td>\n",
       "    </tr>\n",
       "    <tr>\n",
       "      <th>Apple___healthy</th>\n",
       "      <td>2008</td>\n",
       "    </tr>\n",
       "    <tr>\n",
       "      <th>Tomato___Tomato_mosaic_virus</th>\n",
       "      <td>1790</td>\n",
       "    </tr>\n",
       "    <tr>\n",
       "      <th>Blueberry___healthy</th>\n",
       "      <td>1816</td>\n",
       "    </tr>\n",
       "    <tr>\n",
       "      <th>Tomato___Leaf_Mold</th>\n",
       "      <td>1882</td>\n",
       "    </tr>\n",
       "    <tr>\n",
       "      <th>Corn_(maize)___Common_rust_</th>\n",
       "      <td>1907</td>\n",
       "    </tr>\n",
       "    <tr>\n",
       "      <th>Squash___Powdery_mildew</th>\n",
       "      <td>1736</td>\n",
       "    </tr>\n",
       "    <tr>\n",
       "      <th>Pepper,_bell___healthy</th>\n",
       "      <td>1988</td>\n",
       "    </tr>\n",
       "    <tr>\n",
       "      <th>Potato___Late_blight</th>\n",
       "      <td>1939</td>\n",
       "    </tr>\n",
       "    <tr>\n",
       "      <th>Corn_(maize)___Cercospora_leaf_spot Gray_leaf_spot</th>\n",
       "      <td>1642</td>\n",
       "    </tr>\n",
       "  </tbody>\n",
       "</table>\n",
       "</div>\n",
       "    <div class=\"colab-df-buttons\">\n",
       "\n",
       "  <div class=\"colab-df-container\">\n",
       "    <button class=\"colab-df-convert\" onclick=\"convertToInteractive('df-c2e4948f-98fb-4b99-a8ca-f8cfe0414095')\"\n",
       "            title=\"Convert this dataframe to an interactive table.\"\n",
       "            style=\"display:none;\">\n",
       "\n",
       "  <svg xmlns=\"http://www.w3.org/2000/svg\" height=\"24px\" viewBox=\"0 -960 960 960\">\n",
       "    <path d=\"M120-120v-720h720v720H120Zm60-500h600v-160H180v160Zm220 220h160v-160H400v160Zm0 220h160v-160H400v160ZM180-400h160v-160H180v160Zm440 0h160v-160H620v160ZM180-180h160v-160H180v160Zm440 0h160v-160H620v160Z\"/>\n",
       "  </svg>\n",
       "    </button>\n",
       "\n",
       "  <style>\n",
       "    .colab-df-container {\n",
       "      display:flex;\n",
       "      gap: 12px;\n",
       "    }\n",
       "\n",
       "    .colab-df-convert {\n",
       "      background-color: #E8F0FE;\n",
       "      border: none;\n",
       "      border-radius: 50%;\n",
       "      cursor: pointer;\n",
       "      display: none;\n",
       "      fill: #1967D2;\n",
       "      height: 32px;\n",
       "      padding: 0 0 0 0;\n",
       "      width: 32px;\n",
       "    }\n",
       "\n",
       "    .colab-df-convert:hover {\n",
       "      background-color: #E2EBFA;\n",
       "      box-shadow: 0px 1px 2px rgba(60, 64, 67, 0.3), 0px 1px 3px 1px rgba(60, 64, 67, 0.15);\n",
       "      fill: #174EA6;\n",
       "    }\n",
       "\n",
       "    .colab-df-buttons div {\n",
       "      margin-bottom: 4px;\n",
       "    }\n",
       "\n",
       "    [theme=dark] .colab-df-convert {\n",
       "      background-color: #3B4455;\n",
       "      fill: #D2E3FC;\n",
       "    }\n",
       "\n",
       "    [theme=dark] .colab-df-convert:hover {\n",
       "      background-color: #434B5C;\n",
       "      box-shadow: 0px 1px 3px 1px rgba(0, 0, 0, 0.15);\n",
       "      filter: drop-shadow(0px 1px 2px rgba(0, 0, 0, 0.3));\n",
       "      fill: #FFFFFF;\n",
       "    }\n",
       "  </style>\n",
       "\n",
       "    <script>\n",
       "      const buttonEl =\n",
       "        document.querySelector('#df-c2e4948f-98fb-4b99-a8ca-f8cfe0414095 button.colab-df-convert');\n",
       "      buttonEl.style.display =\n",
       "        google.colab.kernel.accessAllowed ? 'block' : 'none';\n",
       "\n",
       "      async function convertToInteractive(key) {\n",
       "        const element = document.querySelector('#df-c2e4948f-98fb-4b99-a8ca-f8cfe0414095');\n",
       "        const dataTable =\n",
       "          await google.colab.kernel.invokeFunction('convertToInteractive',\n",
       "                                                    [key], {});\n",
       "        if (!dataTable) return;\n",
       "\n",
       "        const docLinkHtml = 'Like what you see? Visit the ' +\n",
       "          '<a target=\"_blank\" href=https://colab.research.google.com/notebooks/data_table.ipynb>data table notebook</a>'\n",
       "          + ' to learn more about interactive tables.';\n",
       "        element.innerHTML = '';\n",
       "        dataTable['output_type'] = 'display_data';\n",
       "        await google.colab.output.renderOutput(dataTable, element);\n",
       "        const docLink = document.createElement('div');\n",
       "        docLink.innerHTML = docLinkHtml;\n",
       "        element.appendChild(docLink);\n",
       "      }\n",
       "    </script>\n",
       "  </div>\n",
       "\n",
       "\n",
       "<div id=\"df-e1c96212-7f94-45e7-91af-c58858e2d9d0\">\n",
       "  <button class=\"colab-df-quickchart\" onclick=\"quickchart('df-e1c96212-7f94-45e7-91af-c58858e2d9d0')\"\n",
       "            title=\"Suggest charts\"\n",
       "            style=\"display:none;\">\n",
       "\n",
       "<svg xmlns=\"http://www.w3.org/2000/svg\" height=\"24px\"viewBox=\"0 0 24 24\"\n",
       "     width=\"24px\">\n",
       "    <g>\n",
       "        <path d=\"M19 3H5c-1.1 0-2 .9-2 2v14c0 1.1.9 2 2 2h14c1.1 0 2-.9 2-2V5c0-1.1-.9-2-2-2zM9 17H7v-7h2v7zm4 0h-2V7h2v10zm4 0h-2v-4h2v4z\"/>\n",
       "    </g>\n",
       "</svg>\n",
       "  </button>\n",
       "\n",
       "<style>\n",
       "  .colab-df-quickchart {\n",
       "      --bg-color: #E8F0FE;\n",
       "      --fill-color: #1967D2;\n",
       "      --hover-bg-color: #E2EBFA;\n",
       "      --hover-fill-color: #174EA6;\n",
       "      --disabled-fill-color: #AAA;\n",
       "      --disabled-bg-color: #DDD;\n",
       "  }\n",
       "\n",
       "  [theme=dark] .colab-df-quickchart {\n",
       "      --bg-color: #3B4455;\n",
       "      --fill-color: #D2E3FC;\n",
       "      --hover-bg-color: #434B5C;\n",
       "      --hover-fill-color: #FFFFFF;\n",
       "      --disabled-bg-color: #3B4455;\n",
       "      --disabled-fill-color: #666;\n",
       "  }\n",
       "\n",
       "  .colab-df-quickchart {\n",
       "    background-color: var(--bg-color);\n",
       "    border: none;\n",
       "    border-radius: 50%;\n",
       "    cursor: pointer;\n",
       "    display: none;\n",
       "    fill: var(--fill-color);\n",
       "    height: 32px;\n",
       "    padding: 0;\n",
       "    width: 32px;\n",
       "  }\n",
       "\n",
       "  .colab-df-quickchart:hover {\n",
       "    background-color: var(--hover-bg-color);\n",
       "    box-shadow: 0 1px 2px rgba(60, 64, 67, 0.3), 0 1px 3px 1px rgba(60, 64, 67, 0.15);\n",
       "    fill: var(--button-hover-fill-color);\n",
       "  }\n",
       "\n",
       "  .colab-df-quickchart-complete:disabled,\n",
       "  .colab-df-quickchart-complete:disabled:hover {\n",
       "    background-color: var(--disabled-bg-color);\n",
       "    fill: var(--disabled-fill-color);\n",
       "    box-shadow: none;\n",
       "  }\n",
       "\n",
       "  .colab-df-spinner {\n",
       "    border: 2px solid var(--fill-color);\n",
       "    border-color: transparent;\n",
       "    border-bottom-color: var(--fill-color);\n",
       "    animation:\n",
       "      spin 1s steps(1) infinite;\n",
       "  }\n",
       "\n",
       "  @keyframes spin {\n",
       "    0% {\n",
       "      border-color: transparent;\n",
       "      border-bottom-color: var(--fill-color);\n",
       "      border-left-color: var(--fill-color);\n",
       "    }\n",
       "    20% {\n",
       "      border-color: transparent;\n",
       "      border-left-color: var(--fill-color);\n",
       "      border-top-color: var(--fill-color);\n",
       "    }\n",
       "    30% {\n",
       "      border-color: transparent;\n",
       "      border-left-color: var(--fill-color);\n",
       "      border-top-color: var(--fill-color);\n",
       "      border-right-color: var(--fill-color);\n",
       "    }\n",
       "    40% {\n",
       "      border-color: transparent;\n",
       "      border-right-color: var(--fill-color);\n",
       "      border-top-color: var(--fill-color);\n",
       "    }\n",
       "    60% {\n",
       "      border-color: transparent;\n",
       "      border-right-color: var(--fill-color);\n",
       "    }\n",
       "    80% {\n",
       "      border-color: transparent;\n",
       "      border-right-color: var(--fill-color);\n",
       "      border-bottom-color: var(--fill-color);\n",
       "    }\n",
       "    90% {\n",
       "      border-color: transparent;\n",
       "      border-bottom-color: var(--fill-color);\n",
       "    }\n",
       "  }\n",
       "</style>\n",
       "\n",
       "  <script>\n",
       "    async function quickchart(key) {\n",
       "      const quickchartButtonEl =\n",
       "        document.querySelector('#' + key + ' button');\n",
       "      quickchartButtonEl.disabled = true;  // To prevent multiple clicks.\n",
       "      quickchartButtonEl.classList.add('colab-df-spinner');\n",
       "      try {\n",
       "        const charts = await google.colab.kernel.invokeFunction(\n",
       "            'suggestCharts', [key], {});\n",
       "      } catch (error) {\n",
       "        console.error('Error during call to suggestCharts:', error);\n",
       "      }\n",
       "      quickchartButtonEl.classList.remove('colab-df-spinner');\n",
       "      quickchartButtonEl.classList.add('colab-df-quickchart-complete');\n",
       "    }\n",
       "    (() => {\n",
       "      let quickchartButtonEl =\n",
       "        document.querySelector('#df-e1c96212-7f94-45e7-91af-c58858e2d9d0 button');\n",
       "      quickchartButtonEl.style.display =\n",
       "        google.colab.kernel.accessAllowed ? 'block' : 'none';\n",
       "    })();\n",
       "  </script>\n",
       "</div>\n",
       "\n",
       "  <div id=\"id_bed71202-0f85-41b7-9c8b-d96d686b27f8\">\n",
       "    <style>\n",
       "      .colab-df-generate {\n",
       "        background-color: #E8F0FE;\n",
       "        border: none;\n",
       "        border-radius: 50%;\n",
       "        cursor: pointer;\n",
       "        display: none;\n",
       "        fill: #1967D2;\n",
       "        height: 32px;\n",
       "        padding: 0 0 0 0;\n",
       "        width: 32px;\n",
       "      }\n",
       "\n",
       "      .colab-df-generate:hover {\n",
       "        background-color: #E2EBFA;\n",
       "        box-shadow: 0px 1px 2px rgba(60, 64, 67, 0.3), 0px 1px 3px 1px rgba(60, 64, 67, 0.15);\n",
       "        fill: #174EA6;\n",
       "      }\n",
       "\n",
       "      [theme=dark] .colab-df-generate {\n",
       "        background-color: #3B4455;\n",
       "        fill: #D2E3FC;\n",
       "      }\n",
       "\n",
       "      [theme=dark] .colab-df-generate:hover {\n",
       "        background-color: #434B5C;\n",
       "        box-shadow: 0px 1px 3px 1px rgba(0, 0, 0, 0.15);\n",
       "        filter: drop-shadow(0px 1px 2px rgba(0, 0, 0, 0.3));\n",
       "        fill: #FFFFFF;\n",
       "      }\n",
       "    </style>\n",
       "    <button class=\"colab-df-generate\" onclick=\"generateWithVariable('img_per_class')\"\n",
       "            title=\"Generate code using this dataframe.\"\n",
       "            style=\"display:none;\">\n",
       "\n",
       "  <svg xmlns=\"http://www.w3.org/2000/svg\" height=\"24px\"viewBox=\"0 0 24 24\"\n",
       "       width=\"24px\">\n",
       "    <path d=\"M7,19H8.4L18.45,9,17,7.55,7,17.6ZM5,21V16.75L18.45,3.32a2,2,0,0,1,2.83,0l1.4,1.43a1.91,1.91,0,0,1,.58,1.4,1.91,1.91,0,0,1-.58,1.4L9.25,21ZM18.45,9,17,7.55Zm-12,3A5.31,5.31,0,0,0,4.9,8.1,5.31,5.31,0,0,0,1,6.5,5.31,5.31,0,0,0,4.9,4.9,5.31,5.31,0,0,0,6.5,1,5.31,5.31,0,0,0,8.1,4.9,5.31,5.31,0,0,0,12,6.5,5.46,5.46,0,0,0,6.5,12Z\"/>\n",
       "  </svg>\n",
       "    </button>\n",
       "    <script>\n",
       "      (() => {\n",
       "      const buttonEl =\n",
       "        document.querySelector('#id_bed71202-0f85-41b7-9c8b-d96d686b27f8 button.colab-df-generate');\n",
       "      buttonEl.style.display =\n",
       "        google.colab.kernel.accessAllowed ? 'block' : 'none';\n",
       "\n",
       "      buttonEl.onclick = () => {\n",
       "        google.colab.notebook.generateWithVariable('img_per_class');\n",
       "      }\n",
       "      })();\n",
       "    </script>\n",
       "  </div>\n",
       "\n",
       "    </div>\n",
       "  </div>\n"
      ],
      "text/plain": [
       "                                                    no. of images\n",
       "Corn_(maize)___healthy                                       1859\n",
       "Grape___Esca_(Black_Measles)                                 1920\n",
       "Orange___Haunglongbing_(Citrus_greening)                     2010\n",
       "Tomato___healthy                                             1926\n",
       "Tomato___Bacterial_spot                                      1702\n",
       "Pepper,_bell___Bacterial_spot                                1913\n",
       "Apple___Black_rot                                            1987\n",
       "Potato___Early_blight                                        1939\n",
       "Tomato___Late_blight                                         1851\n",
       "Cherry_(including_sour)___healthy                            1826\n",
       "Tomato___Septoria_leaf_spot                                  1745\n",
       "Grape___Leaf_blight_(Isariopsis_Leaf_Spot)                   1722\n",
       "Cherry_(including_sour)___Powdery_mildew                     1683\n",
       "Potato___healthy                                             1824\n",
       "Strawberry___Leaf_scorch                                     1774\n",
       "Grape___healthy                                              1692\n",
       "Peach___healthy                                              1728\n",
       "Tomato___Spider_mites Two-spotted_spider_mite                1741\n",
       "Apple___Apple_scab                                           2016\n",
       "Raspberry___healthy                                          1781\n",
       "Tomato___Early_blight                                        1920\n",
       "Tomato___Target_Spot                                         1827\n",
       "Apple___Cedar_apple_rust                                     1760\n",
       "Corn_(maize)___Northern_Leaf_Blight                          1908\n",
       "Soybean___healthy                                            2022\n",
       "Strawberry___healthy                                         1824\n",
       "Tomato___Tomato_Yellow_Leaf_Curl_Virus                       1961\n",
       "Peach___Bacterial_spot                                       1838\n",
       "Grape___Black_rot                                            1888\n",
       "Apple___healthy                                              2008\n",
       "Tomato___Tomato_mosaic_virus                                 1790\n",
       "Blueberry___healthy                                          1816\n",
       "Tomato___Leaf_Mold                                           1882\n",
       "Corn_(maize)___Common_rust_                                  1907\n",
       "Squash___Powdery_mildew                                      1736\n",
       "Pepper,_bell___healthy                                       1988\n",
       "Potato___Late_blight                                         1939\n",
       "Corn_(maize)___Cercospora_leaf_spot Gray_leaf_spot           1642"
      ]
     },
     "execution_count": 33,
     "metadata": {},
     "output_type": "execute_result"
    },
    {
     "data": {
      "text/html": [
       "<h4 class=\"colab-quickchart-section-title\">Distributions</h4>\n",
       "<style>\n",
       "  .colab-quickchart-section-title {\n",
       "      clear: both;\n",
       "  }\n",
       "</style>"
      ],
      "text/plain": [
       "<google.colab._quickchart_helpers.SectionTitle at 0x7f9710641480>"
      ]
     },
     "metadata": {},
     "output_type": "display_data"
    },
    {
     "data": {
      "text/html": [
       "      <div class=\"colab-quickchart-chart-with-code\" id=\"chart-9e1bc241-5f4e-48a9-ae12-0dcc4f0e2727\">\n",
       "        <img style=\"width: 180px;\" src=\"data:image/png;base64,iVBORw0KGgoAAAANSUhEUgAAAiAAAAGrCAYAAAD5FiyaAAAAOXRFWHRTb2Z0d2FyZQBNYXRwbG90\n",
       "bGliIHZlcnNpb24zLjcuMSwgaHR0cHM6Ly9tYXRwbG90bGliLm9yZy/bCgiHAAAACXBIWXMAAA9h\n",
       "AAAPYQGoP6dpAAAfXUlEQVR4nO3de5BU5Z344e8AOlFuw8UY5DaRyxgVQQcJq4kgKdZFXWU1lLUm\n",
       "EYyKZWKhFatWWf9QElfc0iJeqkzUUhJNJETUJCtGE13UJCYqKhBNNIIgqMQbctGFgRne3x/+7HIi\n",
       "Ko1z3qF7nqeqq+hzTp/zvnMAP54+dNeklFIAAGTUqb0HAAB0PAIEAMhOgAAA2QkQACA7AQIAZCdA\n",
       "AIDsBAgAkJ0AAQCyEyAAQHYCBGgzV111VfTr1y+6desW99xzz4fW//SnP42GhoZ2GBmwu6nxUexA\n",
       "W3jllVdi4MCB8dhjj8Xhhx/e3sMBdnOugABtYuXKlZFSikMPPbS9hwJUAAECVWD8+PFx3nnnxamn\n",
       "nho9e/aMgQMHxg9+8INW2yxcuDAaGxujZ8+eMXz48Ljqqqti+/btO32M9evXx/Tp02PAgAHRt2/f\n",
       "mDRpUjz//PMREXHzzTfHxIkTIyKirq4uunXrtsN9/OhHP4oBAwaUnk+bNi1OOeWUOOecc6JPnz7R\n",
       "t2/fuPrqq2PNmjVxzDHHRPfu3ePAAw+MP/7xj6XXPPTQQ3HEEUdEnz59olevXjFhwoRYsmRJq+PM\n",
       "nTs3hg4dGt27d4+TTjopzj333Bg/fnxp/ZYtW+I///M/Y8iQIdGrV6846qij4umnny6tX7RoUYwe\n",
       "PTp69uwZffr0iSOPPDLefvvtnf5ZATshARVv3LhxqUePHunBBx9MLS0tacGCBalTp07phRdeSCml\n",
       "9Pjjj6c99tgjzZ8/P23bti0tXrw49evXL33/+9/f6WMcf/zxafz48Wnt2rXp3XffTeedd14aMGBA\n",
       "2rRpU0oppUWLFqWISNu2bfvIfcydOzf179+/9Hzq1Klpzz33THfccUdqbm5Od999d6qpqUnjx49P\n",
       "y5YtS83NzWnGjBlp+PDhpdf8/ve/T3/4wx9SU1NT2rhxYzrrrLPSoEGDUlNTU0oppYcffjjtueee\n",
       "6d57703Nzc1p4cKFaa+99krjxo1rddyvfOUrac2aNWnbtm3puuuuS/vss096++23U0op7bfffumW\n",
       "W25J27dvT01NTenRRx9N77zzzk7/rIBPJkCgCowbNy6dfvrprZb17ds3/exnP0sppTR9+vQ0efLk\n",
       "VuvnzJmTGhoadmr/r776aoqItGTJktKyrVu3pj59+qR58+allHY9QCZMmNBqm7q6unT55ZeXni9e\n",
       "vDhFRFq/fv0O97lu3boUEWnZsmUppZTOOOOMNGXKlFbbnHzyyaUAefPNN1NEpOeee67VNkOHDk23\n",
       "3XZbSiml+vr6dPHFF6eXX375I+cCfDregoEqsd9++7V63rVr19i0aVNERKxZsyaGDBnSav3QoUNj\n",
       "9erVO7XvNWvWRES02scee+wRgwcP3ul9fJR+/fq1et61a9dWy7p27RoRUZrLsmXL4l//9V+jf//+\n",
       "0aNHj/j85z8fERGvv/56RLx3M+zgwYNb7bO+vr706+XLl0dExBe/+MWoq6srPV555ZV4+eWXIyLi\n",
       "V7/6Vbz44ovR2NgYQ4cOjUsuuSSam5s/1TyB1rq09wCA4g0cODBWrFjRatmKFSti0KBBO/36918z\n",
       "cuTIiIhobm6O1atX7/Q+2sqUKVNi0qRJceutt0avXr3i7bffjt69e0f6//+gr3///vHSSy+1es0H\n",
       "n3/uc5+LiPdC5qPGPmLEiLj99tsjImLJkiVxzDHHxIABA+Kss84qYkrQIbkCAh3AN7/5zVi4cGHc\n",
       "eeed0dLSEk8//XRceeWVMX369J16fb9+/eLYY4+NCy64IF577bXYvHlzXHjhhbHnnnvGcccdV/Do\n",
       "W9uwYUP06NEjevbsGevWrYsLLrig1fpvfOMb8ctf/jLuv//+aGlpifvuuy/uvffe0vrBgwfH5MmT\n",
       "49vf/nYpTDZt2hS//vWvY+3atbF169aYO3duvPHGGxER0bNnz+jcuXN06eL/16AtCRDoAL74xS/G\n",
       "ggUL4r/+67+iV69eMWXKlJgxY0acd955ERGxevXq6NatW/zud7/7yH3cdtttUV9fH4cddlgMGDAg\n",
       "nn322XjggQeie/fuuaYRERG33HJL3HHHHdG9e/cYO3ZsTJo0qdX6cePGxfXXXx/f+ta3oq6uLm64\n",
       "4Yb42te+Fp/5zGdK29x+++3R2NgYEydOjO7du0dDQ0PcdNNNpasoCxYsiIMOOii6du0a48aNi2nT\n",
       "psXUqVOzzhOqnQ8iA6re5MmTY999940bbrihvYcC/H+ugABV584774yNGzfGtm3bYv78+XHPPffE\n",
       "1772tfYeFvAB3tQEqs7//M//xFlnnRVbt26NwYMHxy233BJHHXVUew8L+ABvwQAA2XkLBgDIToAA\n",
       "ANkJEAAgOwECAGS32wbINddc095DAAAKstsGyD9+lwMAUD122wABAKqXAAEAshMgAEB2AgQAyE6A\n",
       "AADZCRAAIDsBAgBkJ0AAgOwECACQnQABALITIABAdgIEAMiu0ACpr6+PhoaGGDVqVIwaNSrmz59f\n",
       "5OEAgArRpegDzJ8/P0aNGlX0YQCAClJ4gOyMpqamaGpqarWspaWlnUYDABSt8AA57bTTIqUUY8aM\n",
       "iSuuuCL22WefD20ze/bsmDVrVqtlY8eOLXpowCeov2hhIftddcVxheyX1oo6fxHOIZ9eofeAPPLI\n",
       "I7Fs2bJ46qmnom/fvjF16tQdbjdz5szYsGFDq8eYMWOKHBoA0I4KvQIyaNCgiIjYY4894vzzz4/h\n",
       "w4fvcLva2tqora1ttaxz585FDg0AaEeFXQF59913Y/369aXn8+bNi0MPPbSowwEAFaSwKyCvvfZa\n",
       "nHzyydHS0hIppdh///3j1ltvLepwAEAFKSxA9t9//3j66aeL2j0AUMF8EioAkJ0AAQCyEyAAQHYC\n",
       "BADIToAAANkJEAAgOwECAGQnQACA7AQIAJCdAAEAshMgAEB2AgQAyE6AAADZCRAAIDsBAgBkJ0AA\n",
       "gOwECACQnQABALITIABAdgIEAMhOgAAA2QkQACA7AQIAZCdAAIDsBAgAkJ0AAQCyEyAAQHYCBADI\n",
       "ToAAANkJEAAgOwECAGQnQACA7AQIAJCdAAEAshMgAEB2AgQAyE6AAADZCRAAIDsBAgBkJ0AAgOwE\n",
       "CACQnQABALITIABAdgIEAMhOgAAA2QkQACA7AQIAZCdAAIDsBAgAkJ0AAQCyEyAAQHYCBADIToAA\n",
       "ANkJEAAgOwECAGQnQACA7AQIAJCdAAEAshMgAEB2AgQAyE6AAADZZQmQuXPnRk1NTfziF7/IcTgA\n",
       "YDdXeICsWrUqbrrpphg7dmzRhwIAKkShAbJ9+/Y488wz47rrrova2toiDwUAVJAuRe58zpw5ceSR\n",
       "R0ZjY+PHbtfU1BRNTU2tlrW0tBQ5NACgHRUWIM8880zceeed8cgjj3zitrNnz45Zs2a1WuYtGwA6\n",
       "uvqLFha271VXHFfYvndGYW/B/O53v4tVq1bFsGHDor6+Pv70pz/F9OnT4wc/+MGHtp05c2Zs2LCh\n",
       "1WPMmDFFDQ0AaGeFXQE555xz4pxzzik9Hz9+fJx//vkxefLkD21bW1v7oXtEOnfuXNTQAIB25nNA\n",
       "AIDsCr0J9YMeeuihXIcCAHZzroAAANkJEAAgOwECAGQnQACA7AQIAJCdAAEAshMgAEB2AgQAyE6A\n",
       "AADZCRAAIDsBAgBkJ0AAgOwECACQnQABALITIABAdgIEAMhOgAAA2QkQACA7AQIAZCdAAIDsBAgA\n",
       "kJ0AAQCyEyAAQHYCBADIToAAANkJEAAgOwECAGQnQACA7AQIAJCdAAEAshMgAEB2AgQAyE6AAADZ\n",
       "CRAAIDsBAgBkJ0AAgOwECACQnQABALITIABAdgIEAMhOgAAA2QkQACA7AQIAZCdAAIDsBAgAkJ0A\n",
       "AQCyEyAAQHYCBADIToAAANkJEAAgOwECAGQnQACA7AQIAJCdAAEAshMgAEB2AgQAyE6AAADZCRAA\n",
       "IDsBAgBkJ0AAgOwECACQnQABALLrUuTO//mf/zn+/ve/R6dOnaJ79+5x7bXXxqGHHlrkIQGAClBo\n",
       "gPz85z+Purq6iIi4++67Y9q0abF06dIiDwkAVIBCA+T9+IiI2LBhQ9TU1Oxwu6ampmhqamq1rKWl\n",
       "pcihAQDtqNAAiYg47bTTYtGiRRERce+99+5wm9mzZ8esWbNaLRs7dmzRQ6Ng9RctLGzfq644rrB9\n",
       "A1C8sm9Cvf/++8va/tZbb401a9bEZZddFhdeeOEOt5k5c2Zs2LCh1WPMmDHlDg0AqBBlB8h3v/vd\n",
       "aGhoiGuuuSY2bty406+bOnVqLFq0KN56660PrautrY0ePXq0enTu3LncoQEAFaLsAPnDH/4QP/vZ\n",
       "z+KZZ56J4cOHx7e+9a34y1/+8qHt1q9fH6+++mrp+S9+8Yvo06dP9O7d+9ONGACoeLt0D8ihhx4a\n",
       "N910UyxZsiROOOGEuPHGG+Poo4+OOXPmxIgRIyLivZtOp0yZEps3b45OnTrFPvvsE/fcc89H3ogK\n",
       "AHQcuxQgDzzwQFx33XXx5z//Ob797W/HGWecEQ899FD827/9WyxfvjwiIgYPHhyPP/54mw4WAKgO\n",
       "ZQfIF77whejbt2/MmDEjTjrppNK9Gl/96lfj5ptvbvMBAgDVp+wA+clPfhKNjY07XPfrX//6Uw8I\n",
       "AKh+Zd+E+uSTT8a6detKz99666246aab2nRQAEB1KztArr/++lb/kqVPnz5x/fXXt+mgAIDqVnaA\n",
       "pJQ+tMzHpgMA5Sg7QPr16xc///nPS8/nz58f/fr1a9NBAQDVreybUK+++uo48cQT4z/+4z8iImLv\n",
       "vfeOX/7yl20+MACgepUdIAcccED85S9/ieeffz4iIhoaGnxsOgBQll36ILKampqoq6uL5ubmeOWV\n",
       "VyIiYtCgQW06MACgepUdID/60Y9ixowZsccee0SnTu/dQlJTUxOvv/56mw8OAKhOZQfI9773vXji\n",
       "iSeioaGhiPEAAB1A2f8Kpm/fvuIDAPhUyg6QyZMnx9VXXx2vv/56bNy4sfQAANhZZb8Fc/HFF0dE\n",
       "xHe+852oqamJlFLU1NT4MDIAYKeVHSDbt28vYhwAQAdS9lswEe99Id1tt90WERHr16+PtWvXtumg\n",
       "AIDqtktfRvfNb34zLr300oh479twTz311LYeFwBQxcoOkBtvvDH+9Kc/RY8ePSIiYsiQIfHGG2+0\n",
       "+cAAgOpVdoDU1tbGXnvt1WpZly679IGqAEAHVXaA7LPPPvG3v/0tampqIuK9T0b1MewAQDl26dtw\n",
       "//3f/z2ee+65GDhwYPTo0SPuueeeIsYGAFSpsgNk6NCh8dhjj8Xzzz8fKSXfhgsAlK3sAFm9enVE\n",
       "RHTt2jUiwrfhAgBlKztAGhsbS5+AumXLlvi///u/6NOnj2/DBQB2WtkB8o//5Pauu+6KpUuXttmA\n",
       "AIDqt0ufhPpBJ510UixcuLAtxgIAdBBlXwH54DfftrS0xGOPPebbcAGAspQdIHV1daV7QDp37hzD\n",
       "hg2La6+9toixAQBVyrfhAgDZfep7QAAAylX2FZBOnTqVPob9g1JKUVNTEy0tLW0yMACgepUdIN/9\n",
       "7ndj8+bNcc4550RExA9/+MPYa6+94vzzz2/rsQEAVarsALn77rvjySefLD2/7LLLorGxMS6++OI2\n",
       "HRgAUL3Kvgdk06ZNrT719PXXX49Nmza16aAAgOpW9hWQCy64IEaOHBnHHntsRETcd999cemll7b1\n",
       "uACAKlZ2gJx99tlx5JFHxqJFiyIi4jvf+U4cdNBBbT4wAKB6lR0gERF9+vSJESNGxPjx46O5uTm2\n",
       "bt0ae+65Z1uPDQCoUmXfA7JgwYIYO3ZsnH766RER8eyzz8bkyZPbelwAQBUrO0Bmz54dTz31VNTV\n",
       "1UVExMiRI+Oll15q63EBAFWs7ADp3Llz9OnTp9Uyb78AAOUoO0C6d+8er732WunTUB988MHo3bt3\n",
       "mw8MAKheZd+E+t///d8xadKkePHFF+NLX/pSrFy5MhYuXFjE2ACAKlVWgGzfvj1aWlpi0aJF8eij\n",
       "j0ZKKY444ojS/SAAADujrADp1KlTTJ8+PZYuXRqTJk0qakwAQJUr+x6QYcOGxfLly4sYCwDQQZR9\n",
       "D8i6deti1KhRccQRR0S3bt1Ky++66642HRgAUL12OkCmT58eN954Y0ydOjVOOOGE6NWrV5HjAgCq\n",
       "2E4HyOLFiyMiYurUqXHYYYfFU089VdigAIDqVvY9IBERKaW2HgcA0IHs9BWQzZs3x5///OdIKcWW\n",
       "LVtKv37fIYccUsgAAYDqU1aAnHDCCaXnH/x1TU1NvPjii207MgCgau10gKxatarAYQAAHcku3QMC\n",
       "APBpCBAAIDsBAgBkJ0AAgOwECACQnQABALITIABAdgIEAMhOgAAA2RUWIFu2bInJkyfH8OHDY+TI\n",
       "kTFx4sRYvnx5UYcDACpIoVdApk+fHs8//3wsXbo0TjzxxDjzzDOLPBwAUCEKC5DPfOYzceyxx0ZN\n",
       "TU1ERIwdO/Yjv0+mqakpNm7c2OrR0tJS1NAAgHa2019G92ldc801ceKJJ+5w3ezZs2PWrFmtlo0d\n",
       "OzbHsCpG/UULC9nvqiuOK2S/RSvq51GJKvUcFqUSf29U4jks8ufs59ExZLkJ9fLLL4/ly5fH7Nmz\n",
       "d7h+5syZsWHDhlaPMWPG5BgaANAOCr8CctVVV8Vdd90VDzzwQOy999473Ka2tjZqa2tbLevcuXPR\n",
       "QwMA2kmhATJnzpyYN29ePPDAA1FXV1fkoQCAClJYgLz88stxwQUXxP777x9HH310RLx3peOxxx4r\n",
       "6pAAQIUoLEAGDBgQKaWidg8AVDCfhAoAZCdAAIDsBAgAkJ0AAQCyEyAAQHYCBADIToAAANkJEAAg\n",
       "OwECAGQnQACA7AQIAJCdAAEAshMgAEB2AgQAyE6AAADZCRAAIDsBAgBkJ0AAgOwECACQnQABALIT\n",
       "IABAdgIEAMhOgAAA2QkQACA7AQIAZCdAAIDsBAgAkJ0AAQCyEyAAQHYCBADIToAAANkJEAAgOwEC\n",
       "AGQnQACA7AQIAJCdAAEAshMgAEB2AgQAyE6AAADZCRAAIDsBAgBkJ0AAgOwECACQnQABALITIABA\n",
       "dgIEAMhOgAAA2QkQACA7AQIAZCdAAIDsBAgAkJ0AAQCyEyAAQHYCBADIToAAANkJEAAgOwECAGQn\n",
       "QACA7AQIAJCdAAEAshMgAEB2AgQAyK7QAJkxY0bU19dHTU1NLFmypMhDAQAVpNAA+epXvxq///3v\n",
       "Y/DgwUUeBgCoMF2K3PlRRx21U9s1NTVFU1NTq2UtLS1FDAkA2A0UGiA7a/bs2TFr1qxWy8aOHVvY\n",
       "8eovWljIflddcVwh+y1SUT8L+Dh+37Xm59Gav6M7ht3iJtSZM2fGhg0bWj3GjBnT3sMCAAqyW1wB\n",
       "qa2tjdra2lbLOnfu3E6jAQCKtltcAQEAOpZCA+Tss8+OAQMGxMsvvxzHHHNMDB06tMjDAQAVotC3\n",
       "YG644YYidw8AVChvwQAA2QkQACA7AQIAZCdAAIDsBAgAkJ0AAQCyEyAAQHYCBADIToAAANkJEAAg\n",
       "OwECAGQnQACA7AQIAJCdAAEAshMgAEB2AgQAyE6AAADZCRAAIDsBAgBkJ0AAgOwECACQnQABALIT\n",
       "IABAdgIEAMhOgAAA2QkQACA7AQIAZCdAAIDsBAgAkJ0AAQCyEyAAQHYCBADIToAAANkJEAAgOwEC\n",
       "AGQnQACA7AQIAJCdAAEAshMgAEB2AgQAyE6AAADZCRAAIDsBAgBkJ0AAgOwECACQnQABALITIABA\n",
       "dgIEAMhOgAAA2QkQACA7AQIAZCdAAIDsBAgAkJ0AAQCyEyAAQHYCBADIToAAANkJEAAgOwECAGQn\n",
       "QACA7AQIAJBdoQHywgsvxBFHHBHDhw+Pww8/PJ599tkiDwcAVIhCA+Tss8+O6dOnx9/+9re48MIL\n",
       "Y9q0aUUeDgCoEIUFyOuvvx6LFy+Or3/96xERcfLJJ8eaNWti+fLlH9q2qakpNm7c2OrR0tJS1NAA\n",
       "gHZWk1JKRez4ySefjFNPPTWef/750rIxY8bEFVdcERMmTGi17aWXXhqzZs1qteyAAw6ISZMmFTG0\n",
       "T9TS0hKPP/54jBkzJjp37twuY8ipI83XXKtXR5qvuVavapjv4MGD47zzzvvE7XaLAGlqaoqmpqZW\n",
       "y2pra6O2traIoX2ijRs3Rs+ePWPDhg3Ro0ePdhlDTh1pvuZavTrSfM21enWk+XYpascDBw6MtWvX\n",
       "RnNzc3Tp0iVSSrF69eoYNGjQh7Ztz9gAAPIr7B6Qz372s3HYYYfFT37yk4iIuPPOO2PAgAExdOjQ\n",
       "og4JAFSIwq6ARETccMMNMW3atLj88sujR48eMXfu3CIPBwBUiEIDpKGhIf74xz8WeYhC1NbWxiWX\n",
       "XNJh3hbqSPM11+rVkeZrrtWrI823sJtQAQA+io9iBwCyEyAAQHYCBADIToAAANl1iACZMWNG1NfX\n",
       "R01NTSxZsqS0vKmpKc4999wYNmxYjBgxovS9NRER9fX10dDQEKNGjYpRo0bF/PnzS+t292/53dF8\n",
       "33rrrdJcRo0aFcOHD48uXbrEunXrIuK97+75l3/5lxg2bFgcfPDB8cgjj5T293Hr2tuuzHX8+PHx\n",
       "+c9/vrT++9//fml/lTbXiIh77703DjvssBg1alQcfPDB8eMf/7i0rlLPa8Suzbfazu19990Xo0eP\n",
       "jkMOOSTGjh0bS5cuLa2r1HO7K3Ot1PO6ZcuWmDx5cgwfPjxGjhwZEydOLH0f2q6ev915vmVLHcDD\n",
       "Dz+c1qxZkwYPHpyefvrp0vLzzz8/nXvuuWn79u0ppZTWrl1bWveP237Q0UcfnebOnZtSSumOO+5I\n",
       "o0ePLmrou+Sj5vtBV155ZTr++ONLz08//fR0ySWXpJRSevzxx1P//v3T1q1bP3Fde9uVuY4bNy7d\n",
       "fffdO9y20ua6ffv21KtXr7R06dKUUkorV65MtbW1aePGjSmlyj2vKe3afKvp3K5bty717t07PfPM\n",
       "MymllB555JF00EEHlV5Tqed2V+Zaqed18+bNaeHChaX/xlx33XVp3LhxKaVdP3+783zL1SEC5H0f\n",
       "/A3/zjvvpO7du6cNGzZ84rYf9Nprr6Xu3bunbdu2pZTe+wtx3333TS+88EJRw95lH/cf5QMOOKDV\n",
       "H+iuXbu2CrDDDz88/fa3v/3EdbuLcub6cX+ZVdpct2/fnnr37p0efvjhlFJKS5cuTfvtt19qampK\n",
       "KVX+eU2pvPlW07l94okn0rBhw1qt7969e3ryySdTSpV/bsuZa6Wf1/c98cQTafDgwSmlXT9/lTTf\n",
       "T9Ih3oLZkRUrVkTv3r3j8ssvj9GjR8eXv/zlePDBB1ttc9ppp8WIESPijDPOiDfeeCMiItasWRP9\n",
       "+vWLLl3e+wy3mpqaGDRoUKxevTr7HHbVo48+Gm+//XYcf/zxEfHeWxbbtm2Lz33uc6Vt6uvrY/Xq\n",
       "1R+7rhL841zfd9FFF8WIESPilFNOiRdffDEiPv7nsLuqqamJ+fPnx0knnRSDBw+OL33pS/HjH/84\n",
       "9txzz6o8rx833/dVy7kdNmxYvPXWW/Hoo49GRMSvfvWr2LRpU6xatarqzu3HzfV91XBer7nmmjjx\n",
       "xBN3+fxV2nw/SYcNkObm5njppZfiwAMPjMWLF8e1114bp5xySrz22msREfHII4/EsmXL4qmnnoq+\n",
       "ffvG1KlT23nEbefmm2+O0047rRRR1WxHc73tttviueeei2XLlsWXv/zlD8VJJWlubo7LLrss7rrr\n",
       "rnjppZfiwQcfjG984xvx5ptvtvfQCvFJ862mc9uzZ89YsGBBzJw5MxobG+M3v/lNHHjggVX55/aT\n",
       "5loN5/Xyyy+P5cuXx+zZs9t7KLuP9r4Ek9MHL/m98cYbqVOnTqm5ubm0fvTo0Tu8lPXqq6+mbt26\n",
       "pZQq/y2YTZs2pW7duqW//vWvrZbvvffeH3lZ7+PW7S7Kmes/qq2tTW+++WZKqfLmuqNL16NHj06/\n",
       "+c1vUkqVf15TKm++/6iSz+0/2rJlS6qrqyv9XVPp57acuf6jSjuvV155ZWpsbExvv/12admunr9K\n",
       "mO/O6rBXQPr27Rtf+cpX4v7774+IiJUrV8bKlSvjC1/4Qrz77ruxfv360rbz5s2LQw89NCIq/1t+\n",
       "58+fHyNHjowDDjig1fIpU6bED3/4w4iIeOKJJ+KVV16JcePGfeK63dmO5trc3Fy6yhXx3vnbd999\n",
       "o0+fPhFReXMdOHBgrF27Nv76179GRMTy5ctjxYoV0dDQEBHVd14/br7Vdm4jItauXVv69fe+972Y\n",
       "MGFC6e+aaju3HzXXSj+vc+bMiXnz5sVvf/vbqKurKy3f1fO3u8+3LO1dQDlMnz499e/fP3Xu3Dl9\n",
       "9rOfTUOGDEkppbRixYo0fvz4dPDBB6dDDjkkLViwoLR81KhRacSIEenggw9OJ5xwQlq5cmVpf889\n",
       "91waO3ZsGjZsWGpsbEzLli1rj2l9pI+ab0op/dM//VO65ZZbPvSav//972nixIlp6NCh6cADD0z/\n",
       "+7//u1Pr2lu5c33nnXdSY2Nj6ZxPmDAhLVmypLS+Eud6++23l+Zz8MEHp5/+9Kel11TqeU2p/PlW\n",
       "47k988wzU0NDQxoyZEj6+te/3ur/oCv13JY710o+r2vWrEkRkfbff/80cuTINHLkyDRmzJiU0q6f\n",
       "v915vuXyZXQAQHYd9i0YAKD9CBAAIDsBAgBkJ0AAgOwECACQnQABALITIABAdgIEAMhOgAAA2QkQ\n",
       "ACC7/weIVAw6nU7YAgAAAABJRU5ErkJggg==\n",
       "\">\n",
       "      </div>\n",
       "      <script type=\"text/javascript\">\n",
       "        (() => {\n",
       "          const chartElement = document.getElementById(\"chart-9e1bc241-5f4e-48a9-ae12-0dcc4f0e2727\");\n",
       "          async function getCodeForChartHandler(event) {\n",
       "            const chartCodeResponse =  await google.colab.kernel.invokeFunction(\n",
       "                'getCodeForChart', [\"chart-9e1bc241-5f4e-48a9-ae12-0dcc4f0e2727\"], {});\n",
       "            const responseJson = chartCodeResponse.data['application/json'];\n",
       "            await google.colab.notebook.addCell(responseJson.code, 'code');\n",
       "          }\n",
       "          chartElement.onclick = getCodeForChartHandler;\n",
       "        })();\n",
       "      </script>\n",
       "      <style>\n",
       "        .colab-quickchart-chart-with-code  {\n",
       "            display: block;\n",
       "            float: left;\n",
       "            border: 1px solid transparent;\n",
       "        }\n",
       "\n",
       "        .colab-quickchart-chart-with-code:hover {\n",
       "            cursor: pointer;\n",
       "            border: 1px solid #aaa;\n",
       "        }\n",
       "      </style>"
      ],
      "text/plain": [
       "from matplotlib import pyplot as plt\n",
       "img_per_class['no. of images'].plot(kind='hist', bins=20, title='no. of images')\n",
       "plt.gca().spines[['top', 'right',]].set_visible(False)"
      ]
     },
     "metadata": {},
     "output_type": "display_data"
    },
    {
     "data": {
      "text/html": [
       "<h4 class=\"colab-quickchart-section-title\">Values</h4>\n",
       "<style>\n",
       "  .colab-quickchart-section-title {\n",
       "      clear: both;\n",
       "  }\n",
       "</style>"
      ],
      "text/plain": [
       "<google.colab._quickchart_helpers.SectionTitle at 0x7f9710664220>"
      ]
     },
     "metadata": {},
     "output_type": "display_data"
    },
    {
     "data": {
      "text/html": [
       "      <div class=\"colab-quickchart-chart-with-code\" id=\"chart-bfaaab01-06e0-412e-baaf-d6fcce043830\">\n",
       "        <img style=\"width: 180px;\" src=\"data:image/png;base64,iVBORw0KGgoAAAANSUhEUgAAAqsAAAFuCAYAAACm1lFrAAAAOXRFWHRTb2Z0d2FyZQBNYXRwbG90\n",
       "bGliIHZlcnNpb24zLjcuMSwgaHR0cHM6Ly9tYXRwbG90bGliLm9yZy/bCgiHAAAACXBIWXMAAA9h\n",
       "AAAPYQGoP6dpAACo0ElEQVR4nOydd3xb5dn+r6PpKXnb8Y5jOzt2hoMTshkJBErKaCCEmQLhB4UW\n",
       "OkLft/C2paW0lPC+bSEphTACJSkbAiGEkQBJyHT2jkfsxHY85an5/P6QniPZ8dA4ko7k+/v5+AOR\n",
       "ZOnRsXTOfe5z3dclMMYYCIIgCIIgCEKGKIK9AIIgCIIgCILoDypWCYIgCIIgCNlCxSpBEARBEAQh\n",
       "W6hYJQiCIAiCIGQLFasEQRAEQRCEbKFilSAIgiAIgpAtVKwSBEEQBEEQsoWKVYIgCIIgCEK2ULFK\n",
       "EARBEARByBYqVgmCIALEM888g2HDhiEmJgYff/zxRfe/8cYbGDlyZBBWRhAEIV8EilslCILwPzU1\n",
       "NcjKysL333+PkpKSYC+HIAgiZKDOKkEQRAAoLy8HYwwTJ04M9lIIgiBCCipWCYIIe+bMmYOHH34Y\n",
       "S5YsgV6vR1ZWFl544YUej9mwYQMmT54MvV6PwsJCPPPMM7DZbG6/RktLC+69915kZmYiKSkJV111\n",
       "FY4fPw4AeOmll3DFFVcAAOLi4hATE9Pnc7zyyivIzMwU/33nnXdi8eLFuP/++5GYmIikpCQ899xz\n",
       "OHv2LObPn4/Y2FiMGTMG27dvF3/n66+/xvTp05GYmIj4+HjMmzcPZWVlPV5nzZo1yM/PR2xsLK6/\n",
       "/no8+OCDmDNnjnh/d3c3fv3rX2PEiBGIj4/HrFmzsG/fPvH+r776ClOmTIFer0diYiIuvfRSNDc3\n",
       "u72tCIIgPIIRBEGEObNnz2Y6nY598cUXzGq1srfffpspFAp28uRJxhhjO3fuZGq1mq1bt46ZzWa2\n",
       "e/duNmzYMLZy5Uq3X+Oaa65hc+bMYefPn2cdHR3s4YcfZpmZmaytrY0xxthXX33FADCz2dzvc6xZ\n",
       "s4ZlZGSI/77jjjuYRqNh//nPf5jFYmHvvfceEwSBzZkzhx04cIBZLBb20EMPscLCQvF3vv32W/bd\n",
       "d98xo9HIDAYDu+eee1h2djYzGo2MMca2bNnCNBoN++STT5jFYmEbNmxgkZGRbPbs2T1e97LLLmNn\n",
       "z55lZrOZ/e1vf2PJycmsubmZMcZYeno6e/nll5nNZmNGo5Ft27aNtbe3u72tCIIgPIGKVYIgwp7Z\n",
       "s2ezu+66q8dtSUlJ7K233mKMMXbvvfeyRYsW9bj/2WefZSNHjnTr+c+dO8cAsLKyMvE2k8nEEhMT\n",
       "2b///W/GmPfF6rx583o8Ji4ujv3xj38U/717924GgLW0tPT5nE1NTQwAO3DgAGOMsWXLlrGbbrqp\n",
       "x2NuuOEGsVhtaGhgANixY8d6PCY/P5+9/vrrjDHGcnNz2X/913+x6urqft8LQRCEVJAMgCCIIUF6\n",
       "enqPf0dHR6OtrQ0AcPbsWYwYMaLH/fn5+aiqqnLruc+ePQsAPZ5DrVYjJyfH7efoj2HDhvX4d3R0\n",
       "dI/boqOjAUB8LwcOHMC1116LjIwM6HQ6DB8+HABQX18PwD7olZOT0+M5c3Nzxf8/deoUAOCSSy5B\n",
       "XFyc+FNTU4Pq6moAwIcffogzZ85g8uTJyM/PxxNPPAGLxeLT+yQIgugPVbAXQBAEEWyysrJw+vTp\n",
       "HredPn0a2dnZbv8+/52ioiIAgMViQVVVldvPIRU33XQTrrrqKrz22muIj49Hc3MzEhISwBzGLxkZ\n",
       "GaisrOzxO67/TktLA2Avevtb+/jx4/Hmm28CAMrKyjB//nxkZmbinnvu8cdbIghiiEOdVYIghjx3\n",
       "3303NmzYgHfeeQdWqxX79u3DX/7yF9x7771u/f6wYcNw9dVX49FHH0VdXR26urrwq1/9ChqNBgsX\n",
       "LvTz6nvS2toKnU4HvV6PpqYmPProoz3uv+222/DBBx/gs88+g9VqxcaNG/HJJ5+I9+fk5GDRokV4\n",
       "4IEHxCK2ra0Nn376Kc6fPw+TyYQ1a9bgwoULAAC9Xg+lUgmVinofBEH4BypWCYIY8lxyySV4++23\n",
       "8Yc//AHx8fG46aab8NBDD+Hhhx8GAFRVVSEmJgbffPNNv8/x+uuvIzc3F5MmTUJmZiYOHz6MzZs3\n",
       "IzY2NlBvAwDw8ssv4z//+Q9iY2NRWlqKq666qsf9s2fPxvPPP4//9//+H+Li4rB69WrceuutiIiI\n",
       "EB/z5ptvYvLkybjiiisQGxuLkSNH4sUXXxS7s2+//TbGjh2L6OhozJ49G3feeSfuuOOOgL5PgiCG\n",
       "DhQKQBAEMcRZtGgRUlNTsXr16mAvhSAI4iKos0oQBDHEeOedd2AwGGA2m7Fu3Tp8/PHHuPXWW4O9\n",
       "LIIgiD4hkRFBEMQQ46OPPsI999wDk8mEnJwcvPzyy5g1a1awl0UQBNEnJAMgCIIgCIIgZAvJAAiC\n",
       "IAiCIAjZQsUqQRAEQRAEIVuoWCUIgiAIgiBkS8gXq//7v/8b7CUQBEEQBEEQfiLki9XesYEEQRAE\n",
       "QRBE+BDyxSpBEARBEAQRvlCxShAEQRAEQcgWKlYJgiAIgiAI2ULFKkEQBEEQBCFbqFglCIIgCIIg\n",
       "ZAsVqwRBEARBEIRsoWKVIAiCIAiCkC1UrBIEQRAEQRCyhYpVgiAIgiAIQrZQsUoQBEEQBEHIFipW\n",
       "CYIgCIIgCNlCxSpBEAQRtnxQVoO/fXESjLFgL4UgCC9RBXsBBEEQBOEPLFYbfvXOAXSbbVg4YRjy\n",
       "kmOCvSSCILyAOqsEQRBEWFLe0IFusw0AcK6lO8irIQjCW6hYJQiCIMKSo7Vt4v/XGqhYJYhQhYpV\n",
       "giCIAFPZ2AGTxRbsZYQ9R88bxP+vo2KVIEIWKlYJgiACyN6qZsz+y9f49XsHg72UsOcYFasEERZQ\n",
       "sUoQBBFAjp23X5o+cs4wyCMJXznmKgNopWKVIEIVKlYJgiACSHOnCQDQ2GEM8krCm5ZOE867FKjU\n",
       "WSWI0IWKVYIgiADSwovVdhNsNvL+9BdHHR1sQbD/u85AJwcEEapQsRoCMMbw248O4y+fHQv2UgiC\n",
       "8JGmDjMAwGJjMHSbg7ya8IUPV03IjAMAXGg3wkonBwQRklCxGgKcrG/Hmu8q8I+vTuN8a1ewl0MQ\n",
       "hA/wzioANLRTt89fHKu1F6sz85OgVAiw2hhtbzdo6jDh+zONlPhFyAoqVkOA3RXN4v9/f6YpiCsh\n",
       "CMJXmnsUq6YBHkn4ApcBjE3XITlGC4CGrNzh5//Zj8X/3IE9lc2DP5ggAgQVqyHA7kpngfp9eWMQ\n",
       "V0IQhK+0dDov/VOnzz9YrDacqLMXq6OH6ZCqjwBAQ1aDwRgTi9RT9e1BXg1BOKFiNQRwPcOlzipB\n",
       "hDZNLp3VRuqs+oWKxk4YLTZEaZTITohCaqy9s0rF6sDUtxnR2mU/mbrQRidShHygYlXmXGgzorKx\n",
       "E4Jgn2o909CBetrhEkRIYrUxsRgAqLPqL/hw1ci0WCgUAtIcnVWKXB2Y4y6+tBfos0nICI+K1e7u\n",
       "bixatAiFhYUoKirCFVdcgVOnTgEA6uvrsWDBAhQUFGDcuHHYunWr+Hve3kcAexwSgJGpsRiVpgMA\n",
       "fF9O3VWCCEUMXWa4zq2QZtU/8OEqvs9M1XEZABVgA8GlEwBQT9uKkBEed1bvvfdeHD9+HPv378d1\n",
       "112HH//4xwCAFStWoLS0FCdPnsSaNWuwZMkSmM1mn+4jnBKAyTnxKM1LAEC6VYIIVVyHqwDqrPoL\n",
       "Plw1elgsACBNR5pVdzhGnVVCpnhUrEZERODqq6+G4HBZLi0tRUVFBQBg/fr1WL58OQCgpKQE6enp\n",
       "2LJli0/39cZoNMJgMPT4sVqtHr7l0GK3o1idkhuPS4YnAiDdKkGEKr2L1UYqCPzCMYcMYPSwnp1V\n",
       "cgMYGNfOKmlWCTnhk2b1f//3f3HdddehsbERZrMZaWlp4n25ubmoqqry+r6+eOqpp6DX63v87Ny5\n",
       "05e3IGu6zVYcqmkFAEzJScDU4fbO6sn6djrIEUQI0uwIBFA4UpVIBiA9LZ0mnHMUpSPTHJ1VvcO6\n",
       "ijqr/WKzsYuKVfJaJeSC18XqH//4R5w6dQpPPfWUlOsZkMceewytra09fqZOnRqw1w80B6pbYbYy\n",
       "JMdqkRkfiYRoDUam2ne+O0m3ShAhB++sZidEAaDOqj/gl7Iz4yOhi1ADcHZW27ot6DRZgrY2OXO2\n",
       "uRPdZhvUSvuZVJfZinYjbStCHnhVrD7zzDN499138emnnyIqKgqJiYlQqVSora0VH1NRUYHs7Gyv\n",
       "7+sLrVYLnU7X40epVHrzFkIC7q86JSdelF5cIupWqVgliFCDe6zmp9hPOjtMVnSZwlvKFGi4BIAP\n",
       "VwFAjFaFKI39WEFDVn3DnQAKU2MRo1UBICkAIR88LlafffZZ/Pvf/8bnn3+OuLg48fabbroJq1at\n",
       "AgDs2rULNTU1mD17tk/3DXX2ugxXcbhudccZGrIiiFCDe6xmJURCo7LvfmnISlr4cNUYx3AVAAiC\n",
       "IA5ZkW61b7gEYGRqLJIdvrRUrBJyQeXJg6urq/Hoo48iLy8Pc+fOBWDvdn7//fd4+umncdttt6Gg\n",
       "oAAajQZr166FWm2/BOPtfUMZ1ySRKbkJ4u1ct3q8rg0tnSbERWmCsj6CIDynxVGsxkdpkByjRU1L\n",
       "FxrajchyyAII3xFtq4bpetyeqovAmYYOcgToh+N19sSqwrRYVLd0obyhA/VUrBIywaNiNTMzs1/B\n",
       "dWpqKjZt2iTpfUOZ0xc60NxpRoRagbHpzp1ucqwWI5KjcfpCB3aWN+HKsWkDPAtBEHKCD1jFR6mR\n",
       "GKNxFKs0ZCUVVhvDcUeHcFRabI/70ihydUBO1Do7qwcdg73UWSXkAiVYyRQeBjAhMw5qZc8/0yV5\n",
       "Dgsr0q0SREjBB6ziozVIirFfaqUhK+moaOxAt9mGSLUSOYnRPe5L0ZEjQH+YLDacvuDsrCY7Ppvk\n",
       "tUrIBSpWZcruCocEwEWvyrlkOIUDEEQo0uwiA0iKsUt4SLMqHTxmtTAtFkruD+aAggH6p7yhAxYb\n",
       "Q4xWhXR9hFjYU2fVvxgtVjy3+UQPyzCib6hYlSl7qpxhAL0pdXRWj5wzwNAdnmlfJosN96/dgz9+\n",
       "cjTYSyEIyWh2uAHERamR6OhekQxAOo71MVzFoQGr/uHSicLUGAiCIHZWSbPqXz49WIvnNp/Eg2/u\n",
       "JU/bQaBiVYY0dZhw5kIHAGBS9sXFaqouArmJUbAxYHdFeEoBtp9pxKeHavHPrWfEbglBhDKMsR4D\n",
       "VklisUoFgVSIw1VpuovuSxU1q7S9eyPqVR3bjdwAAsN5x4nTibp27KBkygGhYlWGcBeAgpSYfqf9\n",
       "wz16dcvxC+L/v/JdRfAWQhAS0WGywmy1d09cZQCN1FmVDG5bNXpYH8Wqo7Na39YNm426WK4cF22r\n",
       "YgBQsRoomjqc2/e17RXBW0gIQMWqDOFhAJP70KtyeDjAjjAdstp60lmsvl9Wg6YOOqAToU2z4zMc\n",
       "oVYgUqOkzqrEtHaZUdPSBcAZs+pKSqwWggCYrUz0uyXscM1koWO7pcTaC/vGDiMsVlvQ1hXuNLoc\n",
       "1zYdqcM5x+eXuBgqVmXInoqLwwB6wx0BDtW0hl0kXk1LF07Vt0Mh2LvLRosNb+2qCvayCMInXIer\n",
       "ACCRd1bpREwSeHJVRlwk9JEXe3WrlQokRttPEGjIykmnyYKqpk4AEOO8E6I1UAgAY6BGgR/h21ap\n",
       "EGC1Mbz5PR3n+oOKVZlhtFhxwOFx5xoG0JuMuEhkxkfCanOGB4QLW0/Yu6oTs+OxfPYIAMDr2yvp\n",
       "DJ8IaZzDVfYilXdWmztN9NmWgGO1XAJwcVeVk6anYrU3p+rbwRiQFKMRh/6UCkH8fxqy8h+8WP3h\n",
       "xAwAwL93VsFoofjlvqBiVWYcqjHAZLEhMVqD3MSBU22cutXwsrDietXZhcm4pmgYkmI0ON/ajc8O\n",
       "1wV5ZQThPc7hKrXjvy7dK7os7TN8ELOv4SpOaix3BKACjHO8ljsB9CzyyWvV/3C9+s0lWRimj0Bj\n",
       "hwkbDpwP8qrkCRWrMmOPi15VEIQBH8t1q+EUDmC22vDdqQYAwKzCZGhVSiyZmg0AeGVbeTCXRhA+\n",
       "wbso8dH2zqpSISDB8f8NbVSs+srR2v6HqzjcEYCCAZyIetVexarotUruCX6D7xNSYiNw6yX249yr\n",
       "2yuDuSTZQsWqzNjthl6VU+rorB6obkGXKTwuHZSdbUGb0YL4KDXGZ+gBAEtLc6BSCNhV0YxDDokE\n",
       "QYQaXAbAO6sARA1lYwcVBL5gtTHRfmnUQDIA7ghAxarIMdG2ijqrgaTLZEWX2X7cTojR4Oap2dAo\n",
       "Fdh/tgVlZ1uCuzgZQsWqjGDMqT/tKwygN1kJkRimj4DZyrC3Kjx0q1yvOqMgWUygSdFFYOGEYQCA\n",
       "NWRjRYQoLb0GrAAgKZZSrKSgsrEDXWYrItQK5PaKWXUllSJXL6K/zirZV/kXfoKqUSkQ7XAH4cc5\n",
       "srG6GCpWZURlYycaO0zQqBQY5+gqDoQgCM7o1TDRrW454dSrunLn9FwAwEf7z9GBnQhJeg9YAS6d\n",
       "VfJa9QmxO5h6ccyqK6mUYtWDlk6TGJJQ6PBY5aTE8gEr2lb+gEsAEqM1ouTv9mk5AICP959HIx3n\n",
       "ekDFqozY7eiqTsjQQ6tSuvU73MIqHPxWG9uNOOi4zD+rIKnHfROz41GUFQeT1YZ/k70HEYJwn9WE\n",
       "aKcMIIkutUqCO8NVAJAmplhRAQbYk5MAu7tMbERPu69kxzAadVb9Q6O4P3CevBZnxWFCph4mqw1v\n",
       "7TobrKXJEipWZYQ4XOWGBIDDO6tlZ1vQbQ5t3eq3pxrAmH1AIsXRAXHl7ktzAQCv76iEmax+iBCD\n",
       "+6z26KxSipUkOJOr+terAk7NanOnmSyC4JJc1UeIAskA/EtT+8XFqiAIuH1aLgDgjR1k1+gKFasy\n",
       "Qhyuyna/WB2eFI3kWC1MFlvIi7L7kwBwrho3DMmxWtS3GfHJQbL3IEKLFnHAynlwSqYUK0kQO6sD\n",
       "OAEAgD5SDY3Kftirpyl3cSitt14VoGLV37jKAFy5ZsIwJERrcK61G5uP1gdjabKEilWZ0NJpwsl6\n",
       "+yUZd5wAOD11q6ErBbDZGLae4JZVSX0+RqNSYOkldk3PK9sqArU0gpCE5l4+qwB1VqXA0O2MWR09\n",
       "iAxAEASxu0pDVq6d1ZiL7uOa1Q6TFR1hlpIoB5wyAG2P2yPUStxckgWABq1coWJVJvBp/rykaDE5\n",
       "xF24bvX78tAdsjpaa0BDuxFRGiWm5PSf3LXkEru9x74qsvcgQodusxWdDnu5eJdOShJ1Vn2Gm9qn\n",
       "6yOgj7o4ZrU3vFgd6rpVxli/TgAAEK1VIUpjn52g7qr0NDncAPgJqyu3luZAIQDbTjfipONvNNSh\n",
       "YlUmcMsqT7qqnFJHZ3VvVTNMltDUuHAJwPQRieJlur5IjtXimiK7vcer1F0lQgQuAVApBMRqVeLt\n",
       "rp1VxlhQ1hbquCsB4IjBAEPcEeBCmxEtnWYoBGBE8sWdVcBFCkAnU5LT1MeAFScjLhJXjEkFALxG\n",
       "IQEAqFiVDVyv6o6/am/yU2KQGK1Bt9mGA9UtEq8sMLhGrA7GXdOHAwA+PnCOzL2JkMA5XKXukUzH\n",
       "O6smqw2GbrrU6g3uDldxUh0F2FDvrHK7r9ykaESo+3afSSHdqt/oyw3AlTscg1bv7K2GodscqGXJ\n",
       "FipWZYDZasN+R5HpTWdVEARMHR660avtRovYWZ7lRrE6PlOPyTnxMFsZ3iAbKyIE6MsJALDr03in\n",
       "laQA3uGubRUnTYxcHdrbm0sARvYhAeDwzio1BaSnvwErzrQRichPiUGnyYp391QHcmmyhIpVGXD4\n",
       "nAHdZhviotTIS+r7csxg8CGrHSEYDrDtVAMsNobcxCjkDJA+48pdDhurN76vIgsaQvY0d9g7IwlR\n",
       "Fx+YaMjKe2w2JmpWR7srAwiQZrWmpQuPrCuTbUT08QGcADgUueo/+rKuckUQBNzhCAl4bXslbLah\n",
       "LROiYlUG7K5w+Ktmx0MxQPrKQPAhqz2VzSHnQbr1pF0C4E5XlTN/bBrSdBFoaDdiwwGysSLkjasM\n",
       "oDc0ZOU9lU2d6DJboVUpkJsY5dbvBKpYXbezCu/uq8HqrWf8+jrecmIAj1UO2Vf5B6PFijaHw0Ji\n",
       "dP8D1T+clIkYrQpnGjrw3emGQC1PllCxKgO4E4AnYQC9GZkai7goNTpNVtmeyfcFY2xQf9W+UCsV\n",
       "uM1x1rnmuwoaTiFkTYtoWzVQZ5UKAk855pAAjEyLhUrp3uEszSVy1Z/7jdMXOgA4vUzlhM3GxPSq\n",
       "gYrVFEeKVT0Vq5LCr7SoFAJ0kap+HxejVeHGyZkAgFe3De1BKypWgwxjzKswgN4oFAJKckNPt1rR\n",
       "2ImzTV1QKwWUOrrD7nJzSRY0KgUO1rRib1WLfxZIEBLQ7HADiIvuv7N6gWQAHnPUUQiOGqDg6k2K\n",
       "zr69jRYbWrv8N7hy+oK9GDzT0C67q13VzV3oMluhUSmQk9B/R5o6q/6h0WFbFR+t6TFw2RdLS+1N\n",
       "mS+O1eFsU6ff1yZXqFgNMtXNXahvM0KtFFCUFefTcznDAUJHt7rluD2hoyQ3AdHa/s8w+yIxRotF\n",
       "xekAKCSAkDfNfPK3z86qvSCgzqrneDpcBdiH2ngwQ52fhqxsNoaKRntn1WxlqHT8v1zgYQD5yTED\n",
       "dqSpWPUPgw1XuZKfEoOZBUlgDFj7/dDtrlKxGmR2V9q7oGPT9f3ah7gL70zurmiGNUTE2FtP8tQq\n",
       "9yUArtwxPRcA8OnB80PeN5GQL80DyACSHTIA0qx6zrFae7Hq7nAVJ9XPKVbnDd3oNju7qfySu1xw\n",
       "R68KOIvVxg5TyBxTQoGBPFb74naHjdW6XWfRbR6aA8UeF6sPPfQQcnNzIQgCysrKxNs3btyIKVOm\n",
       "YMKECSgtLcX+/fvF++bMmYPhw4ejuLgYxcXFWLlypXhffX09FixYgIKCAowbNw5bt2717R2FGKK/\n",
       "qheWVb0ZPUyH2AgV2owWHDln8Pn5/I3RYsX20/YusCd6VVfGpusxdXgCLDaGtTuG7lknIW9EGUAf\n",
       "A1bOzirJADyhrduMs02OmFU3PVY54pCVn05wz1zoWZyekFkKkTtOAIC98ycIgNXGxAKL8J3GQZwA\n",
       "ejNvVAoy4iLR0mnGh/vP+XNpssXjYvXGG2/Et99+i5ycHPG25uZm3HrrrXj11Vdx4MAB/OUvf8Gt\n",
       "t97a4/dWrlyJsrIylJWV4Wc/+5l4+4oVK1BaWoqTJ09izZo1WLJkCczmoWOAy/1FvQkD6I2yh25V\n",
       "/lKA3RXN6DJbkRKr9Uhz1pu7HN3VN3dWDdmzTkLeiANWfRycyA3AO3jBNUwfcZF/7WCk+bmzeuZC\n",
       "z8v+J2XbWR3YKlGlVIiXqkkKIB2eyAAA+7GdDxS/um1oDhR7XKzOmjULmZmZPW47ffo0EhMTMXbs\n",
       "WADAzJkzUVVVhb179w76fOvXr8fy5csBACUlJUhPT8eWLVv6fKzRaITBYOjxY7WGbnFi6DaL2qFJ\n",
       "EnRWAVe/VfkPWXEXgFmFyYOKzAfiijGpyIiLRFOHCR8N0bNOQt7wg9PAbgDUufIEp17V8xNdHrnq\n",
       "L/uq8gZ7scrXJqfOqtlqE4e/BuusAq4DgFSsSoUzvap/26reLJ6SBa1KgcPnDENyoFgSzWpBQQEa\n",
       "Gxuxbds2AMCHH36ItrY2VFRUiI9ZsWIFxo8fj8WLF+PMGbvvXGNjI8xmM9LS0sTH5ebmoqqq71Si\n",
       "p556Cnq9vsfPzp07pXgLQWFfVQsYA7ITokSLEF/hfqu7KppkbyK89YTn/qp9oSIbK0LGWFyiVOMH\n",
       "8FltM1royoAHHPUwDMCVVJ1/I1d5MXjlWPuxrbyhAyaLPBwByhs6YLYyRGuUyIiLHPTxKY4uNKVY\n",
       "SUeTww0gIcb9KwLx0Rr8oMg+UPza9gp/LEvWSFKs6vV6vP3223jssccwefJkbNq0CWPGjIFKZZ/u\n",
       "fv3113Hs2DEcOHAAM2fOxDXXXOPV6zz22GNobW3t8TN16lQp3kJQ2OMIA5BCr8oZl65DtEaJ1i6z\n",
       "mP0sR2pbu3Gstg2CAMzMT/L5+W4uyUKEWoEj5w3Y5dABE4QccLVH0kdeXKzqIlTQOCayG0kX6Dbc\n",
       "Y3WUF8Wqv2UAvLN66YhExGhVsLi4AwQbUa+aFuvWFS1KsZIeT2UAHD5Q/MnB86hvG1onD5K5Acyd\n",
       "OxdbtmzBnj178Ne//hXnzp3DmDFjAABZWVkA7PFhDz74IM6cOYPGxkYkJiZCpVKhtrZWfJ6Kigpk\n",
       "Z2f3+RparRY6na7Hj1Lp2wR9MNld6XsYQG9USgUmh4BuladWTciM61PH5ylxURr8cKJdnvLKtnKf\n",
       "n48gpIIPV+kiVH3aBAmCIEoBGkgX6BY2GxNPxkd7IwMQU6yk397dZitqWuyDXyNSYpCfYteFykUK\n",
       "IOpV3ZAAAGRf5Q8aPXQD4IzL0GNSdhzMVoa3dp71x9Jki2TF6vnzzsjL3//+95g3bx7y8/NhsVhQ\n",
       "V1cn3vfOO+8gNTUViYn2y9U33XQTVq1aBQDYtWsXampqMHv2bKmWJVssVhvKzrYAAKbkJEj63E6/\n",
       "VfnqVr1JrRqMOx1nnZ8drhMPFgQRbLht1UAHJlG32kEFgTucbe5Ep8luaj88Kdrj309zaFYb2o2S\n",
       "G/ZXNHaAMfvJSWK0BoWpjmJVJle6eGd1MNsqDhWr0uNtZxVwdlff+L5SdmET/sTjYvW+++5DZmYm\n",
       "qqurMX/+fOTn5wMAHn/8cYwaNQr5+fmorKzESy+9BMA+FLVw4UKMHz8eRUVFeP755/Hhhx+Kz/f0\n",
       "009j27ZtKCgowJ133om1a9dCrb74Ulm4cay2DZ0mK2IjVChIGXgi01NK8+zF6s6KJlnqN602hm8d\n",
       "/qqzC32XAHBGpsVi+ohEWG0Mr28nGytCHvBAgIEm1kVHgDaSAbgDH64qTB3Y1L4/EqI0UCsFMCZ9\n",
       "EVbucAIYnhwDQRDEISa5eK162llNcRSrFLkqDRarDS2Oqy2edlYB4Kpxw5AUo0WdwYhNh+sG/4Uw\n",
       "wbPIIACrV6/u8/YXX3yxz9ujo6Oxe/fufp8vNTUVmzZt8nQZIc9uh151UnY8FArvJ+H7YnxGHCLV\n",
       "SjR1mHCyvt2tic9Asr+6Ba1dZugiVCjKjJP0ue+cnottpxvx1q4qPHxZASI1oSsTIcIDfmDqa7iK\n",
       "k+iYCm6gzqpbHD3PJQCe61UBezx1SmwEalq6UGvoRrobg0bucsahVx3h6PiKxWp98DurXSYrKh2R\n",
       "nYUedlZJoiINXBYkCAOfwPaHRqXAkqlZ+L8vT+HV7RVYOGGY1EuUJZRgFSS4XlXK4SqORqXAZMfz\n",
       "yjF6lbsAzChI8qorMhCXjU5FVoLdPPmDshpJn5sgvGGg9CpOUizXrFJn1R2O+jBcxeGOAFJPuXMn\n",
       "gOG9itXKxk4YLcF1ezhV3w7G7JefeTd/MEgGIC2uNnZKLxtVSy7JgVIhYGd5k/hdCHeoWA0Se/ww\n",
       "XOWK6LdaLj/dqj/0qhylQsAdjmg6srEi5EBTpxsygGgea0kFgTv4MlzFESNXJU6x4k4AeckxjtfR\n",
       "IjZCBauNXRQWEGi4r7cnV9u4DKDNaEGXiazVfIV/x72RAHDS9BFY4LBFe22ISN6oWA0CNS1dON/a\n",
       "DaVCQHFWnF9eg/utfn9GXrrVlk4T9jsGy3z1V+2Pm6ZkIVKtxPG6NhwOgdhZIrxp6eD6tP5lAGJn\n",
       "leyBBqXdaEGV41K2b51Vbl8l3TZnzFmQ5iXbO6s9davBlQIcr7XvD90drgKAGK0KEWp7qUDdVd9p\n",
       "8tIJoDe3ltpdkz49dH6QR4YHVKwGAd5VHTNMhyiNx7JhtyjK0kOrUqCh3ShqqOTAt6caYGP2wYhh\n",
       "eul0Yq7oI9W4xDFktqtCfp1lYmjR7E5n1XFJllKsBocXXKk6rc/dKUDaYICmDpPoq5ub6HQp4I4A\n",
       "wY5dPV7nfnIVRxAEpxSgfWh5e/oDX5wAXBnl0Gu3dJqHhCsAFatBgIcBTPaDXpWjVSkxMTsOgLws\n",
       "rLYcd6RWFfinq8opcXjN7qaAACLIOAesBrCu4gNW1FkdFHG4yoeuKuAMBpCyWOUSgIy4yB7DnQUp\n",
       "8uisnhBtqzxzoBGDAaiz6jP8hNTXzqouwtnoMrgEj4QrVKwGAXG4yk96Vc4lwx1SAJmEAzDGxDCA\n",
       "2SP9W6zywbVdMrXvIoYOTeKA1eAygKYOE6wyj0kONuJwlZdOAJwUx4CVlClWvSUAHN7JPFkfvM5q\n",
       "a6dZfK8FHjrE8Dhwsq/yHak6qyqlArGOgrWFilVCatqNFnFnK3UYQG/4pXC56FaP17WhzmBEhFoh\n",
       "dj79RVFWHDRKBerbjKK+jSCCQQsvVgc4OCVEaSAIgI05ZQNE34jDVcN8s+QTO6sSDlhxyVXvoAIu\n",
       "A6hs7EC3OThDStw6K10fAV2EZ17m5AggHVJpVgEgznECzK/ehDNUrAaYsqoW2Jj9MhHXTPmLSdnx\n",
       "0CgVqDV0y6Jg45ZVpXmJiFD71/80Qq3E+Ew9AGAXSQGIIMEYc0sGoFIqxPtJt9o/NhvDMcfJvs8y\n",
       "AMf+t8NkRVu3NAf7Mw7bqrxexWpyrBb6SDVszGltFWg8Ta5yhYpV6RDdANy0DhuIuEj7PoNkAITk\n",
       "iJZVftSrciLUShRl2Qs2OehWuWWVv/WqHC6z2E1DVkSQaDNaYHFc1o8bQAYAOC8Lkm61f6qbu9Bh\n",
       "skKj9C5m1ZUojUq8jFonkSPAmV62VRy7I0Bwh6y4XtbdMABXkinFSjKkkgEA9mFiAGjpCv8TXCpW\n",
       "A8zuSnvh5G+9KofrVncEWbfaabJgV7m9UPe3XpVTkkOOAERw4VGrkWrloFcTxMhVKlb75ajDCaAg\n",
       "NQZqCQJFUiUcsrLaGCob+5YBAE6daLCGrMTOqheJhinUWZUMqQasAEBPMgDCH1htDPuqWgAEprMK\n",
       "9NStBpMdZxphstqQERd50SUyf8G38ekLHWikAoAIAs0eZIAnxvDOavh3SbxFquEqTpqEwQDVzZ0w\n",
       "Wxk0KgUy+ohvLUyxd1ZPBKGzyhhzdla9KFZJBiANNhsTNelSdFbjIqlYJfzA8do2tBstiNGqJNvZ\n",
       "DsbknHioFAJqWrpQ3Rw83erWEw0A7F1VQfAuYs5T4qM1KHAcILj8giACidNjdfCBFuqsDs6x89IM\n",
       "V3HEzmqb78UqdwIYnhgNRR8xmk5HgMB3Vi+0GdHcaYZCAPJTPLOtApzFakO7ETZyq/Cali4z+OYb\n",
       "aODSXfh+pZU0q4SU7HFIACZmx3mdCewpURqVuHMKpm2KPyNWB2IK91ulYpUIAqITwADDVZykGD5g\n",
       "RcVqf3AZgK/DVZw0vb0Ik8IRwKlX7fvKEZcBVDV1Bjy2lMes5iZGezXcyk+kLC6dQcJzmhzDVboI\n",
       "lSQyFj5g1TIE/iZUrAYQ3t2blB0YCQAnxdE9aAjSJZyqxk6UN3RApRAwfURiQF976nD7tt5ZTrpV\n",
       "IvA0OaJWPeushv+Bxxs6jBZUNjpiVr0YEuoLZ+SqFJ1VhxNAP8VqUowG8VFqsCA4AnC9qjcSAABQ\n",
       "KxWilOUCnUx5DderJkrgBAA4NavUWSUkJVBhAL1JDvJBcIsjCGBSTjxiPfT38xXuZXuopjXg3QyC\n",
       "4B0P9zSrPHKVioG+4P6qKbFayQ72zmLV920uygCS+r7MLghC0IasfHEC4FCKle9I6bEKuLoBULFK\n",
       "SESdoRvVzV1QCMDEAHdWeTpOsHYyW4MkAQCAzPhIpOkiYLExlJ1tCfjrE0Mbp2bVfRmAP08qj5wz\n",
       "YOOhWr89vz855pAAjJJIAgA4B6zqJeislg8iAwCc4QCBHrI67ng9b5wAOKJ9lUQ2X0ORRomLVT5g\n",
       "1UoDVoRUfHfKPmA0Kk2HGK1qkEdLi3hGHISOjcliwzbHew9GsSoIAvmtEkGjWQwE8GzAyl+Jcw/+\n",
       "ey+Wr92DA9Utfnl+fyL1cBXg7KzWtxl9irntMFpEKcFAbifikFUAO6s2GxNfb2Sa58NVHNG+ijr/\n",
       "XiOlxyrgPAmmziohGRsOnAcAXD4mNeCvLU5yBqGzureqGR0mKxKjNRgjYUfEE3i06y4asiICDPdZ\n",
       "dWfAiltXGS02tBstkq+ly2QVL1UH28rOG7ht1WgJnVSSYjRQCHZbQV/kF7yrmhCtGbCLXpDikAEE\n",
       "0BGgpqULnY4ghdxE720Dyb7Kd6SWAbi6AcghUt2fULEaAFq7zNjq0G1eO2FYwF8/mJ1VMbWqMLlP\n",
       "O5dAwDureyubfeqeEISniJ1VNw5OURoVojT2SW1/RK5WOAzrAftJZCjBGBM1q1I5AQD2mFtehPky\n",
       "ZCU6AQziIc1lAGebutBpkv6EpC/4cNWIlBiofJhAp2LVd6SWAXDNqtXG/HKCKyeoWA0Amw7Xwmxl\n",
       "GJkaKwrsA0kwdzJbxWI1KeCvzeHSi3ajRdS9EUQgcFpXuTdY6E+vVd5VBezFaih1Yqqbu9ButECj\n",
       "VAyoCfWGNDHFyvttzp0ABouATYzRipeATwXISpDbVo1M9V4CALhGrvqu7x2qcOsqfhXFVyLUSmhV\n",
       "9jIu3IMBqFgNAB87JADXBKGrCjgPgK1dZhgtgZuIv9BmxOFz9uJwZkHg9aocpULAJEea1S6ysCIC\n",
       "SLMHPquAf1OsyhucxVGdwYhzEniLBgouAchPkSZm1ZUUCeyrnMNVgxeEBQEeshJtq3y0+6LOqu84\n",
       "o1alcbMAhk4wABWrfqa5wyQOVy0MUrGqj1RDrbRfgvfH5cX+2HGmEQAwNl0nFszBYqpDCkC6VSJQ\n",
       "dJms6DbbALjnswr4ubPa0NHj33tD6Ltw1DFcNUrC4SqO2Fn1oXjnXWt3ur6BHrI6IXZWfdt2KVSs\n",
       "+ozUA1aAazAAFauED3x2uBYWG8OYYTq3zrr9gUIhBCXKsbq5C4DvO0kpEJOsKppC6vInEbrwrqpa\n",
       "KbjtAJIkeq36o7NqL6hSdfbXCCXdKpfvSDlcxUnTcxmAd8UqY8wZCDCIDABAQL1WzVabGEDgbSAA\n",
       "JznGvp0M3RZ0m8mz2lMYc6Z/SaVZBZzBAC1d4R0mQsWqnxElAEXB6apykoJg6My1Tcm64HZVAaAo\n",
       "Mw5qpYA6g1EsognCn7h6rAqCe8OFTq9V6b+nvFhdNDEDALC3qkXy1/AX/hiu4viaYnWhzYgOkxUK\n",
       "AchOjBr08YUpgZMBVDR0wGxliNYokREX6dNz6SJV0Dj0kdRd9RxDtwVmq71RImWxyr1WqbNKeE1D\n",
       "uxHbTtslANeMTw/qWoKhN6p3vFZKbETAXrM/IjVKjMvQAwB2kd8qEQBaPPBY5Yid1Q5pv6fNHSZx\n",
       "PddPzAQAHDnXGhIdsk6TRXQy8IcMgHeave2snnZIALISoqBVKQd9PO9w1rR0ocPPE9x8uKogNdZn\n",
       "NxZBEILqLBPqcAlAtEaJCPXgnxN3Ic0q4TOfHqqFjQETMvVunXH7k+QgyAAuGHixGvzOKuDit1oR\n",
       "Opc/idCFH5zcSa/iiANWbdJe0uN61XR9BApTY5AUo4HZynD4XKukr+MPTtW3gzF719kf2neuWa31\n",
       "UrPKO9aDOQFw4qOd7+Oknx0BTtRKo1flhOOQFWMMv/voCH7w929h6PZfwcedABIkcgLgcPsqKlYJ\n",
       "r/l4/zkAwXMBcCUYkatcBiCXYnVKDiVZEYGD21YleFCsitpyiTurYkGVHA1BEMTI572VLZK+jj+o\n",
       "aOwE4H4x6CmpeqcWs8vkeafZqVd1fybBGbvqX92qaFvloxMAx2lfFT7F6vNfn8bL35XjQHUrdvox\n",
       "LMMfTgCAS4pVJ2lWCS+oN3Rjp6MoWjghuBIAIDjBAKIMQBd8GQDgHLI6Wd8uJgsRhL9wBgJ4IgPg\n",
       "nVWpi9WePqCTeLEaAkNWlY5CO8eH9KWBiNU6wxi8kQKccTkRcJdAOQJwXaxUxWq4OQJ8drgWf/ns\n",
       "uPjvmhb/zTP4wwkAcHZWSbPai4ceegi5ubkQBAFlZWXi7Rs3bsSUKVMwYcIElJaWYv/+/eJ99fX1\n",
       "WLBgAQoKCjBu3Dhs3brVrftCmU8OngdjwKTsOJ+F7VKQJEauBqZIazda0OnoUsils5oQrUG+Y7hh\n",
       "dwjZ9hChieuAlbvwzqqh2wKTxSbZWpyXqu2f/0nZcQBCIxygssneWc1J8I+UShAEn4as+LYd4UHn\n",
       "NxBeq91mq6j19dUJgBNOMoCj5w342boyAPYTFsC/xarU6VWcONENgIrVHtx444349ttvkZOTI97W\n",
       "3NyMW2+9Fa+++ioOHDiAv/zlL7j11lvF+1esWIHS0lKcPHkSa9aswZIlS2A2mwe9L5ThLgBy6KoC\n",
       "ge+s1jt2+tEaJaLdtO0JBCW5JAUgAgPv3nsyYKWLUEPlGISRcshK9AF1FFQTMuOgUgghEQ5Q6Si4\n",
       "cvwkAwC8H7IyWWyochTTnlgTBqKzerLOrvVNiNaIHXtfCZditaHdiB+/uhudJisuzU/ETy7LBwDU\n",
       "+NEpxl+dVe6zaqBitSezZs1CZmZmj9tOnz6NxMREjB07FgAwc+ZMVFVVYe/evQCA9evXY/ny5QCA\n",
       "kpISpKenY8uWLYPe1xuj0QiDwdDjx2qV3zTruZYu7K5shiAAC8cHX68KOHcyUl9e7A8eXSgXCQBn\n",
       "Sg4fsqJilfAvogzAg86qQiGIQ1ZSea3abEzssHEZQKRGKdpAyT0cgGtWc/04pOqMXPWsWK1q6oTV\n",
       "xhClUYoFrzsUptiL1XOt3Wjz01AP16sWpsa4bZ02GNzZ5UIIR66aLDbcv3YPalq6kJsYhX8smYTs\n",
       "BPv3ojoAMgCpO6skA/CAgoICNDY2Ytu2bQCADz/8EG1tbaioqEBjYyPMZjPS0tLEx+fm5qKqqmrA\n",
       "+/riqaeegl6v7/Gzc+dOKd6CpHxy0N5VLclJEA2ngw2XAbQZvRsi8BTRY1UmEgAOdwQ4WBMatj1E\n",
       "6NLiYdQqJzFa2qsgtYZudJttUCkEZMY7JUmuUgC50mG0iF28nAR/dla5I4Bn29zVCcCTglAfpRbl\n",
       "Uf5yBJAqucqVUO+sMsbw3+8fxK6KZsRGqPCvO0oQF6URvxf+7Kz6XwYQ3nMYkhSrer0eb7/9Nh57\n",
       "7DFMnjwZmzZtwpgxY6BSSXv597HHHkNra2uPn6lTp0r6GlIglyAAV2K1Kmgdhs6BsK+60CYv2ypO\n",
       "VkIkUmK1MFsZ9p9tCfZyiDDGmwErwFVfLs33lEsAshOjoFI6d/mTcviQVYskr+MP+CX2uCi1mNTj\n",
       "D1K97KyKTgBepBP6Wwpw3GFbVSjRcBXgUqy2G2Wvde6Ll7+rwPrd1VAIwN9umSjOMKQ75koa2o1+\n",
       "a2Jw66pEqa2rHN+LbrMtrBswkrkBzJ07F1u2bMGePXvw17/+FefOncOYMWOQmJgIlUqF2tpa8bEV\n",
       "FRXIzs4e8L6+0Gq10Ol0PX6USunMdaXgbFMnys62QCEAC8alDf4LAUIQhB47Gn/DnQBSZSYDEARB\n",
       "7K7SkBXhT5q98FkFgCRH56VRIscK7gTQOwqUOwLIORxA1Kv6yQmAw6+AeTpgxU8EvLHV8veQlT86\n",
       "q1z7araykLvsvOXEBfxhwxEAwK+vHo05I1PE++Kj1Ih0GPWf85MUoMlP1lWxWhWUDp17OHutSlas\n",
       "nj9/Xvz/3//+95g3bx7y8+2i5ZtuugmrVq0CAOzatQs1NTWYPXv2oPeFIhscEoBLhifKIrnJlUBG\n",
       "rvIBK7l1VgFgimPIinSrhL8wW21oc6QTeSoDkLyz2o9pfWZ8JJJi7FcZDtXIMxwgEHpVwPvOqugE\n",
       "4IFtFYd3Vv3htdraZcZ5x+BcgYTFqlalFC87h1KK1an6djz45l7YGPCjKZlYNmN4j/sFQUAGlwL4\n",
       "oVhljIknn1IPWAmCMCR0qx4Xq/fddx8yMzNRXV2N+fPniwXp448/jlGjRiE/Px+VlZV46aWXxN95\n",
       "+umnsW3bNhQUFODOO+/E2rVroVarB70vFNkgQwkAJ5B6I6fHqvyKVd5Z3VPRDKst9C5lEfKHHzQE\n",
       "wTkA4S6JkndWe9pWcQRBkL1uNVCdVT4cVW/w7PL2mV7+tZ7AgwFO+qGzyqUFw/QRHn/+BiM5gE0P\n",
       "KWjtNOOe13ajrduCktx4/H7RuD71xdxi0h+d1U6TFUaHFZ3UmlUAiBsCKVYei0pXr17d5+0vvvhi\n",
       "v7+TmpqKTZs2eXxfqFHR0IGDNa1QKgQsGCsfCQAnKYCRq2KxKrPuMgCMSotFjFaFNqMFx2vbMCZd\n",
       "F+wlEWEGH67SR6rFS3TuIvX3dKA40InZ8dh0pA77ZKpbrWz0r8cqh++nTFYbmjpMSHQj1rW1y4wG\n",
       "x6Vdb4rVfIcjQK2hG61dZkmLSqmTq1xJjtXiZH17SBSrFqsND7y5F+UNHciIi8QLSydDq+pbOpjh\n",
       "xyEr7gSgVSnEAAop0Ymd1fAdsqIEKwnhEoDpIxLd2tkFmoB2VmUsA1ApFZjo6CjtriQpACE93thW\n",
       "cfgARoME1lUmiw1nRR/QiwsquYcD8GI1N8m/xapGpRD1mNx2bzD4SUBKrBaxEZ4XmvpItWiZdape\n",
       "WinAiVrp9aqcFDFyVf72VU9uOIpvTzUgSqPEi7dPEU8E+4J3Vv1hX+UqAZDKRsyVoRAMQMWqhHy0\n",
       "/xwA4JoJ8pMAAC5eq37urHabrTB02/V6cuysAk4pwK4KeV7+JEKbJnG4yvMiRsrOalVTJ2zMHs7R\n",
       "14mjnMMBus1WnGu1Fw7+lgEAnutWuROAN11Vjr+GrJweq/7prALylwG8+X0VXtlWAQBYubh40Cto\n",
       "/rSv4k4ACRI7AXBEGQBpVonBOFXfjmO1bVApBMyXoQQAAJIdXxR/72T482tUCugi5ZNe5Yo4ZFXe\n",
       "JMuOEhHa8MtxCV50Vnmx2tRhgs1HTXW5S259Xx0dOYcDVDd3gjEgRquSfCilLzyNXOXb1hvbKo4/\n",
       "hqwYY6Jtlb9kAIC8i9UdZxrx+AeHAAA/v7LQrWMy76z6Y8Cq0U9OABzuOBLOXqtUrEoEH6yaWZDk\n",
       "sVVNoAiUdRW/PJQSq/XLJQ8pKM6yd5RqDd1+zYMmhiZcBuDNvoDLAKw25vNlvXJxAKj/gkquQ1YV\n",
       "DQ69amJUQPYjzmAAdzur3jsBcPwxZLX9dCOaO82I1ihFH1EpSRZlAPIsVqsaO3H/2j2w2BiuLUrH\n",
       "A3Pz3fo9rlmtbe2WfPDWX1GrHP0QGLCiYlUiPj5glwAsnJAe5JX0T3KMfWfc0GbyazexnketylCv\n",
       "yonSqDA2Qw8A2E1SAEJinOlVnssA1EqFKB9o9PHEcqDhKo5cwwEqm5zFaiDg+lF3tZinJZEBSN9Z\n",
       "fX1HJQBg0cQMRKilH+ZxRq7Kr1ht6zbjx6/tQnOnGRMy9fjLjRPcPtFJiY2ASiHAYmMeW5gNhr+i\n",
       "VjlkXUW4xfHaNpysb4dGqcCVY1ODvZx+SYq1f1G6zFZ0+DFyVc5OAK6UOA7SO8lvlZAYfnCK9/Lg\n",
       "xDswvl4F4d2/3oEArsg1HCBQtlWcNL395NqdzqrNxlDR6LsMoMDR+axvM0qiN6xt7camI3UAgKWl\n",
       "OT4/X18EMlzGE6w2hp++VYYTde1I1Wnx4u1TPCrWlQoBw+Lsxyypr7b5K2qVw09uqbNKDAjvqs4q\n",
       "TIbOi6nQQBGlUSHaYZvhz7NiflYqR49VV0qGO5KsqFglJMYXNwDAqVtt9NERwJ3OqlzDAQIVCMBJ\n",
       "ETWrg+8bzxu60W22QaUQkOW4fOwNsRFqpDvSs05I4Ajw1q4qWG0MJbnxohZZarjPakunGUaLfE5u\n",
       "ntl0HF8cq4dWpcA/b5viVXqiqFuVeMjK3zIA0Q2AOqtEfzDGRL3qtTIMAuhNUgAcAeQatdqbKY7O\n",
       "6om69rD2pyMCjy8yAEAaR4B2o0X8LuYOUKzKNRwg4J1VD9wAyh0d6+zEKKiUvh1GpZICmK02/Htn\n",
       "FQD/dVUBe2GkVtovrUthryYFNS1dWLXlNADgzzdOQFFWnFfPkxEXJT6flPi7s6qPpAErYhCOnDfg\n",
       "TEMHtCoFLhstXwkAJxDpI/wAmSxjzSoAJMZoRe/JPTKbhCZCm+ZObl3lbWfVkWLlQzHAC6qkGM2g\n",
       "hvOibrWyxevXkxKz1SZ2twKtWW3qMA3aMeTJVXkDDK65Cx+y4t6o3rL5SB3qDEYkxWiwYJz/HGkE\n",
       "QZBditXnh2vBGDA1NwHXFWd4/Tx8yKpa8s6qfTsl+su6ijqrxGB87Oiqzh2ZghitPG2aXAmE7Yic\n",
       "AwF6U5JDfquE9IgygGjvOquJEnRWPYkC5bpVuYQDnGvpgsXGoFUpkBog7XtclBoalf2QWD+IFEDU\n",
       "AvvgBMBxdlZ9cwTgg1WLS7L6TWmSCrnZV3122K7T9XVmJNNP9lVN/raucpyMtnVbwjZCnIpVH2CM\n",
       "iXrVa0JAAgAEJnL1QogMWAFOv1XSrRJSYbMxn3xWAdfvqQ+dVTf0qpzxGXqoFALq24yysHLjetWc\n",
       "xCgoPIyr9RZBEJDq0NkPJgU40zD44Jq78JSpkz5oVk/Vt2Hb6UYoBOCWqdk+r2kwkmWUYtXcYRKH\n",
       "ZK8c41tH2Rm52unzujjdLgPN/pIB6FyunBjCdMiKilUfOFjTirNNXYhUKzFvVEqwl+MW/j4jNltt\n",
       "oj5H7gNWgDPJ6kC1vCahidClrdsC3tzwVgbgjFz1/nvqLFYHv1TtGg6wTwYWVoHWq3LS3AwG4OlV\n",
       "vjgBcLgXakO7SRzE8ZS1O+xa1XmjUpEZ73/ZRLKM7Ku+PFYPq41hVFossn2UjLgGA0h1hYH/TdVK\n",
       "AboI/1x9VSsV4pXdcI1cpWLVB7gE4LLRKYjSyF8CAPi/s8qfV6UQvO4qBZKcxCgkxWhhstpwUEaT\n",
       "0ETowvWq0RqleFnZU0Q3gA4pilX3Cj45DVlV8s5qQmD0qhxn5Gr/273bbBW7z754rHKitSox6tOb\n",
       "IatOkwXv7KkGACwt9X9XFZCXDGDTkVoAwJUSJEdy66pus83rE4feiDZ2URq/hls4vVbDc8iKilUv\n",
       "cXUBuGZCaEgAAP/vZLjWKylGG7DLd74gCAKmDnf4rZaTFIDwnSYfh6sA54BVQ5t3Bx7GmDhg5a6u\n",
       "Uk7hAGJnVYJi0BNS3XAEqGy0x8DGRqjEv5Ov8NjVk14Uqx+WnUOb0YLshCjMKkiWZD2DIZditctk\n",
       "xZYTFwAA8yXwONeqlOKshVRyGH87AXDEISvqrBKu7K1qQU1LF6I1SswZGRoSACAAxSrXq4aABIAz\n",
       "JYf8VgnpEPWqPhyceGe1y2xFp8ni8e83tJvQZrRAEIBsN7uTcgoHCLTHKifNjchVVwmAVJ2yAu4I\n",
       "4OGQFWMMr223D1YtLc0OWIOAuwEEO3L1m5MX0G22ISMuEmMk8pVNl9hr1d9OABxerJJmlegB76pe\n",
       "MSbVL5F2/kLs2LT7J3KVC+5DwQmAw3WruyubYQvTSUoicDR32A8WcV56rAJAlEaJCLV99+xNd5VL\n",
       "ADLjI93eP8klHMBmY6hq4sVqgDur+sE7q1IOV3EKU7zzWt13tgVHzhugUSlw0+QsydYzGLwZEezO\n",
       "Kk/runJsqmQnDuKQlVSdVT87AXDCPXKVilUvsNkYPjnIJQDpQV6NZ/COjclqg6HL847NYHAZQHII\n",
       "OAFwRg+LRZRGibZuiyQpMsTQprnTqVHzFkEQnPpyL3Sr5aJtlfsDQHIJB6g1dMNksadDDdMHdj/i\n",
       "TjCAOxG2niLKAOo966yudXRVr52Q7nW0rzeIPqvtxqBZnVmsNnxx1FGs+ugC4Aq3r5LKa9Xf6VUc\n",
       "MRiAilWCs7uyGbWGbsRGqDCzMCnYy/GICLVSnEi80C697YgoAwihzqpKqRAvgZLfKuErzT6mV3FE\n",
       "r1Uvulfedv/kEA5Q4dCrZiX4ng7lKdy6qtbQ3W8RJvrXSuCxyslPiYEg2Asbd4dfmzpM4pDvbdP8\n",
       "l1jVF1xOZrL4p+nhDrsrm9HcaUZ8lBolDgtCKeCd1XMSdVabAq5ZpQErwgH3Vr1yTJrfzZf9QZKo\n",
       "W5X+Qy0GAoSQZhUgv1VCOpyBAL4dnJJdJDuewoerPJ1Wl0M4QKWLx2qg4QNW3eb+i7By8UTAd9sq\n",
       "TqRGiSyH5ZS7UoD1u8/CZLVhfIYeRZl6ydbiDv5uerjDJkcQwGWjUyU9qcmQOBggYANWDhlAK3VW\n",
       "CQCw2hg+OWi3ygiVIIDeuF7CkRreWQ1U6oxUiLpV6qwSPtIigQwAABIdGrdGL76nntpWcSZkBj8c\n",
       "gHdWA61XBexFGO9Q1fVheN/UYRIvs0phW+UKj1096caQlc3G8Mb3zsEqf1oi9YczGCDwulXGmNOy\n",
       "aoy0MedSa1YDJQMgNwCiB9+XN6Kh3Qh9pBoz8kNLAsDhnVVvLi8OhjhgFWKd1YnZcVAqBNS0dMki\n",
       "wYcIXaQYsAKApFjvggGsNiZ2Jz0tqCLUSoxJt09VB8vCqrLBvnZ3XQykZiBHAO4EkK6PQKRG2qtq\n",
       "ztjVwTurW05ewNmmLsRGqPCDogxJ1+EuwbSvOnLegOrmLkSoFZgpsV0X76y2dJrRYfRd4hAoGQDX\n",
       "rLZSsUoAziCABWPToA6wnkoq/NVZtdqYeMkyFKJWXYnSqDDOcZAmKQDhC1IMWAHOzmqDh+bk51q6\n",
       "YLLaoFEpRBseT5iYFQcA2FsZnKsMldwJICk4xWrKAClWohZYguSq3njSWeWDVTdNzpK8aHaXYKZY\n",
       "cQnArIJkyd9/bIRalDhI0bjgV0b8bV1FoQCEiMVqw8ZDoS0BAPx3RtzUYYLVxiAIkMwsO5BMcUgB\n",
       "dlGxSvhAswQ+q4D3V0BOO7p/uYlRUHrhu8mHrPYFwRGAMRa0qFVOmuOqUF2fnVXPghY8oYDbV9W3\n",
       "DagXPtvUiS+P1wMAbg1QYlVfpASxs+q0rJLOBcCVDId+2FevVbPVBkO3vTvrb+sqfiWHOqsEtp1u\n",
       "RFOHCYnRGkzLSwz2crwm2U+Rq1wCkBitCfgUrxSUiENWpFslvIMxJg5Y+SwDcJzwNXrYWfVWr8rh\n",
       "Q1aHzxkCHg5wod2ITpMVCgFiBGmgEe2r+tCschmA1HpVwO4IoBDsl58Huur15s4qMAbMyE/CCD90\n",
       "eN0lWDKAs02dOHreAKVCwGWj/BPIw6UA1T52Vpsd312F4ByA8heiZrXTHLThSH8SehVFEOFBAAvG\n",
       "pYVkMcbx106GC+1DyWPVlcmOJKvjdW1hO1FJ+JcusxUmiw2A7zKAJC9PKp3FqneFDA8HsNgCHw7A\n",
       "tbbD9JFBc1oRZQCtF2/3cj/KACLUSlGn258UwGixYt2uswCApaWBtavqjT8HdQeCd1Wn5ib4zVuW\n",
       "nyj52lnlJ5rxURq/p4vFOTSrFhtDhym4CXT+IHQrriCweGoW7piWg+snBUfQLhX+KlYvGELPY9WV\n",
       "5FgthidFg7HgmqIToQsfptAoFYjyUUvHi9WWTjPMVpvbv1fuY8JSMMMBeLEaLL0q0H8wgOvgmpSB\n",
       "AK4MNmT16cFaNHWYkKaLwOWjgxvzLboBGAJbrH522OECMFZaFwBXpLKvCtRwFQBEqBXQqOwlXThK\n",
       "AahY9YBJ2fH47XXjxA5cqMIPgo0dJknjRUMxarU3U3J4OADpVgnPaXGRAPhqJxQXqRY1p00eSAG4\n",
       "rtIX0/pghQMEW68KAGn9RK5WN3f6NLjmDnzI6kQ/ndW1O+yDVbdMzQ761T0xcjWAndXGdqM4AHuF\n",
       "xJZVroj2Vc2dPj1PoDxWAftJZjgPWVGxOgThU4lWGxOHQaRATK8KMdsqV0poyIrwAamGqwBAoRDE\n",
       "53FXCtBttuJcq70b5IuuMljhABW8sxqEQAAODwZoaDfC4tLR5k4AwxOjvRpccwcxdrWPzuqRcwbs\n",
       "rmyGSiHg5qlZfnl9T+AygKYOk0edf1/44lg9bAwYm65DZrz/PiOSdVYD5ATACedgAI+L1Yceegi5\n",
       "ubkQBAFlZWXi7Z988gkmTZqE4uJijBs3Dq+++qp435w5czB8+HAUFxejuLgYK1euFO+rr6/HggUL\n",
       "UFBQgHHjxmHr1q2+vSNiUNRKhRgF6U06Tn/UizKA0NSsAkDJcHuxuv9sa8CHS4jQR6rhKk5itGcp\n",
       "VpWNnWAMiI1Q+WRCHqxwADl0VhOjNVApBNhYz67hGS9TwTxBdASou9gRYK0jBGD+2DSxoA4m8VH2\n",
       "7QRIP6zbH9yy6sox/nEB4PDOan2bUdSge0MgZQBAeAcDeFys3njjjfj222+Rk+MUdzPGsHTpUrzy\n",
       "yisoKyvDxx9/jPvuuw9tbc6zw5UrV6KsrAxlZWX42c9+Jt6+YsUKlJaW4uTJk1izZg2WLFkCszn8\n",
       "NrTc8IduNRxkALmJUUiK0cBkteFAdWCHS4jQp7lDGo9VDv+euptiVe7Irc9LjvFJhhCscIBgRq1y\n",
       "FApB3Ie5BgM4t63/itW85GgoBMDQbemRDGXoNuP9fTUAgj9YxVEoBFFSFghHgE6TBd+cvAAAmD/O\n",
       "fxIAwH7CEqFWgDHgfKv3J2tOGUBgjok8GKCFOqvArFmzkJmZedHtgiCgpaUFAGAwGJCYmAitdvA/\n",
       "0Pr167F8+XIAQElJCdLT07Fly5Y+H2s0GmEwGHr8WK3U/fIGsViVMNfZKQMI/lm/twiCgFKHLdmT\n",
       "G45Qd5XwCC4DiJOoWE30UAZwxsfhKldEKUCAwgFaOk3iYEiw0qs4qaJu9eLOqj+cADgRaqUYM+s6\n",
       "ZPXe3hp0mqzIT4lBaZ58ZiYCaV+19cQFGC02ZCdEYaRDLuEvBEEQdcm+OAIEKmqV4+yskma1TwRB\n",
       "wLp163D99dcjJycHM2bMwKuvvgqNxvkHWrFiBcaPH4/FixfjzJkzAIDGxkaYzWakpTlb+rm5uaiq\n",
       "qurzdZ566ino9foePzt37pTiLQw5RFucNmk+1IwxFxlA6HZWAeCX80chPkqNA9Wt+MXbB8LSs47w\n",
       "D7yjkRAtjQxAHIZ0UwZQLuGl6okOR4BAhQNwvWqqTosojSogr9kffTkCBEIGAAAFvYasGGN43TFY\n",
       "dVtpjs+De1ISyGLVKQFIDcg2kMJrNZADVoCLZpVkAH1jsVjw5JNP4t1330VlZSW++OIL3HbbbWho\n",
       "aAAAvP766zh27BgOHDiAmTNn4pprrvHqdR577DG0trb2+Jk6daoUb2HIIbVHXmuXGSaHyD45xIvV\n",
       "7MQovLB0MlQKAR/tP4fnvz4d7CURIYJUUaucRA+/p74GArgS6HAAOehVOam9Ilc7jBbx/0f4UQYA\n",
       "XDxk9X15E07VtyNKo8QPZWabyI8j9X4uVs1WG744Zk/t8ldqVW+k8FoNdGdVTwNWA1NWVoZz585h\n",
       "1qxZAOyX8zMzM7Fv3z4AQFaWfXJREAQ8+OCDOHPmDBobG5GYmAiVSoXa2lrxuSoqKpCd3XeEnFar\n",
       "hU6n6/GjVAbHODrUkfqMmO+s9JFqRKhD/29SmpeI3103DgDwl8+OizG7BDEQ/OAklQxATLFyt7Mq\n",
       "YbHqGg5wMADhAKJeNcgSAMBZrPLIVb5dE6I1kv1t+6O31yrvqi6amAFdhH9TkDxFtK/yc7G6q7wJ\n",
       "rV1mJEZrMNlhq+Zv0vW+OwKIA1aBcgNwSbEKNyQpVrOysnD+/HkcPXoUAHDq1CmcPn0aI0eOhMVi\n",
       "QV1dnfjYd955B6mpqUhMtOsCb7rpJqxatQoAsGvXLtTU1GD27NlSLIsYAG/TcfojXCQAriy5JBt3\n",
       "Ts8FADyyvgxHzxuCuyBC9vCDRLxEbgCefE9bO83iZUcpitUe4QAB0K1WODqruX6+zO4OaXr7dueR\n",
       "q2ckPAkYDO61erKuHfWGbnzmOFFeeok8BqtcCZQMgKdWXT461W+2Yb3J8LGz6moNGSgZgN5xIhWO\n",
       "mlWPhUH33XcfNmzYgNraWsyfPx+xsbE4deoU/vnPf+JHP/oRFAoFbDYb/v73vyM7OxsdHR1YuHAh\n",
       "jEYjFAoFkpKS8OGHH4rP9/TTT+O2225DQUEBNBoN1q5dC7VaXmeP4Yj0nVWHE0AIe6z2xX8vHI1T\n",
       "9e349lQDfvzqbnzw4KViAUEQvRFlABIdnDzRrJ5xTKun6rSI1kqj+ZyUE49NR+qwLwCOAHJwAuCk\n",
       "xvLIVUdn9YJ0g2uDMTzJ7uPaZrRg5eaTsNgYJufEi+4McsIpA5BuULc3jDFsCkBqVW989Vpt6TSB\n",
       "jztIJQsajLjI8O2serxHW716dZ+333LLLbjlllsuuj06Ohq7d+/u9/lSU1OxadMmT5dB+IjknVXu\n",
       "BBDCHqt9oVIq8I8lk7Do+e9Q3tCB+9fuwdofXxK03HJC3jg7q1JpVh0ygA4jGGMDDpZIKQHg9A4H\n",
       "8OdgC9es5spBs9rLDYCfCPiSCuYuWpUSuYlROH2hA2/tsg8b3yYTu6reBCLF6lCNAedauxGlUeLS\n",
       "/CS/vU5veGf1fGsXbDYGhYcdXS4B0EeqoQ5Q2hiXARhowIoIF0T/xg5Tj5QWbwlHGQBHH6XGi7dP\n",
       "QWyECrsqmvGb9w+RQwBxESaLDe1GCwDpZAC8WDVbGQxdlgEf6yxWpbNWClQ4QLvRIgYfZMugs8rd\n",
       "ANqNFrQbLeK2zZNw2w4EH7JizH4J+arxgRkq8pTkGPt2utBm9Ns+cdMRe1d1dmFyQOch0nQRUCoE\n",
       "mK3Mq2K8McDDVYBzwIpCAYiwISFaA4Vg3xl6kjveH/wyUKg7AfRHfkoM/r5kEhQCsH53NV7+riLY\n",
       "SyJkBs/jVgiQbBBGq1IiNsJ+AWywA6aUHqucQIUD8K5qQrRGFkNE0VoVYh1SitrWbtG2yt9OAJwC\n",
       "Fx/RxSVZsr2SkxRrL8S6zc4TNakRLasCKAEA7FfV+ElLtRe61UCnVwFAnCMUoNNkhdESXh7hVKwO\n",
       "UZQKQUzVkOISTjgEAgzG7MJk/NfCMQCAP2w4gq+P1wd5RYSccEatajy+ZDgQyaJudeDvqZQeq64E\n",
       "IhxATnpVDr/EffhcK9qNFiiEwHV9+ZCVIABLpvbtjiMHojQqxDiKen/YV1U0dOB4XRtUCgHzRga2\n",
       "WAV8060G2mMVsMcsc6VOuHmtUrE6hJFyyOpCW/jKAFy5+9JcLJ6SBRsDfvLmPpyqbw/2kgiZ4Eyv\n",
       "krYzyKUADQMMWTHGnDIAibt/gQgHqJCRXpWT5tCtbjvVCADIjI8KWIdzRn4SRqbG4q7pw5ElAyuv\n",
       "gUjxoyMAlwCU5iVCL/H3yh18cQRocnxfEwNkWwXYI3DD1WuVitUhDPdwlGInU+8wzA73YlUQBPx+\n",
       "0TiU5MajzWjBj1/dJV7+JYY2zR3SBgJwREeAjv6/p3UGI7rMVigVArLipS1uAhEOUNlg76wGO2bV\n",
       "Fe61uv2MvVjNC5AEALB35z/72Sw8fu2YgL2mtyT5s1gNkgSA4+ysdnr8u02O72sgO6uAiyMAdVaJ\n",
       "cIF3Vgfq2LhDu9GCDpP9IBbOMgCORqXAC0snIyMuEhWNnXjgzb0wSzCkRoQ2zRJ7rHLEzuoAxQCf\n",
       "Vs9OiIJGJe1uPTM+Esmx/g0HqGziHqvyKVa5XrGqyV6oBMJjNRThxxGpZQAX2ozY4+jmXz46SMWq\n",
       "D51VpwwgsA0c7rVKnVUibJBKBsC7qtEapahfCneSYrT41x1TEKVR4rtTjXjy4yPBXhIRZKSOWuUk\n",
       "iZGr/Z9U+sO2iiMIAiZmxQHwn27VqVmVT0GY2uvEOy85ME4AoYYY3S1xsfrF0TowZnekSHd0OAON\n",
       "L5rVQEetcsLVEYCK1SFMskReq0NhuKovRg/TYeXiYgDAq9sr8cb3lcFdEBFUWiQOBOAkuTFg5a/h\n",
       "Ks6kHKffqtR0m6047zDfl5Nm9aJilTqrfeKvyFWeWnXlmOB0VYGenVVPrbmC4QYAuAYDhJc8jYrV\n",
       "IYxknVXH74erbdVAzB+bhl/MHwkAeOKDw9h+ujHIKyKCRVMHdwOQVgaQJA5YDVCs+jkO1BkO0CK5\n",
       "nya/zB6rVUkuofAFPmDFCaRmNZQQO6sSBgO0Gy349mQDAPs+NljwzmqHyerxdH0w3AAA5/6H3ACI\n",
       "sEGqncxQGa7qj/83ZwR+UJQOi43h/jf2oKrRczE+Efq0+FkG0DiAH3K5HzxWXeHhABfajF55Tg6E\n",
       "KAFIivJrQpanpLl0ViPVyh7/JpyImlWDdJGrW45fgMlqw/CkaOSnBE9+EaFWiieLnnzuGWPiwGUg\n",
       "3QCA8I1cpWJ1CJMUK40M4EKYRq26iyAI+PONEzAhU4+WTjOWvboLbd3htaMgBsdfmtVELtfp5wqI\n",
       "2WpzDgH5qfvXMxxAWikADwSQk14VsHe0uV3u8KRoWRXScoLv96WK7gacllVXjkkN+nb3Rrdq6LLA\n",
       "YrNfgQh0Z1UcsKLOKhEu8M5qS6fZp7QLp2Z1aHZWAfvB/MXbpyBVp8XJ+nY8+/mJYC+JCDAtfnID\n",
       "4J2dDpMVXaaLv6dnmzphsTFEqpVI9eMJ49TcBADAlhMXJH1ep8eqfJwAAHuCEe9qkwSgf6SO7jZZ\n",
       "bPjymD1wJViWVa544wjAbeZitKqAp4+RdRURdugj1VA5WgeNPthX8ajVoSoD4KTqIvDbH4wFAHx1\n",
       "bOikW1U2duD+tXtw5Jwh2EsJKk1+GrCK0apEO6q+uldcApCbFC1pclZvLncMunx5rF6SooQjRycA\n",
       "DtetkhNA/7hGdw8kVXGX78sb0dZtQVKMFsVZ8RKs0De86awGa7gKgEsoAA1YEWGCQiGInQNfLuHU\n",
       "G4a2DMCV6flJUAhARWMnznlhdxKKvL69Ep8eqsX/fHg42EsJGlYbEy+7ST1gJQiCM3K1j2LA33pV\n",
       "zpSceMRFqdHSacZuCS2sxGJVRoEAnFFpsQAgWncRF6NUCKJURQpHAB4EcMWYFCj9ePLlLmKx6lFn\n",
       "NXjFKt//UGeVCCukcAQgGYATXYQa4zP0ADBknAHOOIqlnRVNOF7bFuTVBAdDlxl8SF5qzSowcDDA\n",
       "GT87AXBUSgXmjUoBAHzusBXyFZPFhupme7GaK0NrqP/5wVh88MClmDMyOdhLkTVSRa7abMypVw2i\n",
       "C4ArGY5EOG86q4H2WAVcilUasCLCCXdscQai2+y09BjqMgDOtBFJAJwxjeFOhaNYAoC1O4am1ywf\n",
       "rorVqqBWSr9bHShy1d8eq65wz8vPj9RJYmFV09IFGwMi1ApZ7j+iNCoUZcUFfchH7khlg3igphV1\n",
       "BiOiNUpMH5EoxdJ8JvRkAPbXNHSbYbNJazMXTKhYHeL4upPhv6dRKUStzFBnmmMnu/10o+SelHLD\n",
       "4jKJDgDv7q1Gu9ESxBUFB16sxkX75zvAOzR9RSOLHqsBGAKaWZAMjUqBqqZOnKhr9/n5nMNVNG0f\n",
       "ynCZCp9f8JZNh+1d1TmjUgI+mNQfvFht6jCh0+Tevo3PgCQE2LYKcGpWGQPausNnX0zF6hDH12JV\n",
       "lADEaulg42BKTjxUCgE1LV042xTeutXq5i5YbAwRagXykqPRYbLivX01wV5WwGnu4E4A/jk49Wcz\n",
       "12G0oNbhbxmIhKVorQoz8u1XDj53XK71Be5JnC1DvSrhPlKlWMkhtao3ukiVGCPu7hxCk+MKSDBk\n",
       "ABqVAlEae6Hf0hU+Q1ZUrA5xnANW3n2oL5ATwEVEa1UodgxkbD/TENzF+BlxEj0xGksvyQEArN1e\n",
       "GfYd5d74y2OV019nlXcm46PUiPPTa/fmChcpgK+InVUZ6lUJ95EiYOboeQNO1bdDrRQw16GNlgOC\n",
       "IIjdVXeDAZwDVsE5LoZjMAAVq0McXzurdeQE0CeuUoBwxjXm84bJmYhQK3C8rg27KqTPkJcz/vJY\n",
       "5Yhelr2KAdEJIIDWSpeNToEgAPurW1HnY2qR07aKOquhTLJj/8+dYTylw2jBT98qAwDMGZkCXYS8\n",
       "JGXca/Vci3uf92AOWAHOYIBwcgSgYnWIk+TjGbHosUpOAD2YlmcvVreFuW7VtVjVR6qxqDgDAPD6\n",
       "EBu04h6r/upuJkb3LQMI5HAVJyU2Qrxy4Gt31VWzSoQuYtPDi+MIYwy/fOcAjte1ITlWiycXjZN6\n",
       "eT7jHLJyL0o7mANWgGtnlWQARJjAdzL9RTkOhtNjlYpVVyblxEOjUqC+zShaC4Ujrob0ALC01C4F\n",
       "2HjovCSei6FCi59lAEmx9uftHd5RHiDbqt5IIQWw2hjONpFmNRzwxbrqn1vPYMOB81ArBbxw6ySk\n",
       "6uR3lc6TFCvGWFB9VgGnfZWBOqtEuMCL1TajBd1mzyNXnQNW8tvBBJMItRKTsuMAhLcUoLch/bgM\n",
       "PSZmx8FsZVi/+2wwlxZQxAErv7kB2L+nTZ09Iy3PBCgQoDd8AGb76Uav3R/Ot3bBbGVQKwWkOzpX\n",
       "RGjCjyOdJis6PPg8fHuyAU9vPAYAePzasZjiiPSVG57YV3WYrDBZ7N/RxCC4AQDh6bVKxeoQJ9Yl\n",
       "ytGbs2JerCaTDOAipuU5/FbDtFjtNltxrtW+83YdkLnN0V19Y0clrGHk8zcQ/h6wSojWQHBEWjY7\n",
       "DkCMMZy5YLePCoRtlSsjkmMwPCkaJqsNW45f8Oo5uF41KyFKFklFhPdEa1XiBHq9m8eRs02dePDf\n",
       "e2FjwI+mZGLpJdn+XKJPeNJZbXJc/YhQKxClUfl1Xf2h4zIA6qwS4YJrlKM3eiNyA+if6fl23eqO\n",
       "M+GpW61q6gRjQGyEqscgwdXjhyE+So1zrd348lh9EFcYOPxdrCoVAhKiegZ4NHWYYHD4KAZa8ykI\n",
       "gosUwDsLK9KrhheeDOt2may47/U9aOk0oyhTj99dN07W1oeZjs5qraEbZpcrG33RKNpWBe+YGOcI\n",
       "BqDOKhFWeOsIYLHaRG0OyQAupigzDpFqJRo7TJIYqMuNMy7DPa4Hmgi1Ej+akgVg6Axa8W5nnJ/c\n",
       "AACXFCtH54ZLMDLiIhGhDryBOi9WvzxWP+gBvC8qyWM1rHBXt8oYw2PvHsCR8wYkRmvwwtLJQfn8\n",
       "ekJSjBYapQI2BtS2DuwIEOzhKsC5H2oln1UinHB6rXpWrDa0m8CYvesTLIsOOaNRKTAlNx4AsO10\n",
       "+Pmt8s5YX8M9Sy7JhiAAW09c6BHHGo4wxpwDVn78HvAhK/49PROk4SrOpOx4JEZrYOi2YFd5k8e/\n",
       "Xyl2VqlYDQecTY+Bi7k131Xg/bJzUCoE/OPWSSGhV1YoBKTH2Rsyg+lWgz1cBZDPKhGmeNtZ5bZV\n",
       "STEaKEhz1ifh7LfKbZP6uoybkxiN2YXJAIA3d1YFdF2BpsNkhdlql3kk+NGYv7d9VbCcADhKhYB5\n",
       "DvP2TV64AogeqxQIEBY4I1f7P47sONOIP3xyFADwX1ePRqnD4i8UcFe3GmyPVQDQi53VIVysPvTQ\n",
       "Q8jNzYUgCCgrKxNv/+STTzBp0iQUFxdj3LhxePXVV8X76uvrsWDBAhQUFGDcuHHYunWrW/cRgSHZ\n",
       "MbHocbHqsK2So9WIXOB+q9+XN4XdsFF5Izek77vY4INW63ef9cppIlRodhyctCoFIjX+u5zZO20u\n",
       "GB6rvXG1sPJEl80YI81qmJHiOA70dxw519KFB97YC6uNYVFxOu66NDeAq/Mddx0B5CAD0NOAFXDj\n",
       "jTfi22+/RU5OjngbYwxLly7FK6+8grKyMnz88ce477770NbWBgBYsWIFSktLcfLkSaxZswZLliyB\n",
       "2Wwe9D4iMCT3kzs+GE7bKhqu6o/xGXrEaFVo7TLj6HlDsJcjKa5Rq30xZ2QKMuIi0dJpxscHzgdy\n",
       "aQHF38NVHG6Dc1FnNcBOAK7MLEhGhFqBmpYuHD3f5vbv1bcZ0W22QSE4iwAitBloULfbbMX9a/eg\n",
       "scOEMcN0eOr6CbIeqOqLjDi7XGWwzirXlCcEybYKcIaTtHaaw2a41+NiddasWcjMzLzodkEQ0NLS\n",
       "AgAwGAxITEyEVmv/8K5fvx7Lly8HAJSUlCA9PR1btmwZ9L7eGI1GGAyGHj9Wa/h2bAKFrzKAZBqu\n",
       "6heVUoGpw+3egeEkBWg3WsTPS3+57kqFgFtL7XY04TxoFYjhKsBZDDS2G2GzMWdnO4id1UiNEjPy\n",
       "7XIPTwICuAQgIz5StM4jQht+HOkducoYw+MfHML+6lbERamx+rbJfr0C4S9EGcCgnVXuBhB8zarJ\n",
       "akNXmFzVkmQvIQgC1q1bh+uvvx45OTmYMWMGXn31VWg0GjQ2NsJsNiMtLU18fG5uLqqqqga8ry+e\n",
       "euop6PX6Hj87d+6U4i0MaXpfXnSXOkqvcgsuBdh+JnyKVT40lRitES859cWPpmRBo1Rg/9kWHKhu\n",
       "CdDqAgsfrvL3ZT9nZ9WEc61dMFlsUCuFoHcmeUDA50fdt7AiCUD40V/k6hvfV2H97mooBOBvt0xE\n",
       "Voi6P3guAwjecTFKo4Raae9ch8uQlSTFqsViwZNPPol3330XlZWV+OKLL3DbbbehoUHaCejHHnsM\n",
       "ra2tPX6mTp0q6WsMRVw7q55cMhA9VikQYED4kNXO8qYe6UOhjLvDPUkxWlw13n4yujZMu6v84ORv\n",
       "GUCSS2eVb/+cxGiolMHtTM4bnQJBAA7VGHDOjYQfwOkEkENOAGEDb1o0thtFff6eyib89qPDAIBf\n",
       "LRiFmQXJQVufr2S6dFZtA8wfyMENQBAE6B1eq+EyZCXJXq6srAznzp3DrFmzANgv52dmZmLfvn1I\n",
       "TEyESqVCba3zrLuiogLZ2dkD3tcXWq0WOp2ux49SGXqXE+QGPwh2ma3oMLl/yYCiVt1jzDAd9JFq\n",
       "tBstOFjTGuzlSIInk+h80OrD/efQGiZn+a4ESgbg2lk9I4PhKk5SjBaTs+0WbZuPuicFqOBOAAnB\n",
       "Xz8hDTxlzcbsJ3B1hm4sX7sXZivDwgnDcO+svGAv0SfS9BFQCIDJYkNDR/+SOTm4AQDhF7kqSbGa\n",
       "lZWF8+fP4+hRuyXFqVOncPr0aYwcORIAcNNNN2HVqlUAgF27dqGmpgazZ88e9D4iMLhG5TV4oFut\n",
       "JxmAWygUAi7hutUwkQKIw1VuFEuTc+IxKi0W3WYb3t5b7e+lBZyWAA1Y8ZNKk9WGA9X2k55g6lVd\n",
       "cXUFcIcqXqxSZzVsUCkVYoFW09KF+9fuwYU2I0amxuLPN4TeQFVv1EqF6HzT35BVt9mKTkfDJ5gD\n",
       "VoDTESBcggE8Llbvu+8+ZGZmorq6GvPnz0d+fj5SU1Pxz3/+Ez/60Y9QVFSEH/7wh/j73/8udkif\n",
       "fvppbNu2DQUFBbjzzjuxdu1aqNXqQe8jAkd/eqP+sNmYOJVMMoDBmR5mfqu8WHWnWBIEAbdNs3dX\n",
       "1+6oHPASWijCO6v+DAQA7MlgMVp71viuCrsJvxw6q4CzWN1xphGG7oE7OT1sq2SyfkIa+LDtincO\n",
       "YG9VC3QRKqy+bTKiHZ/bUCd9EN0qlwColQJig/yewy0YwOOtuXr16j5vv+WWW3DLLbf0eV9qaio2\n",
       "bdrk8X1E4EiK0aKysdNtR4CmThMsNgZBcHZ8iP6ZNiIJgL3IMFlsIT8B7UlnFQAWFWfgqU+Oobyh\n",
       "A9tON2JGQZI/lxdQmkXNqv9PspNiNGg3WlDVZO9MyqVYzUuOwYjkaJy+0IGvj1/AD4rS+31sc6cZ\n",
       "bd0WABS1Gm4kx2px9DxwrLYNggD8780Tw+qEJCMuEnsqm/vtrDa1O/Wqwe4k82CAcPFaDe0jJiEZ\n",
       "yR5GrnIJQEKUBuogD3iEAoWpMUiM1qDbbEPZ2ZZgL8cnmjtMomjf3WnuaK0KN0zKAAC8vqPCX0sL\n",
       "CoHyWQWAxF4nhsH0WO3NFWPsg3SDSQF4V3WYPkL2mfCEZyS7fD4fubwQcx0JZ+HCYPZVjQ4tazCd\n",
       "ADhxjgGrcOmsUpVBAPDca9XpsRr8L2UoIAgCSsNECsAz6YfpIzzyS1zqGLT6/Egdzre6NzUeCrQE\n",
       "aMAKsHdWOTFaVY/iINhwKcDXx+phsvTvesH1qtRVDT8KU2MA2O3MHpibH+TVSI9oX9VfZ1Umw1WA\n",
       "c39EbgBEWJHkaWeVOwFQ1KrbOP1WpbV0CzQVXmbSF6TGojQvATYG/Pv7vr2UQ5HmAPmsAj07q8OT\n",
       "ooN+qdGViVlxSIrRos1owffl/Z+Qkcdq+HLnpbl488eX4B+3ToJCIZ/PplQM1lmVQ9QqZ8gPWBHh\n",
       "iaedVf64VOqsug33W91b2YLuEE4V8VSv6grvrv5711mYw8Bz1nX6Ny4AMoCkXsWqnFAoBFw+2n7Z\n",
       "dyApAE+vykmizmq4oVUpMT0/KWylYZluDljJoVgl6yoiLOGXF92WARgoEMBT8pKikarTwmS1YW9l\n",
       "c7CX4zW+xHxeOSYNybFaXGgzYtNh9+M55Qo/ECgVAnQR/p/+dZUByK1YBZxSgM1H6voNGKHOKhGq\n",
       "8M5qW7elT9cLPmAlBxmAPszcAKhYJQA4O6vuRq5SIIDnCIIQFtGr5Re8LzY0KgVuKckCEB6DVlwC\n",
       "EBepDsgledfOap6Mhqs4l+YnIVKtxLnWbhw+Z+jzMZWkWSVClCiNSnT96Eu3KnZWg+yxCjiv9JBm\n",
       "lQgrPI1cdRar1Fn1BC4F2BaiQ1auHpneTqLfckk2lAoBO8404WRdm5TLCziiE0CAOimuHRs5dlYj\n",
       "1ErMKrTbkm3qQwpg6DaLuj4KBCBCEVG32kex2uRwA5BDZzUukgasiDDENR3H0GUZ9PF1JAPwiukO\n",
       "v9X9Z1vQYRx8O8uN+jYjOk1WKAQgK967YmOYPlLUNq7dUSnl8gJOc4cjECAATgAAkORycihX/8qB\n",
       "LKy4E0BSjAaxERT+QoQeGQPoVp0DVsE/LnLNarvREhbzAVSsEgDsHZFYh+ZusBQrxhjJALwkKyEK\n",
       "GXGRsNgYdoegbpUPV2UlRPkUbHBbaS4A4J29NSFZtHNEGUAAhqsAICchCsVZcbhqXBp0Mi325o1K\n",
       "gUIAjp434KwjvIDDu/I5pFclQpSMOPtJel/FqpwGrFxPBsOhu0rFKiHiriOAocsi+iiSz6rnOKUA\n",
       "oWdhJToB+FhsTB+RiLykaLQbLXi/rEaKpQWFls7ApVcB9vz19x+4FC8snRyQ1/OGhGgNpuQmAAA2\n",
       "H+3ZXRWdAEivSoQo/ckATBabmMwmBxmA69BnOAxZUbFKiLjrtcoDAXQRKkqg8YLpjmJ1RwjqVsu9\n",
       "9FjtjUIhYMkl2QCA17dXuqWTliPNjoNAoDSrocKVDleA3lKASuqsEiEOlwFU9+qs8qssSoUgTuIH\n",
       "G+eQVeh7rVKxSoi421mlQADf4J3VgzWtfdqfyBlerEoxiX7T5CxEqBU4VtuGvVWhJ4kA7NGzQGCi\n",
       "VkMJbmH1fXkTWl26OhWOzmoueawSIUpmP53VxnbnVRa5BCKEk9cqFauECI9uHEyzyjur5ATgHcP0\n",
       "kchNjIKNATvPNAV7OR4hlQwAAPRRavygKB2AvbsaijQHWAYQKuQkRqMwNQZWG8NXx+vF26mzSoQ6\n",
       "vLPa0G7sEe4ip/Qqjj6MHAGoWCVERK/VwTqrBrKt8pVpDleAUPJbtdqYOM0tlW3SYofn6lfHL8Bm\n",
       "Cz0pAJcBBGrAKpS4opcUoMtkRZ1j30GaVSJUiYtSI0pjl7+dc5ECNDpsq+RYrFJnlQgr3O+sOqJW\n",
       "SQbgNVwKsD2EdKvnWrpgstqgUSqQ7ugu+EpRZhxitCq0dplx5HzfJvJyxjlgJZ8DlFzgFlZfH6+H\n",
       "0WJFlcMZQBehEi9PEkSoIQhCn/ZVvLOaKAPbKo4oA6DOKhFOJMW6F7nKi1VyAvCe0jz7tPSR8wZR\n",
       "9yh3uAQgJzEKSok0WSqlAiW58QCAHSHUZeY4L/1R8dWbCRl6pMRq0WGyYvvpRmfMalJ0QNK+CMJf\n",
       "9OUIIEcZQFykY8CqMzSOMQNBxSohkhxj75QO6gYgBgJQZ9VbUmIjUJASAwD4vjw0ijRRryqxGT3v\n",
       "ModasWqx2mBwWNWQDOBiFAoBl7tIAUivSoQLfXVW5eSxyqHOKhGWiJrVdtOA+sELFLUqCaEmBRCd\n",
       "ACQuVkvz7Nvh+/ImWENIt+o6tBAnE6saucF1q5uP1qG8gTxWifCAy6B6dFYdbgCJMfIpVmnAighL\n",
       "+JfMamMDnonVU7EqCdPyeDhAaBWrUndWx6brERuhQlu3BUfOhY5ulQ9XxUaooFLSrrQvpo9IRLRG\n",
       "iTqDEZ8fqQVgl5EQRCjD7auq+9Csyquzal8LDVgRYYVaqRAtePrTrXYYLWh3xGOSDMA3eEfxZH37\n",
       "oDphOcA1h1I5AXCUCgGXDLdreLefCZ1UL25bJaeDk9zQqpSYPTIZgP2KDSD9yQ5BBJqMPjqrcnYD\n",
       "oM4qEXbwFKv+iifeVY3SKBGjVQVsXeFIfLQGo4fpAMhfr2my2MScd6mLVcBZuO8IId9ZPhhHetWB\n",
       "4VIADnVWiVCHD1jVGrphsdqjx2XtBkADVkS44dSt9lOsGigQQEpCRQpwtrkTNmY/SfHH354XqzvL\n",
       "m8Sdv9zhl9YoEGBg5o5MEd0jojRK0SKPIEKVlNgIqBQCrDaG+jZjD+mcnDqrcS6d1VD0sXaFilWi\n",
       "B4NFrjr1qiQBkILpITIJX37BmVzlD9uh0cN00EWo0G604HCI6FabyWPVLeKiNJiaa5d5ZCdEkW0V\n",
       "EfIoFQKGxdmPgTUtXWjuNIE5akE5nbzqHMWqjQFtDvleqELFKtGDpEGCAUSPVR11R6Rgal4CFIJ9\n",
       "eOl8a9fgvxAk+HDV8GT/6A2VCgGXOLqroZLq1Sx2VqlYHYyrJwwDAIxJ1wV5JQQhDa661SZREqSW\n",
       "1bBlhFqJSLU9bcsQ4rpV+WxVQhYMFrla30YyACnRRagxLkMPQN4WVuV8uMqPHplO3ap8t4MrXLMq\n",
       "p06KXLl1ajb+dstEPHbV6GAvhSAkISPOrr2uaelCY7t8hy3DJXKVilWiB4NFrl4wkAxAakLBb5XL\n",
       "APwxXMXh+t1d5U0wh4BulcsA4mR4gJIbCoWAa4vSKfWOCBv4kFW1S2c1UYb7AmcwQGgPWVGxSvQg\n",
       "yU3NairJACQjFIasRNsqP8kAAGBUWiziotToMFlxsKbVb68jFTRgRRBDl0yXFKsmGdpWcaizSoQl\n",
       "vLParxuAKAOgzqpUlOQmQKUQUNPSJdpDyYkukxXnW+1/d3/KABQufquhIAUQfVZJs0oQQw7eWa1p\n",
       "7nSJWpVfEydcIlc9LlYfeugh5ObmQhAElJWVAQAaGxtRXFws/hQWFkKlUqGpye6ZOGfOHAwfPly8\n",
       "f+XKleLz1dfXY8GCBSgoKMC4ceOwdetWad4Z4RVJsfYDb2OHqU8LIdENgDqrkhGtVaEoKw6APKUA\n",
       "vKsaF6VGvJ87B1y3Ksft0BtRBkDFKkEMOTJ6dFZlLAOItK+pNcS9Vj12db/xxhvxy1/+EjNmzBBv\n",
       "S0xMFAtXAHjmmWewZcsWJCQkiLetXLkSixYtuuj5VqxYgdLSUmzcuBG7du3CD3/4Q5SXl0Otpktr\n",
       "wSAxWguFYLe6aOo09eigGi1W8VICDVhJy7S8ROypbMa20w34UUlWsJfTAzFm1Y9dVQ7X7+6uaIbZ\n",
       "aoNaRpO1rjDGnDKAaNpXEcRQg1tXdZttOFXfDkCeMgDeWQ31FCuPjwSzZs1CZmbmgI956aWXsGzZ\n",
       "Mreeb/369Vi+fDkAoKSkBOnp6diyZUufjzUajTAYDD1+rFarZ2+AGBClQhAvZfTWrfJ/a1QKUQdD\n",
       "SIM4ZHWmEYzJy7yZF6t5AYjJLEyJRXyUGl1mKw5Ut/j99bylzWiBxWGyTdZVBDH00KqcASlcY58Y\n",
       "I799gY40q32zbds2NDc345prrulx+4oVKzB+/HgsXrwYZ86cAWCXD5jNZqSlpYmPy83NRVVVVZ/P\n",
       "/dRTT0Gv1/f42blzp9RvYciT5PjC9S5WRY/VGC0Ze0vM5Jx4aJQK1BmMYnEoF8TOagCKVYVCCIno\n",
       "1ZYO+44/Uq1EhMPHkCCIoQXXrbZ12w335dxZHXKa1cF46aWXcPvtt0OlcioMXn/9dRw7dgwHDhzA\n",
       "zJkzLypk3eWxxx5Da2trj5+pU6dKtXTCgTNytafGRYxaJb2q5ESolZiYHQdAfq4AFQ3+t61yJRSs\n",
       "vJo6yWOVIIY6XLfKkWWxKmpWqVgVaW9vx/r163H33Xf3uD0ry67BEwQBDz74IM6cOYPGxkYkJiZC\n",
       "pVKhtrZWfGxFRQWys7P7fH6tVgudTtfjR6mkrobU9Be56oxapWLVH0wfkQRAfglO5QEuVnlndXdl\n",
       "E0wWefqt0nAVQRC8s8pJlLUbQGgPWElarK5btw5FRUUYNWqUeJvFYkFdXZ3473feeQepqalITLQf\n",
       "kG666SasWrUKALBr1y7U1NRg9uzZUi6L8JD+7KvqKRDAr8wosH8nPjtUiy0nLgR5NXZau8yiLUsg\n",
       "ZAAAUJASg8RoDbrNNuyXqW61hXdWabiKIIYsmb06q3LcH/D5kiE3YHXfffchMzMT1dXVmD9/PvLz\n",
       "88X7+hqsMhqNWLhwIcaPH4+ioiI8//zz+PDDD8X7n376aWzbtg0FBQW48847sXbtWnICCDL9d1Yp\n",
       "atWfTMqOx3XF6bDYGO5fu0cWA0ZcApAcq0WM1mPzEK8QBEH2FlbNHTwQgDqrBDFUce2sxmpV0Krk\n",
       "d6U3XEIBPD76rF69ut/7tm3bdtFt0dHR2L17d7+/k5qaik2bNnm6DMKPJMUMIgMgzapfEAQBf7mx\n",
       "CI3tJnx7qgF3rdmFd+6fHrCOZl8EWgLAKR2RiA0Hz2PHmUY8dFlBQF/bHeocJ25UrBLE0CUjLkr8\n",
       "/wQZOgEAThmA0WJDt9kasgOh8jQxJIKKc8CqHxmAjmQA/kKjUmDVbZMxLkOHxg4Tbn95Z7/Rt4FA\n",
       "LFYD4LHqyrQ8u0fznspmGC3ysadr6zbj8Q8O4Z9b7Y4maXr6LhDEUCU9zvn9l+NwFQDEaFVQKuzu\n",
       "PaHcXaVilbgIUQbQu1ilAauAEKNVYc2dU5GdEIWqpk7c9cpOtBstQVmLWKwmB7ZYHZEcg6QYLYwW\n",
       "G8qqWgL62v2x8VAtLn92C17bXgnGgOsnZuD2aTnBXhZBEEEiNkINXYT9ArUc06sA+xW7uMjQH7Ki\n",
       "YpW4CC4DaOk0i9PYFqsNjR00YBUokmO1eO3uqUiM1uBQjQHLX98TlMl4HrUaiPQqV+y6VXt3Ndju\n",
       "COdaunDPa7uxfO0e1BmMyEmMwtpll+DZxcWIjSB9PUEMZTLi7VIAuXZWAUAfFfq6VSpWiYuIi1RD\n",
       "5bhswAvUxg4TGLMnXMn1DDLcyE2Kxpq7ShClUeLbUw34xdv7YbMFLt2KMYbyC470qgB3VgGn3+qO\n",
       "IBWrVhvDmu/KccWzW/D5kTqoFAIemDsCn/10FmYUJAVlTQRByAvutZogQ9sqTlwYOAJQsUpchEIh\n",
       "iLFxXC/J9apJMRooFJReFSgmZMbhhaWToVII+KDsHJ769GjAXruxw4Q2owWCAGQnRA3+CxLDHQH2\n",
       "VrWg2xxY3erhc624/vnv8NuPjqDDZMXknHhseGgmfjF/VMgOKBAEIT3THSfVkxyhLnJEtK8K4c5q\n",
       "YLxoiJAjOVaLOoNRHLJy2laRBCDQzC5Mxp9vnIBH1u/Hi9+UIyU2AvfMyvP763K9aro+MigFWl5S\n",
       "NFJitahvM2JfVYvYafUnnSYLntt8Ei99Ww6rjSE2QoVfLRiFJVOz6SSNIIiLuHvGcNw4JRM6GUuC\n",
       "eHgJaVaJsCO5l30VDVcFl+snZeKxq+xhG3/45Cg+KKvx+2vyYjUYEgDArlsVo1cDIAX46ng9rnh2\n",
       "K/659QysNoaF44fhi0dmY2lpDhWqBEH0i5wLVSA8vFaps0r0SW+v1TqDo7NKHqtB495ZeagzGPHy\n",
       "d+X4+X/2IyFag5kFyX57PV6sBnq4ypXSvER8UHYOO043Alf45zXq27rxu4+O4OMD5wHYNWi/XzQW\n",
       "80al+ucFCYIgAogzcjV0i1XqrBJ94vRatV824J3VZJIBBA1BEPDfC0fjmgnDYLYyLH99Dw5Wt/rt\n",
       "9SqCFAjgyjSHbrXsbAu6TNLqVm02hje/r8Llf92Cjw+ch0IA7pk5HJt+NosKVYIgwgYasCLClt6R\n",
       "q2IgAMkAgopCIeCvPyrC9BGJ6DBZcdcrO1HpsJeSmmClV7mSkxiFNF0ETFYb9lY1S/rcP397P379\n",
       "3kEYui0Yn6HHhw/OwH8tHIPoAMXKEgRBBAJuXRXKA1ZUrBJ90lsGcEEcsKJiNdhoVUqsvm0yxgzT\n",
       "oaHdnnLVO23MV2w2JnqsBrNYddWtSmlhte10A97dWwOlQsBvrhmD9x+4FOMy9JI9P0EQhFyIi6QB\n",
       "KyJM6R25Kg5YUdSqLIiNUOOVu0uQlRCJysZO3LVmFzokTLmqNXSj22yDSiEgMz5Ssuf1BjEc4LQ0\n",
       "xarVxvC7j44AAJZeko1lM4aLcYQEQRDhBoUCEGGLa2fVZmNihzWVBqxkQ0psBF69ayoSojU4WNOK\n",
       "5WulS7niEoDshCiolMHdTUzLsxvw769uQafJ94L8rV1VOFbbBn2kGj+9vNDn5yMIgpAzcWHgs0rF\n",
       "KtEnvLPaZrSg1tANi41BEJxFLCEP8pJj8PKdJYhUK/HNyQaseOcAGPM95Up0AgiiBICTlRCJdH0E\n",
       "zFaGPZW+6VZbu8z466YTAICfXV6AeEpjIwgizOE+q21GCyzWwMd2SwEVq0Sf6CJU0KjsH4/D5wwA\n",
       "gIQoDdRB7rIRF1OcFYfnl06CUiHg3X01+PrEBZ+fUw7DVRxBEFAqkW71b1+cRFOHCfkpMbi1NEeK\n",
       "5REEQcgaXYRzaNTQLZ1cLJBQ5UH0iSAIYjDAEUexmkzDVbJl7sgULJsxHADw543HYbP51l2tkFFn\n",
       "FXBGr/qiWz1zoR2vbKsAAPzmmjF04kUQxJBApVQg1uFy0tIZmkNWtLcm+iXJUZwePmf38qThKnlz\n",
       "/+wRiNWqcPS8AR8fPO/Tc4npVTIpVrnf6oHqVq8Hyf6w4SgsNoZ5o1Iwu9B/YQoEQRByQx/iwQBU\n",
       "rBL9wjurXAZAtlXyJj5ag3tn5QEA/rrpOMxeapMsVhuqmjoByKezmpUQhcz4SFhsDLu90K1uPXEB\n",
       "Xxyrh0oh4L8WjvbDCgmCIORLXIh7rVKxSvRLcqxdlF3T0gWAitVQ4O4Zw5EUo0FlYyfW7Trr1XNU\n",
       "N3fBYmPQqhQYJqNuurdSAIvVht9/bLequmN6LkYkx0i+NoIgCDkT6l6rVKwS/ZLca/KfilX5E61V\n",
       "4SfzCgAA//fFSa8iSstdwgAUMvIf5VIAT4es3vi+Cifr25EQrcFDlxX4Y2kEQRCyJtRTrKhYJfol\n",
       "qVdxSprV0OCWqdnIjI9EfZtRHCjyhPILjuGqRHlIADjcEeBgTSva3dSttnSasHKz3arqkSsKoXf4\n",
       "DRIEQQwl+L6PNKtE2EGd1dBEo1LgkSvsZvcvfH3K4zNpMWY1WV7FakZcJLITomC1MeyqaHLrd57b\n",
       "fBItnWaMSovFzSVZfl4hQRCEPOHBAKGaYkXFKtEvva2qUmKpsxoqXFecgZGpsTB0W7Bq62mPflf0\n",
       "WJVZZxVwRq/ucEO3erKuDa/vqAQAPH7NmKAncREEQQQLccCKOqtEuNE7rSqFolZDBqVCwM/njwQA\n",
       "rPmuHPWGbrd/VyxWZdZZBYBpboYDMMbw+w1HYbUxXDkmFdPzkwKxPIIgCFkiDliRzyoRbrh2VnUR\n",
       "KkSolUFcDeEpl49OwaTsOHSbbfi/L0+69TvdZqvo/iA3zSrgdAQ4WNMKQ3f/HYKvjtdj64kL0CgV\n",
       "ZFVFEMSQh3xWibAlWqtClMZeoNJwVeghCAJ+tWAUAOCtnWdR6dCiDkRVUycYA2K1KiTFaPy9RI8Z\n",
       "po9EbmIUbAzY3Y9u1WSx4cmPjwIA7pqRixwZFt0EQRCBhGtWSQZAhCVcCkDDVaHJJXmJmDMyGRYb\n",
       "w7Ofnxj08eUuMauCIB/bKlcG81t9bXsFzjR0IClGiwfn5gdyaQRBELKErKuIsIZLAahYDV1+fqVd\n",
       "u/pB2TkxOrc/RL2qTJKr+oLrVrf3oVttbDfif7+wSx5+Mb8QsRFkVUUQBOEMBTCDMRbk1XiOx8Xq\n",
       "Qw89hNzcXAiCgLKyMgBAY2MjiouLxZ/CwkKoVCo0Ndkv09XX12PBggUoKCjAuHHjsHXrVvH5BrqP\n",
       "CD78UjDJAEKXcRl6XFuUDgB45rPjAz62wqWzKld4Z/XwOcNFl7Se/fwE2rotGJuuw42TyaqKIAgC\n",
       "cLoBWG3MbZ9qOeFxsXrjjTfi22+/RU5OjnhbYmIiysrKxJ97770XV111FRIS7DYzK1asQGlpKU6e\n",
       "PIk1a9ZgyZIlMJvNg95HBJ+irDj7fzPjgroOwjcevaIQKoWAr45fwM7y/j1KzziK1TwZF6upugjk\n",
       "JUWDMfR4L0fPG/DvnVUAgCeuHQuljNK3CIIggkmEWgmtyl7yhaLXqsfF6qxZs5CZmTngY1566SUs\n",
       "W7ZM/Pf69euxfPlyAEBJSQnS09OxZcuWQe/rjdFohMFg6PFjtXoeJ0m4z/2zR2DHY5dh4YRhwV4K\n",
       "4QO5SdH4kcMU/88bj/V7GSgUOquAM82KW1gxxvD7j4/AxoCF44dh6vCEYC6PIAhCdoSy16rkmtVt\n",
       "27ahubkZ11xzDQC7RMBsNiMtLU18TG5uLqqqqga8ry+eeuop6PX6Hj87d+6U+i0QLgiCgDQ9SQDC\n",
       "gYcvK4BWpcDuymZ8eaz+ovvbjRbUtxkByDMQwJXeQ1abjtRh2+lGaFQKrLhqVDCXRhAEIUv0IewI\n",
       "IHmx+tJLL+H222+HSqWS+qnx2GOPobW1tcfP1KlTJX8dgghHUnURuOvS4QCAv3x2HDZbz+4q76om\n",
       "RGvEyVG5wpOsjtYaUN/WjT9+YrequndmHrISooK5NIIgCFniDAYY4sVqe3s71q9fj7vvvlu8LTEx\n",
       "ESqVCrW1teJtFRUVyM7OHvC+vtBqtdDpdD1+lEoyqicId7l/9gjERqhwrLYNH+4/1+O+UHAC4KTE\n",
       "RmBEsl23+pM396GysRMpsVrcP2dEsJdGEAQhS5zBAKGXYiVpsbpu3ToUFRVh1Kiel+FuuukmrFq1\n",
       "CgCwa9cu1NTUYPbs2YPeRxCEtOij1Fg+217Q/fXz4zBZbOJ9FSFUrAJOC6vvHUNWv1owCtFa6a/o\n",
       "EARBhAM8GGBIdFbvu+8+ZGZmorq6GvPnz0d+vtN0u/dgFefpp5/Gtm3bUFBQgDvvvBNr166FWq0e\n",
       "9D6CIKTnrktzkRyrxdmmLry1y6kPD6XOKuDUrQJ214ofTswI4moIgiDkTSgPWHnchli9enW/923b\n",
       "tq3P21NTU7Fp0yaP7yMIQnqiNCo8NC8fv/ngMP7vi1O4cXImojQqlDeGXrGqVAiw2hgev2YMFGRV\n",
       "RRAE0S9xUXbNaiimWFGCFUEMQRaXZCM7IQoN7Uas+a4CgEvUqsydADhJMVo8f+skvHDrJEzOiQ/2\n",
       "cgiCIGSNLpI0qwRBhBAalQKPXlkIAFi15TTKGzpEHVNuUuhM088fm4arxpMHMEEQxGAMKc0qQRDh\n",
       "wbUT0jEqLRZt3RaseOcAACBNF4EoDQ0pEQRBhBuhrFmlYpUghigKhYBfLhgJwDlRHyp6VYIgCMIz\n",
       "yGeVIIiQZO7IFJTkOvWeco9ZJQiCILyDOqsEQYQkgiDglwucvsh5VKwSBEGEJXzAqstsRbfZGuTV\n",
       "eAYVqwQxxCnJTcA1E4ZBEHp6lxIEQRDhQ6xWBe7wZwix7ioVqwRB4H9vnojvf30Zxmfqg70UgiAI\n",
       "wg8oFAL0on0VFasEQYQYSoWAlNiIYC+DIAiC8CM8GCDUhqyoWCUIgiAIghgCiJ3VztAKBqBilSAI\n",
       "giAIYggQqo4AVKwSBEEQBEEMAXhnlYpVgiAIgiAIQnaEauQqFasEQRAEQRBDAD0fsOoizSpBEARB\n",
       "EAQhM6izShAEQRAEQcgWGrAiCIIgCIIgZAsNWBEEQRAEQRCyhXdWSQZAEARBEARByA59JE+wogEr\n",
       "giAIgiAIQmbwzqqh2wKrjQV5Ne5DxSpBEARBEMQQgGtWAcAQQrpVKlYJgiAIgiCGAGqlAjFaFYDQ\n",
       "GrKiYpUgCIIgCGKIwLurLVSsEgRBEARBEHJDLFZDaMiKilWCIAiCIIghQigGA1CxShAEQRAEMUQI\n",
       "Ra9VKlYJgiAIgiCGCNxrNaw7qw899BByc3MhCALKysrE241GIx588EEUFBRg/PjxWLp0qXhfbm4u\n",
       "Ro4cieLiYhQXF2PdunXifSdPnsT06dNRWFiIkpISHD582Ld3RBAEQRAEQfSJU7MaOsWqytNfuPHG\n",
       "G/HLX/4SM2bM6HH7ihUrIAgCTpw4AUEQUFtb2+P+devWobi4+KLnu++++3DvvffizjvvxNtvv407\n",
       "77wTu3bt8nRZBEEQBEEQxCCIMoCu0Bmw8rhYnTVr1kW3dXR04KWXXkJ1dTUEQQAApKWlDfpc9fX1\n",
       "2L17NzZt2gQAuOGGG/Dggw/i1KlTyM/Pv+jxRqMRRqOxx21Wq9XTt0AQBEEQBDEkiXN0VltDqLMq\n",
       "iWb19OnTSEhIwB//+EdMmTIFM2fOxBdffNHjMbfffjvGjx+PZcuW4cKFCwCAs2fPYtiwYVCp7DWz\n",
       "IAjIzs5GVVVVn6/z1FNPQa/X9/jZuXOnFG+BIAiCIAgi7HF2VodYsWqxWFBZWYkxY8Zg9+7d+L//\n",
       "+z8sXrwYdXV1AICtW7fiwIED2Lt3L5KSknDHHXd49TqPPfYYWltbe/xMnTpVirdAEARBEAQR9vAB\n",
       "q1DyWfVYBtAX2dnZUCgUuPXWWwEAEydOxPDhw3Hw4EGkpqYiOzsbAKBWq/HTn/4UhYWFAICsrCyc\n",
       "P38eFosFKpUKjDFUVVWJj++NVquFVqvtcZtSqZTiLRAEQRAEQYQ9Tp9VS5BX4j6SdFaTkpJw2WWX\n",
       "4bPPPgMAlJeXo7y8HKNHj0ZHRwdaWlrEx/773//GxIkTAQApKSmYNGkS1q5dCwB45513kJmZ2ade\n",
       "lSAIgiAIgvAN7gbQ2mUCYyzIq3EPjzur9913HzZs2IDa2lrMnz8fsbGxOHXqFFatWoVly5bhV7/6\n",
       "FRQKBVavXo2MjAycOXMGN9xwA6xWKxhjyMvLw2uvvSY+3+rVq3HnnXfij3/8I3Q6HdasWSPpGyQI\n",
       "giAIgiDs8M6q2crQabIiWivJRXa/IrBQKav74ZFHHsGzzz4b7GUQBEEQBEHIHsYYRv73RpisNny3\n",
       "Yh4y4iKDvaRBoQQrgiAIgiCIIYIgCNCLkauhMWQl/94vQRAEQRAEIRmPXmEfdE/TRQR5Je5BxSpB\n",
       "EARBEMQQ4uapfbsuyRWSARAEQRAEQRCyhYpVgiAIgiAIQrZQsUoQBEEQBEHIFipWCYIgCIIgCNlC\n",
       "xSpBEARBEAQhW6hYJQiCIAiCIGQLFasEQRAEQRCEbKFilSAIgiAIgpAtVKwSBEEQBEEQsoWKVYIg\n",
       "CIIgCEK2ULFKEARBEARByBaBMcaCvQhfuP7665GbmxuQ17Jardi5cyemTp0KpVIZkNcMdWibeQZt\n",
       "L8+g7eUZtL08g7aX59A284yhtL1ycnLw8MMPe/W7IV+sBhKDwQC9Xo/W1lbodLpgLyckoG3mGbS9\n",
       "PIO2l2fQ9vIM2l6eQ9vMM2h7uQfJAAiCIAiCIAjZQsUqQRAEQRAEIVuoWCUIgiAIgiBkCxWrHqDV\n",
       "avHEE09Aq9UGeykhA20zz6Dt5Rm0vTyDtpdn0PbyHNpmnkHbyz1owIogCIIgCIKQLdRZJQiCIAiC\n",
       "IGQLFasEQRAEQRCEbKFilSAIgiAIgpAtVKwSBEEQBEEQsoWKVYIgCIIgCEK2eFysWiwW/Pa3v8Wo\n",
       "UaMwbtw4FBcX495770VLS4sflteT8+fPo7S0FDabTbLn3L17NxYvXtzv/bm5uRg5ciSKi4sxZswY\n",
       "/OMf/+hx/4EDB3DVVVdJth4AqKioQFxcnKTP8fXXX6O4uBgA0NLSgj/96U89Hj9nzhy8//77PR7n\n",
       "7TqKi4vF7aVUKsV/L168GIIgYPz48SguLsaoUaPwk5/8BFar1ct3aX9fGzduBAC8//772LFjh0e/\n",
       "//jjj+ONN94Y9HF33nknnnvuuR63nT17Fj/4wQ8wfvx48T19+eWXHr1+b/h7KCsrw1tvveXx7199\n",
       "9dU4fvy4V6/99ddfo6ioSPx+jx07FhMnTsSiRYtQVlbm9vMsW7YMY8aMwQ9/+EOv1uEpFRUVWLVq\n",
       "VY9/u/u5Heiz6oq73x938eaz6gv/8z//g+TkZPH9FRcX4w9/+IPHz+O6bd99911MnjxZ/C7PmzcP\n",
       "NpsNzz33HGpra/v8/YG2k+t9g30vc3NzUVZWhldeeQWLFi3qd62unwtX3P27S83NN98s+Wu47ptc\n",
       "94ePP/64+P5iYmIwfPhw8X16u49wh4G2+0AMdqwNBIPVA33hzv7mxz/+Mb766qset0lxrPVlTZ4i\n",
       "9T7QU1Se/sKyZcvQ1NSE7du3Iz4+HowxvP3222hqanJr4/BCU6HwvKn7+9//Hg888IBXv9sfU6ZM\n",
       "wbp16wZ8zLp161BcXIzKykpMmDABM2fOxIQJEwAAEyZMgFarxZdffol58+ZJtq7+sFgsUKk8/rP1\n",
       "gH/QVqxYIdGqesILm4qKChQXF/codNavX49vvvkGcXFxMJlMKCkpwcaNG7Fw4UKvXuvrr79GS0sL\n",
       "FixYgPfffx/FxcUoLS1163ctFgt+97vfefW6AHD//ffjsssuw4cffggAaGhoQGdnp9fPB0B8D3Fx\n",
       "cXj//fdx8803u/V7/Hv1ySef+PT6VVVV2Ldvn/j9BoDNmzfj+PHj4o6KY7VaoVQqe9xWV1eHt956\n",
       "CwaD4aL7/AU/OC5fvtzj3x3os9ofUnx/PP2sSsGtt9560QmXJ1gsFvH/z58/j3vvvRd79uxBTk4O\n",
       "AGDv3r0QBAHPPfcc5syZg7S0tIuegzHmVrPBl+8lZ6DPRVlZGSwWC6qrq8W/uxT71sE4duwY9Hq9\n",
       "357fdX/4u9/9DnfffbdYoP70pz/tt7CXEl++jwMdawOBaz0g5efhX//6V5+3h6pzqL9riD5hHnDy\n",
       "5EkWGRnJLly40Of9f/7zn9mYMWPYuHHj2JIlS1hLSwtjjLEnnniCXX/99ezKK69ko0ePZt9++y3T\n",
       "6/Xs8ccfZ5MmTWIjRoxgGzZsGPC1u7q6WEJCAuvo6BBvA8CefPJJNnXqVJaTk8Pee+899sc//pFN\n",
       "njyZ5efns6+++ooxxpjZbGZXXnklmzx5MhszZgy75ZZbWHt7O2OMsa+++ooVFRUxxhh78cUXWVFR\n",
       "kfijUChYamoq27dvH3vttdfY1KlTWVRUFCssLGQ//OEPWUlJCRs/fjybN28eu+GGGxhjjM2ePZs9\n",
       "+OCDbMqUKWzEiBHskUceYTabbdD7zp8/z2666SZWUlLCRo4cybRarbh9VCoVu+GGG1hJSQlbsmQJ\n",
       "27lzJ5s7dy6bPHkyKy4uZuvXr7/ofebn5zO1Ws0eeughNn78eJaTk8Py8vIYY4zNnz+fCYLAoqKi\n",
       "WFRUFCspKWETJkxgjz76KBs3bhzTaDTsvvvuY+Xl5Uyn07GUlJQe2/2WW25hzz///KCfl/LycqbX\n",
       "68V/v/baawwAGzNmDLv66qvZkSNH2MiRI9mvf/1rdtlll7G5c+eyyMhIFhUVxUaMGMEmTpzIRo0a\n",
       "xa644gpWXV3Nli1bxnJyclhUVBRLSEhgeXl5TKfTsaSkJDZ8+HAWGRnJ0tPTWV5eHhsxYgSbNGkS\n",
       "y8zMZDk5OWzcuHHssssuYyNHjmR33303KyoqYuvXr2d33HEHW7lyJWOMsc2bN7PS0lJWXFzMxowZ\n",
       "w/71r3+Ja3d9HKeoqIitW7eOMcaY1WplDzzwABs1ahSbMGECmzhxInv00UfZhAkTmEKhYIWFhWzM\n",
       "mDFszJgx7IorrmB33XUXmzZtGktNTWVxcXFs7NixbMqUKUyv17O0tDSmVqtZREQEKyoqYpdccolb\n",
       "36vq6mqWk5PD9u3bxxhj7K9//SubMmUKKyoqYlOmTGHbtm0b8O/1+uuvM4VCwRobGxljjG3cuJFd\n",
       "eumlbNKkSaykpIT98pe/ZHPmzGFXX301i46OZoWFhSw1NZWlpKSwoqIiNnHiRJaTk8MUCgUrKipi\n",
       "cXFx7Oc//7n4Hf/zn/8svtZPf/pTFh0dzSIjI1lERAT77W9/yxizf6f/67/+ixUXF7OCggK2du1a\n",
       "8Xc2btzIJk6cyMaPH89mzZrFDh8+zBhjbOTIkeK2uvbaa8XPXX/7l76+P/x3+PcnPT2d6fV6Nnbs\n",
       "WHb11Vez9evXs6KiIrZmzRqWkJDAADCtVsuio6PZ4cOHWWJiIktISGBxcXEsNzeX3XfffWzz5s3i\n",
       "93f06NHi52n27NksKiqKpaens6KiIvbiiy8yxvrff0rBE088wR5++OE+73vjjTfY1KlTWXFxMZsw\n",
       "YQL78MMPxftmz57NfvKTn7DS0lI2d+5ccTvt27ePxcTEsDvuuEN8bHNzM4uMjGRqtZoVFhayoqIi\n",
       "tm/fvh6f06ioKHbnnXey1NRUptVqWXJyMps5cyY7duwYmz17Nrv//vvZPffcw+644w72q1/9igFg\n",
       "7733HvvRj37EEhMTWXZ2Nrv33ntZdHQ0+/nPf85ycnJYZGQkKyoqYuPGjWOTJ09mmzdvZldffTWL\n",
       "iIhggiCwjIwMdu211zLG7J+vxx9/nE2ZMoX9/Oc/ZzfccAPTaDRs5syZbOTIkezmm29mCQkJbPz4\n",
       "8ezqq68W/7Z/+9vf2GWXXcZuvvlmNnr0aDZt2jR2+PBhtmjRInEf1dbWxhjrfz+yYcMGFhERwSIj\n",
       "I5lOp2NpaWls7ty57H/+53/Ev/vEiRPFn/nz57OKiooBn5Mx575p3759LDU1lSUlJbGioiL229/+\n",
       "Vvx78f3/iBEj2Isvvsguu+wylpaWxhISEth7770n/v0AsF//+tc+HVN7fx8ZY2zXrl1s2rRpbPz4\n",
       "8aykpIR9++23F30OXfddTzzxBIuPj2fFxcVMp9MxvV7PCgoKWEZGBsvPz2c333yzeDwtLi5m0dHR\n",
       "LDExkY0ZM4atWrWKzZ49mz3wwAMsJSWFqdVqlpSUxCZOnMi6urrY2bNnWWpqKouKimJarZaNHTtW\n",
       "XHtqaipLTk4Wj7Uff/wxmzJlCpswYQIrKipiO3bsuGjdfBvHxcWx/Px8NmbMGPb555+zNWvWsEWL\n",
       "FrGNGzcynU7H8vLyWElJCbvyyivZXXfdxcaPH8+0Wq34udTpdOJzJiYmsvLy8ouOK5MmTWJdXV19\n",
       "fo/7WpMn+8DB/q6utdL8+fPF/fzkyZMZY/Z9xaOPPspmzJjB8vLy2H333ccYY6ympsbrGsIVj4rV\n",
       "devWsQkTJvR53yeffMJGjRrFmpubGWOM3XPPPWz58uWMMfsHb9iwYay2tpYxZt+QANjbb7/NGGPs\n",
       "008/ZYWFhQO+9tatW8WNIi4eYM899xxjzP5ljo6OZmvWrGGMMbZ+/Xo2ZcoUxhhjNpuNNTQ0iP+/\n",
       "fPly9tRTTzHGev4BXHnyySfZlVdeyXJyctiaNWvYVVddxXbv3s1iY2PZxIkTWXp6uvh8ixcvZlFR\n",
       "UYwx+x9s3rx5zGQysY6ODjZ58mT2xhtvDHrflVdeyb7++mvGmP2kAAB75JFHGGOMpaSkMJ1Ox2w2\n",
       "G2tubmbFxcXs3LlzjDHGLly4wLKyslh1dXWP93nmzBkGgF1//fWMMcb+8Y9/MJVKxQwGA9uyZQtT\n",
       "KpWstbVVfD2NRsOuvfZatnnzZjZ+/HiWm5vL3nnnHabX69mSJUvY6tWrGWOM1dbWsuTkZHHHPBCu\n",
       "xerBgwdZamoqA8DGjRvHUlNTmUKhYLfddhtbs2YN0+l07MCBA8xisbClS5ey3NxclpGRwc6ePcsW\n",
       "LlzILrnkEnb//fezhoYGZrFYWH19PWtsbGR6vZ7dfffdjDH7Tvu///u/WWlpKWttbWWffPIJy8vL\n",
       "YykpKay7u5stXLiQARC3M/8dXoQ2NTUxi8XCGGOssbGRZWdns7Nnz170OM6bb77JYmJi2PTp09nS\n",
       "pUtZdnY2s1qtjDHGfvOb34gHCwDsuuuuY//v//0/tn37dqbVatmoUaPYjh07WEpKCrv88svZH/7w\n",
       "B/bkk0+y9PR0tnLlSrZmzRp23XXXefS9YqznDr++vl68ffv27WzkyJED/r0ef/xxFhERwRhj7PTp\n",
       "0+J2ZMz+GdHpdCwyMpLt379f/PufP3+eLVy4kP373/9m27dvZ3l5eeLfPCcnh912223MZrOJn9Pv\n",
       "vvuOXbhwgSmVSnGdFy5cYOPGjWM7d+5kANh///d/i2uIj49n5eXlrK6ujiUkJLADBw4wxhhbu3Yt\n",
       "Gz16NLPZbBd9hwfav/T3/dm+fTvT6/WsoaFB/KwuXbqUPfXUU+IJMS9WY2NjWWxsLGOMsaVLl7K8\n",
       "vDw2bdo0tmjRInb11VezZ599luXm5rKNGzcyi8XClixZwp599lmWnZ3N9u7dy5KTk9mSJUt6fJ4G\n",
       "+jtLwRNPPCEWMfznrbfeYowx1tDQIJ40l5eXs9TUVNbd3c0Ys++z5s+fz0wmk3i/Xq9nVquVXXvt\n",
       "tUwQBLZw4UL25z//mT3++OPs7rvv7vEZ5K/NP6d8H1hTUyPuAx988EE2f/58Nnv2bPbCCy+w4cOH\n",
       "szvuuIMtWrSITZs2jZWUlLA77riDzZgxg33++eds3LhxLDo6mt12223s5ZdfZjExMWzYsGHsu+++\n",
       "Y7/4xS9YUlISO3r0KPvqq6/Y+PHj2fjx49nOnTsZY/ZjBj8xYoyxG264gSkUCmYwGNjBgwdZSkoK\n",
       "S0hIYM3NzezJJ59ko0aNYnfffbe4j6qsrOzxd+ffvYULF7K///3vjLGB9yNFRUUsPj5e3E/PmjWL\n",
       "JScns+bmZvbGG2+wkSNHigf51157jV199dWDPqfrvqn3SQn/LowZM4a999577NNPP2URERFs1apV\n",
       "rLm5mcXHx7P4+HhWUVHBnn32Wb8cU41GI8vKymIbN25kjDH2zTffsNTU1IuOIa6fm+XLlzNBENiM\n",
       "GTPYK6+8wmbNmsWmTp3Kbr/9dvanP/1JPDmZN28eu/HGG9mjjz7KJk+ezJ5//nmWmZnJJk6cKDZ+\n",
       "2tra2OTJk9mLL77IrFYru/LKK9kHH3zAGGPMZDKxrKwstmTJEsaYvVhNSEhgNpuNHT9+nCUnJ7Oj\n",
       "R4+Kj+3rBJJv4x/+8IfsgQceYNu3b2fJycls+vTp7J///CcrLS1ll156KXvvvffEht+4cePYhg0b\n",
       "xO3UX7G6d+9eNmrUKPG40tLSIv7/QHizD+xdQwz0d+3diGLMvq9YtGgRM5vNrLOzk+Xm5ooNEm9r\n",
       "CFcku+axefNmLF68WJQC3H///bjpppvE+6+++mqkpqaK/46IiMD1118PAJg2bRpOnz494PNXV1f3\n",
       "+H0O15dMmTIFHR0d4mXTqVOn4uTJkwDsrfaVK1diw4YNsFgsaG1txfTp0/t9rddffx3vvPMOtmzZ\n",
       "gvHjx+ORRx5BW1sbtmzZguTkZBw8eBCAXQKgUCjQ2dmJzs5OdHd3AwBuv/12qNVqqNVqLF26FJs3\n",
       "b8aSJUv6ve+6667DF198gbq6OgCAyWSCIAjittRqtWhoaIAgCNi2bRvOnDlzkU72+PHjGDZsmPg+\n",
       "+eVofil2zJgxUKlU2LdvH7Zs2QKbzYZZs2b1eI65c+dCqVRCoVCIl2IA4OGHH8Y999yDe++9Fy++\n",
       "+CJuueUWxMTEDPj36s1XX32FBQsW4NVXX8U333wDxhjS0tJQX1+PzZs3Y9q0aYiMjMRNN92E7du3\n",
       "o7u7G2azGYcOHUJJSQn+9Kc/4c0330RzczPuuecenDhxAiqVCp2dnWhsbBRf5+jRozh16hRmzZqF\n",
       "c+fOQaFQQKVSoaqqCtdddx0+++wzzJ49u881NjY2YtmyZeJzNzY24tChQ8jMzOzz8bfccgsWLFiA\n",
       "r776Cl9++SWqq6sxdepU/OQnP8HHH3+Mjo4OUXd64sQJmEwmlJaWIioqCtOmTcPOnTtx1VVXYdGi\n",
       "Rfi///s/vPPOO3j88cd7XCb19Hvlyr59+/CHP/wBjY2NUKlUOH78OLq6uhAZGTno32vjxo04fvw4\n",
       "UlNTwRhDVFSU+LnIz8/HL37xC3z77bcwGAyoqanB999/j4yMDJw5cwY6nU58nmXLlkEQBCQlJeH6\n",
       "66/H5s2bERsbC5vNhjlz5iA2NhY6nQ6dnZ04cuQIALu+CwDy8vIwa9YsbN26FfHx8aI2GLBf0n7g\n",
       "gQdQU1PT5/r727/09/05c+YMAGDlypV45ZVXYDQasWXLFpjNZrzwwgv47W9/i9GjRwMAJk6ciP37\n",
       "9wOw73fMZjNqa2uxePFiHD9+HJWVlSguLsahQ4ewevVq7N+/H++++y6USiWee+453HLLLWhtbe3x\n",
       "+oP9naWgPxlAeXk5br31VlRXV0OlUqGpqQnl5eUYNWoUAGDp0qVQq9U9fkehUODDDz/ELbfcAovF\n",
       "gu+++w4fffQR3n33XXzxxRcXvYbr5/T222/H119/jb/97W+oqanB66+/joiICIwaNUqUDrS1teHE\n",
       "iRN4/vnncdVVV+G3v/0tli5dijlz5mDx4sX405/+hGXLlqG8vByXXnopRo0ahc2bNyM7OxtNTU24\n",
       "+eab0d7ejpqaGqSlpeHIkSMoKSkBANx999091qbRaBAbG4uvvvoKV111FaKiovDyyy/j/vvvx29+\n",
       "8xu8/vrrOHToEKZNm4bs7GwAzr87f08lJSXi8Waw/cioUaOQmJgobsfMzExR9mMwGLBmzRrs2LGj\n",
       "h5bf032TKxEREUhOTgYAjBs3Dt3d3Vi2bBlUKhVuvvlmbN26FVu3bsULL7wAQPpj6vHjx6FQKDB/\n",
       "/nwAwIwZM5CamoqysjLMmDGjx2MXL16MyMhINDY24vLLL0dZWRmeeeYZ1NbWQqFQoKWlBREREZg4\n",
       "cSK++eYb3H777XjkkUewZ88eZGZmYteuXbj++uvx4Ycf4pe//CWeffZZPPjggygsLMSXX36JW265\n",
       "BV988QXKysrE92mxWHDgwAFxDfHx8RAEAZ9//jkWLFggfg/UanW/Eg6VSoWVK1diypQp+Otf/4qk\n",
       "pCQcO3YM3d3dOHXqFLq6uvCzn/1M/P3LL78cUVFRg/7t8vLyYLFYcPfdd2Pu3LlYuHCh2zJIT/eB\n",
       "vWsId2ql3ixevBgqlQoqlQrFxcU4ffo0pk2bJkkN4ZH4c9KkSTh58mSP4qA/BEHo8e/eC9NqteJj\n",
       "lErloEM2UVFRYjHoSkREhPgcvf/NNVZvvvkmvvzyS2zZsgUHDx7Ez3/+8z6fCwC+/PJL/O53v8OG\n",
       "DRsQGxsLALj22mvxi1/8Ah0dHaJw+fDhwzhw4ADKysqwe/duKJVKaDQat7ZF7/uYQ7fCB2s++eQT\n",
       "6HQ6/OY3vxEfwwsYxhjGjh2LsrIy8aeqqgrz5s3r8T4/++wzKBQKGI3GPl9PpVL1eI5p06Zh+PDh\n",
       "4uNc/yZTp05FVFQUvvrqK/zzn//EAw880O/7cRe+Ta655hocPHgQERERWL58OWbMmIFf//rXuO66\n",
       "61BYWIju7u4e2kf+mIMHD6KsrAyJiYkXfXauuOIKlJWV4bbbbsPy5ctRU1ODgoICCIIw4Be993Pz\n",
       "1x+I+Ph4XH/99fj73/+OV155BU1NTTh27BgOHTqEFStW4JNPPoFKpcLBgwcH1JMKgjDg56T3duP0\n",
       "94U3mUy4/vrr8cwzz+DQoUPYunUrAFz0eXCloKAAJpMJzc3NYIxhwYIF6OrqwqpVqzBr1iysXLkS\n",
       "KSkpePbZZ1FfX49vvvkGFy5cwI033ohbb71VfI3B1q9QKDBs2DB89NFHuPfee9Ha2orXXnsNd9xx\n",
       "h1vv2R3627/09/2ZPn06zGYzvvzySzz88MO47rrrxP1E79d3zfBWKpXiPiciIkLc7yiVSrz88suY\n",
       "MWMGTp06heLiYgwbNgwbNmxw6/vjzXv2lptvvhk//vGPcejQIZSVlSEmJqbH536gg8oTTzyB/fv3\n",
       "47777oNOp+u36eD6HI2NjXjwwQexdu1a/OpXv8LcuXN7vN7ll1+OmpoaNDQ0iCeWW7duxbRp06BS\n",
       "qS7aNnz78+8Q37f961//wsiRI1FeXt7jszXYQfKhhx7CqlWrxKJ74sSJPV4H6Pl35//mx5vB9iOu\n",
       "hX/vffuyZcuQlZWFsrIyHDx4UGyMeLNv4vT+vPZ+rxUVFThw4IBY0Ep9TO2L/j7f69atQ1lZmTik\n",
       "yRjDO++8gzvuuAP3338/jh8/jtWrV0OpVPap93Tdj0ZFReHQoUNYsmQJ6uvr8f777+PUqVNgjGH4\n",
       "8OGoq6tDV1cX/vrXv2LEiBH9biN3yczMxJQpU/DBBx+gqakJV155JRQKBa644gpMmTIFK1euRFlZ\n",
       "GX70ox+JOm9O7+MS35Z6vV58D8eOHcOECRNw6tQpt9bj6T6wdw3hzd+1v++EFDWER8Vqfn4+brjh\n",
       "Bixbtkyc/ucfpry8PKxfvx4GgwEAsHr1alx55ZUeL6g/JkyY4PUEY3NzM5KSkqDT6dDW1oZXXnml\n",
       "z8cdPHgQd999N95//30MGzZMvH327NlYu3YtqqqqAADXXXcdfvGLX4h/iO+//x4FBQXiB27t2rUw\n",
       "m83o6urCm2++icsvv1x8rr7ui4mJwdy5c3tM19lsNlRXV1+0xunTp6O8vBzZ2dliV6msrEwsMvj7\n",
       "bG9vh81mw9mzZwHYO44WiwXFxcW4+uqrYTabsWfPHvF5+d+tPx5++GHcfvvtGD16NAoLCwd8bF/M\n",
       "nTtXnFIFgFWrVmHevHnYunWr2E1pbm5GTk4OBEFAXV2d2L0CgOHDh+OZZ54RH9PQ0ICtW7eirq4O\n",
       "HR0dAACdToeMjAxs3rwZBw4cwOWXX47169eLE/offfSReALSF66vv3Xr1h6v3xcff/yx2MGur6/H\n",
       "rl27UFRUhD/+8Y9IS0vD3//+d3R1dcFiseBf//oXDh8+jJ07d6KzsxPff/89LrnkEnz66ad44YUX\n",
       "cPnll2PVqlXIyspCW1sbdDodWltbxffg6fequ7sbJpNJ7AT97W9/G/R3MjMzodPpsGzZMkybNk3c\n",
       "jnz78u5jc3Oz+DczmUz4+uuv+30N/l1ramrCe++9h8suuwzp6emIiorCqVOn8Jvf/AYzZszApk2b\n",
       "0NTUBABYs2YNAPugxjfffIOZM2eitLQUBw8exKFDhwAAb731FjIyMpCRkSFuK3fg35/NmzeLt/Hv\n",
       "D2MMSUlJuOqqq/Dpp5/ixRdfBGD/rE6aNEnc8atUKnR1dcFkMg34Wh0dHeLn6corr8SpU6eQlZWF\n",
       "wsLCi9bs7d9ZCpqbm8UT1bVr16K5uXnQ36mpqcF3332HUaNGIS8vDz/+8Y8RGRmJESNGDPr3+M9/\n",
       "/gO1Wo24uDi88cYbFz328ssvx6FDh8TP7tixY/H3v/8dl112Gdrb27F+/XoAzs+WyWQSP1uZmZlQ\n",
       "qVRYs2aNuI5Tp06Jn62B4PsonU4nvqcJEyZ4XLwMtB/RarU9ThhHjhyJiooKGAwGLFq0SDwxBACz\n",
       "2Yx9+/YN+pyuDLbt+f6Pf8dUKhVMJhPWrl2LBx980KP32N8xtfcaRo4cCZvNhs8//xyAvbNXW1t7\n",
       "0cBmXyxatAhPP/20WNA3Nzf3KNbWrl2LefPm4fnnn8ebb76JqVOn4t1330V8fDxefvlltLS0YObM\n",
       "/9/e3YU09f9xAH/ryNBopWQtqDSZ1vRsZ9Ph8CkpUbcuNkYzKEkd1EUPVMOL7InExMxAyR68SHaR\n",
       "WLRqVxUoUpRXWaA3YeXSVHrQCcbYtFm634V4/k4321Jr7f95XZ7jOd/z3b7ncz6e78OyYLPZsGnT\n",
       "JvT39yM+Ph6jo6Pctd+6dQvj4+Pzys7Pz0dLSwvi4uLw6dMn/Pjxw+tn+/PnTzQ1NUGv16O2thZW\n",
       "qxWlpaXIz89HW1sb7HY797dWq3Xe8bGxsVwyaTabuZhrtVrhcDiQl5eHqqoqxMbGcj1Qv2uhGOhr\n",
       "rsTn832KgbMtNofwe1q90WgEy7JQKBRISkpCYmIiWltbUVhYCL1ej7S0NIjFYthsNly6dMnvC/Jm\n",
       "69at2LBhA968eeP3sUVFRRgbG8O2bdugUqmQlZXl8e9qa2vhcDhQWFjIzaCcmJhAcnIyampqoNVq\n",
       "wbIs2tvbMTAwAKlUColEgqKiIrdZvSKRCBkZGRCLxcjKynKb0e1tX3NzMywWCxiGgVKpnNe9PSMy\n",
       "MhJNTU34+vUrlEolEhMTUVZWhqmpKbd6lpSUICwsDDabDSzL4vLly9iyZQtWr14NuVwOlUqFzMxM\n",
       "REREQCQSee1OnaHT6WC32/0KaLMxDIMrV64AAAQCAaqqqmCxWMDj8aDRaACAm11YXV2Nnp4eKBQK\n",
       "7vjMzEw4nU6MjIxg//792L59O4xGI2QyGfr6+iCVSuF0OtHW1gY+nw+tVouysjKMjIxAq9VCLBbD\n",
       "4XC4/RMy10z5UqkURqPRrXxPnj9/jpSUFIjFYqSnp6OpqQlv374FwzDIy8uDUqmEVqtFaGgozp07\n",
       "B5VKBb1ejx07dkChUMBgMCAkJAQdHR1obm5Ge3s7bty4AZPJhPLycgwMDODUqVPg8/l+31d8Ph+V\n",
       "lZVITU1FSkqK17f+c23evBlisRj79u1DREQE96a7q6sLra2tAKaDzsuXL5GWloaYmBjYbDbcvXvX\n",
       "YxnR0dFISUlBamoqjh07hvT0dDgcDqxatQonTpxAeHg4njx5gqdPn3IPjMnJSchkMuTl5aG+vh6x\n",
       "sbGIjo5Gc3MzioqKIJFI0NDQgPv37yMkJAQSiQRJSUlgGAZqtXrB+kVGRuLx48eoqqoCy7Lc/eNy\n",
       "ubBixQqMjY1hz549WLNmDb58+YJnz56hvb0dpaWl3DnCwsK466ipqfFaVkFBAdee+vr6wOPxsHv3\n",
       "bgDAgQMHYDKZIJPJ0NjYyLWN5YqfwHSMmb10lcFgAABcvXoVOp0OMpkMnZ2dXJK4kJmVNBISEvDu\n",
       "3TsMDw/j8OHD0Gg0OH78OA4dOuR1dYWZ7niBQIDBwUHs3LnTbX9OTg4cDgf3QDtz5gzsdjvq6+uh\n",
       "VCrBsixCQ0MRHR2N8vJyvHjxgmtbPB4PDMPAbDajuLgYIyMjYFnWp+WIZmKUUqlEd3c3nE7nby3F\n",
       "s1AckUgk6Onp4b73pKQkCIVCpKWlobq6GjExMejo6ADLsm5L4fkam7RaLbq6uiCVShdcUeHevXtg\n",
       "WRY6nY5rBzqdzuc6LvRMnXs/hoWFwWw248KFC5BIJDh58iQePHjgUzdwXV0dwsPDcfv2bTQ0NCAn\n",
       "JwcfP37k9otEIlgsFty8eRO9vb2or6/H2bNnwefzsXHjRsTFxWHt2rX48OEDsrOzoVKp8OjRI9hs\n",
       "NqxcuRICgQBWq9Vj0iUUClFXV4fBwUEolUooFAqvL8xm3oBWVlbi9evXSEhIgFwuh1AoxJ07d/D+\n",
       "/XsYDAaIRCJ0d3fPO/78+fMYHx9HcnIyOjs7uWEig4ODyM3NhUQiAcMwYBhm0UtleouBc3OIhXKl\n",
       "qKgoLgbK5XKfyl1sDuHXBKu/zWQyuY4cOfK3L8ON0+l0icViboWE7OxsbnblXAvt84fJZHJdvHhx\n",
       "0efxx6tXr1zx8fE+De4m/+NpILqnyVrBaO5EG18A4CYZBZNgvn+OHj3qqqioWLbzT0xMcDOg7Xa7\n",
       "KyMjg5sctlyWu06B5F+ta7A+a4PVYmPg8i4qt8QKCgowNDSEqampJV1rdTH6+vpQXV2NdevW/bEy\n",
       "l3rixa8cPHgQra2taGxsDJjPnZB/RbDeP58/f8auXbsQFRWFlpaWZStndHQUKpUKk5OT+P79OzQa\n",
       "Dfbu3bssZf2pOgWC/6e6/q4//awNVksRA0NcrsBZlXZ4eNjjOK3c3FyuCzmQebv+/v7+eQOqgenX\n",
       "8XPHh0VGRs77pYuFqNVqbizt757jV/5GvZZTRUUFzGbzvO2e6jN329DQEL59+4b169dzi+YDwMOH\n",
       "D90G6QcyuVzutsA7MD0u0Jdf8vJHY2Mjrl+/Pm/7tWvXPHYvBVs7WwqLaaszTp8+vey/zDSbv9/7\n",
       "v8Bbnby1QU/jfouLi7ku91/5F793f3V1daGkpGTedn8+pz9JrVajt7fXbRIhj8eDUChcshyFYqB3\n",
       "AZWsEkIIIYQQMlvw9EkRQgghhJCgQ8kqIYQQQggJWJSsEkIIIYSQgEXJKiGEEEIICViUrBJCCCGE\n",
       "kIBFySohhBBCCAlYlKwSQgghhJCA9R9BE5rj5AUfvwAAAABJRU5ErkJggg==\n",
       "\">\n",
       "      </div>\n",
       "      <script type=\"text/javascript\">\n",
       "        (() => {\n",
       "          const chartElement = document.getElementById(\"chart-bfaaab01-06e0-412e-baaf-d6fcce043830\");\n",
       "          async function getCodeForChartHandler(event) {\n",
       "            const chartCodeResponse =  await google.colab.kernel.invokeFunction(\n",
       "                'getCodeForChart', [\"chart-bfaaab01-06e0-412e-baaf-d6fcce043830\"], {});\n",
       "            const responseJson = chartCodeResponse.data['application/json'];\n",
       "            await google.colab.notebook.addCell(responseJson.code, 'code');\n",
       "          }\n",
       "          chartElement.onclick = getCodeForChartHandler;\n",
       "        })();\n",
       "      </script>\n",
       "      <style>\n",
       "        .colab-quickchart-chart-with-code  {\n",
       "            display: block;\n",
       "            float: left;\n",
       "            border: 1px solid transparent;\n",
       "        }\n",
       "\n",
       "        .colab-quickchart-chart-with-code:hover {\n",
       "            cursor: pointer;\n",
       "            border: 1px solid #aaa;\n",
       "        }\n",
       "      </style>"
      ],
      "text/plain": [
       "from matplotlib import pyplot as plt\n",
       "img_per_class['no. of images'].plot(kind='line', figsize=(8, 4), title='no. of images')\n",
       "plt.gca().spines[['top', 'right']].set_visible(False)"
      ]
     },
     "metadata": {},
     "output_type": "display_data"
    }
   ],
   "source": [
    "# Number of images for each disease\n",
    "nums = {}\n",
    "for disease in classes_train:\n",
    "    nums[disease] = len(os.listdir(train_dir + '/' + disease))\n",
    "\n",
    "# converting the nums dictionary to pandas dataframe passing index as plant name and number of images as column\n",
    "\n",
    "img_per_class = pd.DataFrame(nums.values(), index=nums.keys(), columns=[\"no. of images\"])\n",
    "img_per_class"
   ]
  },
  {
   "cell_type": "markdown",
   "metadata": {
    "id": "4gj6__tax9P_"
   },
   "source": [
    "Visualizing the above information on a graph"
   ]
  },
  {
   "cell_type": "code",
   "execution_count": 36,
   "metadata": {
    "colab": {
     "base_uri": "https://localhost:8080/",
     "height": 589
    },
    "id": "ZHNaguXyx3q0",
    "outputId": "73fff89f-0f9d-4e11-e11b-7f4ed6b268c8"
   },
   "outputs": [
    {
     "data": {
      "text/plain": [
       "Text(0.5, 1.0, 'Images per each class of plant disease')"
      ]
     },
     "execution_count": 36,
     "metadata": {},
     "output_type": "execute_result"
    },
    {
     "data": {
      "image/png": "[encoded data removed]",
      "text/plain": [
       "<Figure size 2000x500 with 1 Axes>"
      ]
     },
     "metadata": {},
     "output_type": "display_data"
    }
   ],
   "source": [
    "# plotting number of images available for each disease\n",
    "index = [n for n in range(38)]\n",
    "plt.figure(figsize=(20, 5))\n",
    "plt.bar(index, [n for n in nums.values()], width=0.3)\n",
    "plt.xlabel('Plants/Diseases', fontsize=10)\n",
    "plt.ylabel('No of images available', fontsize=10)\n",
    "plt.xticks(index, classes_train, fontsize=5, rotation=90)\n",
    "plt.title('Images per each class of plant disease')"
   ]
  },
  {
   "cell_type": "markdown",
   "metadata": {
    "id": "47whoOYfyO3L"
   },
   "source": [
    "\n",
    "Images available for training"
   ]
  },
  {
   "cell_type": "code",
   "execution_count": 37,
   "metadata": {
    "colab": {
     "base_uri": "https://localhost:8080/"
    },
    "id": "nH16otGmyUdB",
    "outputId": "6bf839c3-b4df-4fe4-9248-535a3e6c539f"
   },
   "outputs": [
    {
     "name": "stdout",
     "output_type": "stream",
     "text": [
      "There are 70295 images for training\n"
     ]
    }
   ],
   "source": [
    "n_train = 0\n",
    "for value in nums.values():\n",
    "    n_train += value\n",
    "print(f\"There are {n_train} images for training\")"
   ]
  },
  {
   "cell_type": "markdown",
   "metadata": {
    "id": "gnEpvb9wyb78"
   },
   "source": [
    "# Data Preprocessing"
   ]
  },
  {
   "cell_type": "code",
   "execution_count": 14,
   "metadata": {
    "colab": {
     "base_uri": "https://localhost:8080/"
    },
    "id": "ZqIJclyBgi5u",
    "outputId": "ae013182-0476-4e96-9c32-7cb893ab6fbf"
   },
   "outputs": [
    {
     "name": "stdout",
     "output_type": "stream",
     "text": [
      "Found 70295 images belonging to 38 classes.\n",
      "Found 17572 images belonging to 38 classes.\n"
     ]
    }
   ],
   "source": [
    "# Set up data generators for training and validation images with resizing, normalization, and data augmentation.\n",
    "\n",
    "target_size = (100,100)\n",
    "\n",
    "batch_size = 64\n",
    "\n",
    "\n",
    "train_datagen = ImageDataGenerator(\n",
    "    rescale=1./255,\n",
    "    rotation_range=20,\n",
    "    width_shift_range=0.2,\n",
    "    height_shift_range=0.2,\n",
    "    horizontal_flip=True\n",
    ")\n",
    "\n",
    "train_generator = train_datagen.flow_from_directory(\n",
    "    train_dir,\n",
    "    target_size,\n",
    "    batch_size=batch_size,\n",
    "    class_mode='categorical',\n",
    "    shuffle=True\n",
    ")\n",
    "\n",
    "val_datagen = ImageDataGenerator(\n",
    "    rescale=1./255,\n",
    "    rotation_range=20,\n",
    "    width_shift_range=0.2,\n",
    "    height_shift_range=0.2,\n",
    "    horizontal_flip=True\n",
    ")\n",
    "\n",
    "\n",
    "validation_generator = val_datagen.flow_from_directory(\n",
    "    test_dir,\n",
    "    target_size,\n",
    "    batch_size=batch_size,\n",
    "    class_mode='categorical',\n",
    "    shuffle=False\n",
    ")"
   ]
  },
  {
   "cell_type": "code",
   "execution_count": 16,
   "metadata": {
    "id": "NflxAUr7tVay"
   },
   "outputs": [],
   "source": [
    "t_img, label = train_generator.next()"
   ]
  },
  {
   "cell_type": "code",
   "execution_count": 24,
   "metadata": {
    "id": "l5IL5eK9tn1D"
   },
   "outputs": [],
   "source": [
    "def plotimage(img_arr, label):\n",
    "  for im, l in zip(img_arr, label):\n",
    "    plt.figure(figsize=(5,5))\n",
    "    plt.imshow(im)\n",
    "    plt.show()"
   ]
  },
  {
   "cell_type": "code",
   "execution_count": 26,
   "metadata": {
    "colab": {
     "base_uri": "https://localhost:8080/",
     "height": 1000
    },
    "id": "IfTvsFiBuHZc",
    "outputId": "92117d61-24e2-4959-9172-15bfef140102"
   },
   "outputs": [
    {
     "data": {
      "image/png": "[encoded data removed]",
      "text/plain": [
       "<Figure size 500x500 with 1 Axes>"
      ]
     },
     "metadata": {},
     "output_type": "display_data"
    },
    {
     "data": {
      "image/png": "[encoded data removed]",
      "text/plain": [
       "<Figure size 500x500 with 1 Axes>"
      ]
     },
     "metadata": {},
     "output_type": "display_data"
    },
    {
     "data": {
      "image/png": "[encoded data removed]",
      "text/plain": [
       "<Figure size 500x500 with 1 Axes>"
      ]
     },
     "metadata": {},
     "output_type": "display_data"
    },
    {
     "data": {
      "image/png": "[encoded data removed]",
      "text/plain": [
       "<Figure size 500x500 with 1 Axes>"
      ]
     },
     "metadata": {},
     "output_type": "display_data"
    },
    {
     "data": {
      "image/png": "[encoded data removed]",
      "text/plain": [
       "<Figure size 500x500 with 1 Axes>"
      ]
     },
     "metadata": {},
     "output_type": "display_data"
    }
   ],
   "source": [
    "plotimage(t_img[:5], label[:5])"
   ]
  },
  {
   "cell_type": "code",
   "execution_count": null,
   "metadata": {
    "colab": {
     "base_uri": "https://localhost:8080/"
    },
    "id": "Q0TeO1_FgvKI",
    "outputId": "0e9c3881-cdea-48e2-ae9e-4fac91a8735d"
   },
   "outputs": [
    {
     "data": {
      "text/plain": [
       "{'Apple___Apple_scab': 0,\n",
       " 'Apple___Black_rot': 1,\n",
       " 'Apple___Cedar_apple_rust': 2,\n",
       " 'Apple___healthy': 3,\n",
       " 'Blueberry___healthy': 4,\n",
       " 'Cherry_(including_sour)___Powdery_mildew': 5,\n",
       " 'Cherry_(including_sour)___healthy': 6,\n",
       " 'Corn_(maize)___Cercospora_leaf_spot Gray_leaf_spot': 7,\n",
       " 'Corn_(maize)___Common_rust_': 8,\n",
       " 'Corn_(maize)___Northern_Leaf_Blight': 9,\n",
       " 'Corn_(maize)___healthy': 10,\n",
       " 'Grape___Black_rot': 11,\n",
       " 'Grape___Esca_(Black_Measles)': 12,\n",
       " 'Grape___Leaf_blight_(Isariopsis_Leaf_Spot)': 13,\n",
       " 'Grape___healthy': 14,\n",
       " 'Orange___Haunglongbing_(Citrus_greening)': 15,\n",
       " 'Peach___Bacterial_spot': 16,\n",
       " 'Peach___healthy': 17,\n",
       " 'Pepper,_bell___Bacterial_spot': 18,\n",
       " 'Pepper,_bell___healthy': 19,\n",
       " 'Potato___Early_blight': 20,\n",
       " 'Potato___Late_blight': 21,\n",
       " 'Potato___healthy': 22,\n",
       " 'Raspberry___healthy': 23,\n",
       " 'Soybean___healthy': 24,\n",
       " 'Squash___Powdery_mildew': 25,\n",
       " 'Strawberry___Leaf_scorch': 26,\n",
       " 'Strawberry___healthy': 27,\n",
       " 'Tomato___Bacterial_spot': 28,\n",
       " 'Tomato___Early_blight': 29,\n",
       " 'Tomato___Late_blight': 30,\n",
       " 'Tomato___Leaf_Mold': 31,\n",
       " 'Tomato___Septoria_leaf_spot': 32,\n",
       " 'Tomato___Spider_mites Two-spotted_spider_mite': 33,\n",
       " 'Tomato___Target_Spot': 34,\n",
       " 'Tomato___Tomato_Yellow_Leaf_Curl_Virus': 35,\n",
       " 'Tomato___Tomato_mosaic_virus': 36,\n",
       " 'Tomato___healthy': 37}"
      ]
     },
     "execution_count": 21,
     "metadata": {},
     "output_type": "execute_result"
    }
   ],
   "source": [
    "train_generator.class_indices"
   ]
  },
  {
   "cell_type": "code",
   "execution_count": 1,
   "metadata": {
    "colab": {
     "base_uri": "https://localhost:8080/"
    },
    "id": "Or8W2v7FgyWT",
    "outputId": "db846c4e-9608-4273-be60-6d1584005ca6"
   },
   "outputs": [
    {
     "ename": "NameError",
     "evalue": "name 'os' is not defined",
     "output_type": "error",
     "traceback": [
      "\u001b[1;31m---------------------------------------------------------------------------\u001b[0m",
      "\u001b[1;31mNameError\u001b[0m                                 Traceback (most recent call last)",
      "Cell \u001b[1;32mIn[1], line 1\u001b[0m\n\u001b[1;32m----> 1\u001b[0m class_directories \u001b[38;5;241m=\u001b[39m [d \u001b[38;5;28;01mfor\u001b[39;00m d \u001b[38;5;129;01min\u001b[39;00m \u001b[43mos\u001b[49m\u001b[38;5;241m.\u001b[39mlistdir(train_dir) \u001b[38;5;28;01mif\u001b[39;00m os\u001b[38;5;241m.\u001b[39mpath\u001b[38;5;241m.\u001b[39misdir(os\u001b[38;5;241m.\u001b[39mpath\u001b[38;5;241m.\u001b[39mjoin(train_dir, d))]\n\u001b[0;32m      2\u001b[0m num_classes \u001b[38;5;241m=\u001b[39m \u001b[38;5;28mlen\u001b[39m(class_directories)\n\u001b[0;32m      3\u001b[0m num_classes\n",
      "\u001b[1;31mNameError\u001b[0m: name 'os' is not defined"
     ]
    }
   ],
   "source": [
    "class_directories = [d for d in os.listdir(train_dir) if os.path.isdir(os.path.join(train_dir, d))]\n",
    "num_classes = len(class_directories)\n",
    "num_classes"
   ]
  },
  {
   "cell_type": "code",
   "execution_count": 52,
   "metadata": {
    "id": "aAfYAQnmg0_l"
   },
   "outputs": [],
   "source": [
    "# Create a convolutional neural network model consisting of multiple convolutional and pooling layers,\n",
    "# followed by flattening, dense, dropout, and output layers, with specified activation functions and input shape.\n",
    "\n",
    "model = models.Sequential()\n",
    "\n",
    "model.add(layers.Conv2D(32, (3, 3), activation = 'relu', input_shape = (100,100,3)))\n",
    "model.add(layers.MaxPooling2D((2,2)))\n",
    "\n",
    "model.add(layers.Conv2D(64, (3, 3), activation='relu', padding='same'))\n",
    "model.add(layers.MaxPooling2D((2,2)))\n",
    "\n",
    "model.add(layers.Conv2D(128, (3,3), activation = 'relu', padding='same'))\n",
    "model.add(layers.MaxPooling2D((2,2)))\n",
    "\n",
    "model.add(layers.Conv2D(256, (3, 3), activation='relu', padding='same'))\n",
    "model.add(layers.MaxPooling2D((2,2)))\n",
    "\n",
    "model.add(layers.Conv2D(128, (3,3), activation = 'relu', padding='same'))\n",
    "model.add(layers.MaxPooling2D((2,2)))\n",
    "\n",
    "model.add(layers.Conv2D(64, (3, 3), activation='relu', padding='same'))\n",
    "model.add(layers.MaxPooling2D((2,2)))\n",
    "\n",
    "model.add(layers.Flatten())\n",
    "\n",
    "model.add(layers.Dense(128, activation = 'relu'))\n",
    "model.add(layers.Dense(128, activation = 'relu'))\n",
    "\n",
    "model.add(layers.Dropout(0.5))\n",
    "\n",
    "model.add(layers.Dense(num_classes, activation='softmax'))"
   ]
  },
  {
   "cell_type": "code",
   "execution_count": 53,
   "metadata": {
    "id": "SwDz8jsEkxmj"
   },
   "outputs": [],
   "source": [
    "# Compile the model with the Adam optimizer, categorical cross-entropy loss function,\n",
    "# and accuracy metric for evaluation during training.\n",
    "\n",
    "model.compile(optimizer='adam', loss='categorical_crossentropy', metrics=['accuracy'])"
   ]
  },
  {
   "cell_type": "code",
   "execution_count": null,
   "metadata": {
    "colab": {
     "base_uri": "https://localhost:8080/"
    },
    "id": "YVu9MXOak1WO",
    "outputId": "23116a04-5986-4a17-8fe6-a11b66fe9a85"
   },
   "outputs": [
    {
     "name": "stdout",
     "output_type": "stream",
     "text": [
      "Model: \"sequential\"\n",
      "_________________________________________________________________\n",
      " Layer (type)                Output Shape              Param #   \n",
      "=================================================================\n",
      " conv2d (Conv2D)             (None, 98, 98, 32)        896       \n",
      "                                                                 \n",
      " max_pooling2d (MaxPooling2  (None, 49, 49, 32)        0         \n",
      " D)                                                              \n",
      "                                                                 \n",
      " conv2d_1 (Conv2D)           (None, 49, 49, 64)        18496     \n",
      "                                                                 \n",
      " max_pooling2d_1 (MaxPoolin  (None, 24, 24, 64)        0         \n",
      " g2D)                                                            \n",
      "                                                                 \n",
      " conv2d_2 (Conv2D)           (None, 24, 24, 128)       73856     \n",
      "                                                                 \n",
      " max_pooling2d_2 (MaxPoolin  (None, 12, 12, 128)       0         \n",
      " g2D)                                                            \n",
      "                                                                 \n",
      " conv2d_3 (Conv2D)           (None, 12, 12, 256)       295168    \n",
      "                                                                 \n",
      " max_pooling2d_3 (MaxPoolin  (None, 6, 6, 256)         0         \n",
      " g2D)                                                            \n",
      "                                                                 \n",
      " conv2d_4 (Conv2D)           (None, 6, 6, 128)         295040    \n",
      "                                                                 \n",
      " max_pooling2d_4 (MaxPoolin  (None, 3, 3, 128)         0         \n",
      " g2D)                                                            \n",
      "                                                                 \n",
      " conv2d_5 (Conv2D)           (None, 3, 3, 64)          73792     \n",
      "                                                                 \n",
      " max_pooling2d_5 (MaxPoolin  (None, 1, 1, 64)          0         \n",
      " g2D)                                                            \n",
      "                                                                 \n",
      " flatten (Flatten)           (None, 64)                0         \n",
      "                                                                 \n",
      " dense (Dense)               (None, 128)               8320      \n",
      "                                                                 \n",
      " dense_1 (Dense)             (None, 128)               16512     \n",
      "                                                                 \n",
      " dropout (Dropout)           (None, 128)               0         \n",
      "                                                                 \n",
      " dense_2 (Dense)             (None, 38)                4902      \n",
      "                                                                 \n",
      "=================================================================\n",
      "Total params: 786982 (3.00 MB)\n",
      "Trainable params: 786982 (3.00 MB)\n",
      "Non-trainable params: 0 (0.00 Byte)\n",
      "_________________________________________________________________\n"
     ]
    }
   ],
   "source": [
    "model.summary()"
   ]
  },
  {
   "cell_type": "code",
   "execution_count": null,
   "metadata": {
    "colab": {
     "base_uri": "https://localhost:8080/"
    },
    "id": "eTD3G2tIk49Y",
    "outputId": "e10c3b26-b531-4ef8-aca1-fc62dec9d1a9"
   },
   "outputs": [
    {
     "name": "stdout",
     "output_type": "stream",
     "text": [
      "Epoch 1/15\n",
      "1099/1099 [==============================] - 331s 293ms/step - loss: 2.7985 - accuracy: 0.1986 - val_loss: 1.7261 - val_accuracy: 0.4680\n",
      "Epoch 2/15\n",
      "1099/1099 [==============================] - 308s 280ms/step - loss: 1.4282 - accuracy: 0.5604 - val_loss: 0.9510 - val_accuracy: 0.6905\n",
      "Epoch 3/15\n",
      "1099/1099 [==============================] - 305s 278ms/step - loss: 0.9729 - accuracy: 0.6980 - val_loss: 0.7142 - val_accuracy: 0.7667\n",
      "Epoch 4/15\n",
      "1099/1099 [==============================] - 307s 279ms/step - loss: 0.7306 - accuracy: 0.7734 - val_loss: 0.5824 - val_accuracy: 0.8119\n",
      "Epoch 5/15\n",
      "1099/1099 [==============================] - 306s 278ms/step - loss: 0.5932 - accuracy: 0.8184 - val_loss: 0.4391 - val_accuracy: 0.8596\n",
      "Epoch 6/15\n",
      "1099/1099 [==============================] - 305s 278ms/step - loss: 0.4721 - accuracy: 0.8547 - val_loss: 0.3361 - val_accuracy: 0.8926\n",
      "Epoch 7/15\n",
      "1099/1099 [==============================] - 309s 281ms/step - loss: 0.4097 - accuracy: 0.8749 - val_loss: 0.3123 - val_accuracy: 0.9008\n",
      "Epoch 8/15\n",
      "1099/1099 [==============================] - 304s 277ms/step - loss: 0.3527 - accuracy: 0.8907 - val_loss: 0.2580 - val_accuracy: 0.9158\n",
      "Epoch 9/15\n",
      "1099/1099 [==============================] - 306s 278ms/step - loss: 0.3191 - accuracy: 0.9031 - val_loss: 0.2276 - val_accuracy: 0.9250\n",
      "Epoch 10/15\n",
      "1099/1099 [==============================] - 308s 280ms/step - loss: 0.2891 - accuracy: 0.9121 - val_loss: 0.2282 - val_accuracy: 0.9270\n",
      "Epoch 11/15\n",
      "1099/1099 [==============================] - 304s 276ms/step - loss: 0.2690 - accuracy: 0.9187 - val_loss: 0.2161 - val_accuracy: 0.9305\n",
      "Epoch 12/15\n",
      "1099/1099 [==============================] - 306s 279ms/step - loss: 0.2502 - accuracy: 0.9258 - val_loss: 0.2045 - val_accuracy: 0.9346\n",
      "Epoch 13/15\n",
      "1099/1099 [==============================] - 308s 281ms/step - loss: 0.2312 - accuracy: 0.9308 - val_loss: 0.2103 - val_accuracy: 0.9361\n",
      "Epoch 14/15\n",
      "1099/1099 [==============================] - 308s 280ms/step - loss: 0.2326 - accuracy: 0.9317 - val_loss: 0.2574 - val_accuracy: 0.9208\n",
      "Epoch 15/15\n",
      "1099/1099 [==============================] - 307s 279ms/step - loss: 0.2115 - accuracy: 0.9375 - val_loss: 0.1971 - val_accuracy: 0.9405\n"
     ]
    }
   ],
   "source": [
    "# Train the model using the training data generator for a specified number of epochs,\n",
    "# with steps per epoch determined by the length of the training generator,\n",
    "# and validate using the validation data generator with steps determined by the length of the validation generator.\n",
    "\n",
    "num_epochs = 15\n",
    "steps_per_epoch = len(train_generator)\n",
    "validation_steps = len(validation_generator)\n",
    "\n",
    "history = model.fit(\n",
    "    train_generator,\n",
    "    steps_per_epoch=steps_per_epoch,\n",
    "    epochs=num_epochs,\n",
    "    validation_data=validation_generator,\n",
    "    validation_steps=validation_steps,\n",
    ")"
   ]
  },
  {
   "cell_type": "code",
   "execution_count": null,
   "metadata": {
    "colab": {
     "base_uri": "https://localhost:8080/"
    },
    "id": "yP7Ad5hE4rZl",
    "outputId": "fa973a40-6f06-4e33-b2b0-74f05d7774ef"
   },
   "outputs": [
    {
     "name": "stderr",
     "output_type": "stream",
     "text": [
      "/usr/local/lib/python3.10/dist-packages/keras/src/engine/training.py:3103: UserWarning: You are saving your model as an HDF5 file via `model.save()`. This file format is considered legacy. We recommend using instead the native Keras format, e.g. `model.save('my_model.keras')`.\n",
      "  saving_api.save_model(\n"
     ]
    }
   ],
   "source": [
    "model.save(\"disease_identification.h5\")"
   ]
  },
  {
   "cell_type": "code",
   "execution_count": null,
   "metadata": {
    "colab": {
     "base_uri": "https://localhost:8080/",
     "height": 17
    },
    "id": "XFONmG1l4zVf",
    "outputId": "c29ec661-cb55-4a61-a073-8fd5947d8b6d"
   },
   "outputs": [
    {
     "data": {
      "application/javascript": "\n    async function download(id, filename, size) {\n      if (!google.colab.kernel.accessAllowed) {\n        return;\n      }\n      const div = document.createElement('div');\n      const label = document.createElement('label');\n      label.textContent = `Downloading \"${filename}\": `;\n      div.appendChild(label);\n      const progress = document.createElement('progress');\n      progress.max = size;\n      div.appendChild(progress);\n      document.body.appendChild(div);\n\n      const buffers = [];\n      let downloaded = 0;\n\n      const channel = await google.colab.kernel.comms.open(id);\n      // Send a message to notify the kernel that we're ready.\n      channel.send({})\n\n      for await (const message of channel.messages) {\n        // Send a message to notify the kernel that we're ready.\n        channel.send({})\n        if (message.buffers) {\n          for (const buffer of message.buffers) {\n            buffers.push(buffer);\n            downloaded += buffer.byteLength;\n            progress.value = downloaded;\n          }\n        }\n      }\n      const blob = new Blob(buffers, {type: 'application/binary'});\n      const a = document.createElement('a');\n      a.href = window.URL.createObjectURL(blob);\n      a.download = filename;\n      div.appendChild(a);\n      a.click();\n      div.remove();\n    }\n  ",
      "text/plain": [
       "<IPython.core.display.Javascript object>"
      ]
     },
     "metadata": {},
     "output_type": "display_data"
    },
    {
     "data": {
      "application/javascript": "download(\"download_ea056a9c-7455-43a4-87df-6a4c8aac351f\", \"disease_identification.h5\", 9528224)",
      "text/plain": [
       "<IPython.core.display.Javascript object>"
      ]
     },
     "metadata": {},
     "output_type": "display_data"
    }
   ],
   "source": [
    "files.download(\"disease_identification.h5\")"
   ]
  },
  {
   "cell_type": "markdown",
   "metadata": {
    "id": "hCNFHt_R_8yW"
   },
   "source": [
    "**Plotting Training and Validation Accuracy and loss**"
   ]
  },
  {
   "cell_type": "code",
   "execution_count": null,
   "metadata": {
    "colab": {
     "base_uri": "https://localhost:8080/",
     "height": 407
    },
    "id": "k1KuXwBIk_UK",
    "outputId": "d3a30300-31ee-4ec4-f3a9-72610ee2e35c"
   },
   "outputs": [
    {
     "data": {
      "image/png": "[encoded data removed]",
      "text/plain": [
       "<Figure size 1200x400 with 2 Axes>"
      ]
     },
     "metadata": {},
     "output_type": "display_data"
    }
   ],
   "source": [
    "import matplotlib.pyplot as plt\n",
    "\n",
    "\n",
    "plt.figure(figsize=(12, 4))\n",
    "plt.subplot(1, 3, 1)\n",
    "plt.plot(history.history['loss'], label='Training Loss')\n",
    "plt.plot(history.history['val_loss'], label='Validation Loss')\n",
    "plt.title('Training and Validation Loss')\n",
    "plt.xlabel('Epoch')\n",
    "plt.ylabel('Loss')\n",
    "plt.legend()\n",
    "\n",
    "\n",
    "plt.subplot(1, 3, 2)\n",
    "plt.plot(history.history['accuracy'], label='Training Accuracy')\n",
    "plt.plot(history.history['val_accuracy'], label='Validation Accuracy')\n",
    "plt.title('Training and Validation Accuracy')\n",
    "plt.xlabel('Epoch')\n",
    "plt.ylabel('Accuracy')\n",
    "plt.legend()\n",
    "plt.tight_layout()\n",
    "plt.show()\n",
    "\n",
    "\n",
    "\n"
   ]
  },
  {
   "cell_type": "markdown",
   "metadata": {
    "id": "Dct5KvglA95d"
   },
   "source": [
    "**Conclusion**"
   ]
  },
  {
   "cell_type": "markdown",
   "metadata": {
    "id": "uxpI04aQBDjV"
   },
   "source": [
    "In summary, leveraging TensorFlow, we have successfully constructed a plant disease prediction model achieving an accuracy of 94.05%. This model holds significant promise in accurately identifying and diagnosing plant diseases, thereby contributing to the enhancement of agricultural practices and crop yield."
   ]
  },
  {
   "cell_type": "code",
   "execution_count": null,
   "metadata": {
    "id": "HnYzN_WCBMkd"
   },
   "outputs": [],
   "source": []
  }
 ],
 "metadata": {
  "accelerator": "GPU",
  "colab": {
   "gpuType": "T4",
   "provenance": []
  },
  "kernelspec": {
   "display_name": "Python 3",
   "language": "python",
   "name": "python3"
  },
  "language_info": {
   "codemirror_mode": {
    "name": "ipython",
    "version": 3
   },
   "file_extension": ".py",
   "mimetype": "text/x-python",
   "name": "python",
   "nbconvert_exporter": "python",
   "pygments_lexer": "ipython3",
   "version": "3.12.9"
  }
 },
 "nbformat": 4,
 "nbformat_minor": 1
}
